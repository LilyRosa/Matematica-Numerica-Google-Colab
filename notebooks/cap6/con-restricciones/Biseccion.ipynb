{
 "cells": [
  {
   "cell_type": "markdown",
   "metadata": {},
   "source": [
    "<a href=\"https://colab.research.google.com/github/LilyRosa/Matematica-Numerica-Google-Colab/blob/main/notebooks/cap6/con-restricciones/Biseccion.ipynb\" target=\"_parent\"><img src=\"https://colab.research.google.com/assets/colab-badge.svg\" alt=\"Open In Colab\"/></a>"
   ]
  },
  {
   "cell_type": "code",
   "execution_count": 1,
   "metadata": {},
   "outputs": [],
   "source": [
    "import pandas as pd\n",
    "from sympy import *\n",
    "from sympy.abc import x\n",
    "init_printing(use_latex=\"mathjax\")"
   ]
  },
  {
   "cell_type": "markdown",
   "metadata": {},
   "source": [
    "# Método de Bisección"
   ]
  },
  {
   "cell_type": "markdown",
   "metadata": {},
   "source": [
    "## Implementación"
   ]
  },
  {
   "cell_type": "markdown",
   "metadata": {},
   "source": [
    "### Clases Auxiliares de Resultado de Bisección"
   ]
  },
  {
   "cell_type": "code",
   "execution_count": 2,
   "metadata": {},
   "outputs": [],
   "source": [
    "class ResultadoBiseccion:\n",
    "    def __init__(self, calculos_iniciales, resultado, lista):\n",
    "        self.lista = lista\n",
    "        self.resultado = resultado\n",
    "        self.calculos_iniciales = calculos_iniciales\n",
    "\n",
    "class FilaBiseccion:\n",
    "    def __init__(self, a, b, l, x1, x2, y1, y2):\n",
    "        self.a = a\n",
    "        self.b = b\n",
    "        self.l = l\n",
    "        self.x1 = x1\n",
    "        self.x2 = x2\n",
    "        self.y1 = y1\n",
    "        self.y2 = y2"
   ]
  },
  {
   "cell_type": "markdown",
   "metadata": {},
   "source": [
    "### Algoritmo de Bisección"
   ]
  },
  {
   "cell_type": "markdown",
   "metadata": {},
   "source": [
    "``` biseccion_opt(a, b, f, tol): ``` Implementación del método de bisección para optimización con restricciones en funciones unimodales\n",
    "\n",
    "### Parámetros\n",
    "- ``` a ``` : define el extremo inferior del intervalo $[a,b]$\n",
    "- ``` b ``` : define el extremo superior del intervalo $[a,b]$\n",
    "- ``` f ``` : define la función a evaluar $f(x)$\n",
    "- ``` tol ``` : Cota para el error absoluto, o amplitud de la región"
   ]
  },
  {
   "cell_type": "code",
   "execution_count": 3,
   "metadata": {},
   "outputs": [],
   "source": [
    "def biseccion_opt(a, b, f, tol):\n",
    "    lista = []\n",
    "    d = tol/10\n",
    "    f = lambdify(x, f)\n",
    "    \n",
    "    x1 = (a + b) / 2 - d / 2\n",
    "    x2 = (a + b) / 2 + d / 2\n",
    "\n",
    "    y1 = f(x1)\n",
    "    y2 = f(x2)\n",
    "\n",
    "    l = b - a\n",
    "\n",
    "    lista.append(FilaBiseccion(a, b, l, x1, x2, y1, y2))\n",
    "\n",
    "    while l > tol:\n",
    "        if y1 < y2:\n",
    "            a = x1\n",
    "        else:\n",
    "            b = x2\n",
    "        \n",
    "        x1 = (a + b) / 2 - d / 2\n",
    "        x2 = (a + b) / 2 + d / 2\n",
    "\n",
    "        y1 = f(x1)\n",
    "        y2 = f(x2)\n",
    "\n",
    "        l = b - a\n",
    "        \n",
    "        lista.append(FilaBiseccion(a, b, l, x1, x2, y1, y2))\n",
    "\n",
    "    return ResultadoBiseccion(f\"δ={d}\", f\"El intervalo obtenido es: [{a}, {b}]\", lista)"
   ]
  },
  {
   "cell_type": "markdown",
   "metadata": {},
   "source": [
    "### Métodos Auxiliares"
   ]
  },
  {
   "cell_type": "code",
   "execution_count": 4,
   "metadata": {},
   "outputs": [],
   "source": [
    "def convertir_resultados(lista_resultados):\n",
    "    lista = []\n",
    "    for r in lista_resultados:\n",
    "        l = []\n",
    "        l.append('{:.7f}'.format(r.a))\n",
    "        l.append('{:.7f}'.format(r.b))\n",
    "        l.append('{:.7f}'.format(r.l))\n",
    "        l.append('{:.7f}'.format(r.x1))\n",
    "        l.append('{:.7f}'.format(r.x2))\n",
    "        l.append('{:.7f}'.format(r.y1))\n",
    "        l.append('{:.7f}'.format(r.y2))\n",
    "        lista.append(l)\n",
    "\n",
    "    df = pd.DataFrame(data=lista, columns=['a', 'b', 'l', 'x1', 'x2', 'f(x1)', 'f(x2)'])\n",
    "    df.index.name = 'Iteración'\n",
    "    return df"
   ]
  },
  {
   "cell_type": "markdown",
   "metadata": {},
   "source": [
    "# Entrada de datos\n",
    "> **Nota**: La documentación de la creación de funciones en simpy se encuentra en [este enlace](https://colab.research.google.com/github/LilyRosa/Matematica-Numerica-Google-Colab/blob/main/notebooks/tutoriales-generales/Sympy%20Funciones.ipynb)"
   ]
  },
  {
   "cell_type": "code",
   "execution_count": 5,
   "metadata": {},
   "outputs": [],
   "source": [
    "f = x*sin(x)\n",
    "a = 2.0\n",
    "b = 2.1\n",
    "tol = 0.001"
   ]
  },
  {
   "cell_type": "markdown",
   "metadata": {},
   "source": [
    "# Salida de datos"
   ]
  },
  {
   "cell_type": "markdown",
   "metadata": {},
   "source": [
    "## Cálculos previos"
   ]
  },
  {
   "cell_type": "code",
   "execution_count": 6,
   "metadata": {},
   "outputs": [
    {
     "name": "stdout",
     "output_type": "stream",
     "text": [
      "δ=0.0001\n"
     ]
    }
   ],
   "source": [
    "r = biseccion_opt(a, b, f, tol)\n",
    "print(r.calculos_iniciales)"
   ]
  },
  {
   "cell_type": "markdown",
   "metadata": {},
   "source": [
    "## Iteraciones del algoritmo"
   ]
  },
  {
   "cell_type": "code",
   "execution_count": 7,
   "metadata": {},
   "outputs": [
    {
     "data": {
      "text/html": [
       "<div>\n",
       "<style scoped>\n",
       "    .dataframe tbody tr th:only-of-type {\n",
       "        vertical-align: middle;\n",
       "    }\n",
       "\n",
       "    .dataframe tbody tr th {\n",
       "        vertical-align: top;\n",
       "    }\n",
       "\n",
       "    .dataframe thead th {\n",
       "        text-align: right;\n",
       "    }\n",
       "</style>\n",
       "<table border=\"1\" class=\"dataframe\">\n",
       "  <thead>\n",
       "    <tr style=\"text-align: right;\">\n",
       "      <th></th>\n",
       "      <th>a</th>\n",
       "      <th>b</th>\n",
       "      <th>l</th>\n",
       "      <th>x1</th>\n",
       "      <th>x2</th>\n",
       "      <th>f(x1)</th>\n",
       "      <th>f(x2)</th>\n",
       "    </tr>\n",
       "    <tr>\n",
       "      <th>Iteración</th>\n",
       "      <th></th>\n",
       "      <th></th>\n",
       "      <th></th>\n",
       "      <th></th>\n",
       "      <th></th>\n",
       "      <th></th>\n",
       "      <th></th>\n",
       "    </tr>\n",
       "  </thead>\n",
       "  <tbody>\n",
       "    <tr>\n",
       "      <th>0</th>\n",
       "      <td>2.0000000</td>\n",
       "      <td>2.1000000</td>\n",
       "      <td>0.1000000</td>\n",
       "      <td>2.0499500</td>\n",
       "      <td>2.0500500</td>\n",
       "      <td>1.8190957</td>\n",
       "      <td>1.8190900</td>\n",
       "    </tr>\n",
       "    <tr>\n",
       "      <th>1</th>\n",
       "      <td>2.0000000</td>\n",
       "      <td>2.0500500</td>\n",
       "      <td>0.0500500</td>\n",
       "      <td>2.0249750</td>\n",
       "      <td>2.0250750</td>\n",
       "      <td>1.8196864</td>\n",
       "      <td>1.8196874</td>\n",
       "    </tr>\n",
       "    <tr>\n",
       "      <th>2</th>\n",
       "      <td>2.0249750</td>\n",
       "      <td>2.0500500</td>\n",
       "      <td>0.0250750</td>\n",
       "      <td>2.0374625</td>\n",
       "      <td>2.0375625</td>\n",
       "      <td>1.8196031</td>\n",
       "      <td>1.8196007</td>\n",
       "    </tr>\n",
       "    <tr>\n",
       "      <th>3</th>\n",
       "      <td>2.0249750</td>\n",
       "      <td>2.0375625</td>\n",
       "      <td>0.0125875</td>\n",
       "      <td>2.0312187</td>\n",
       "      <td>2.0313187</td>\n",
       "      <td>1.8196975</td>\n",
       "      <td>1.8196969</td>\n",
       "    </tr>\n",
       "    <tr>\n",
       "      <th>4</th>\n",
       "      <td>2.0249750</td>\n",
       "      <td>2.0313187</td>\n",
       "      <td>0.0063437</td>\n",
       "      <td>2.0280969</td>\n",
       "      <td>2.0281969</td>\n",
       "      <td>1.8197052</td>\n",
       "      <td>1.8197053</td>\n",
       "    </tr>\n",
       "    <tr>\n",
       "      <th>5</th>\n",
       "      <td>2.0280969</td>\n",
       "      <td>2.0313187</td>\n",
       "      <td>0.0032219</td>\n",
       "      <td>2.0296578</td>\n",
       "      <td>2.0297578</td>\n",
       "      <td>1.8197046</td>\n",
       "      <td>1.8197044</td>\n",
       "    </tr>\n",
       "    <tr>\n",
       "      <th>6</th>\n",
       "      <td>2.0280969</td>\n",
       "      <td>2.0297578</td>\n",
       "      <td>0.0016609</td>\n",
       "      <td>2.0288773</td>\n",
       "      <td>2.0289773</td>\n",
       "      <td>1.8197057</td>\n",
       "      <td>1.8197057</td>\n",
       "    </tr>\n",
       "    <tr>\n",
       "      <th>7</th>\n",
       "      <td>2.0280969</td>\n",
       "      <td>2.0289773</td>\n",
       "      <td>0.0008805</td>\n",
       "      <td>2.0284871</td>\n",
       "      <td>2.0285871</td>\n",
       "      <td>1.8197056</td>\n",
       "      <td>1.8197057</td>\n",
       "    </tr>\n",
       "  </tbody>\n",
       "</table>\n",
       "</div>"
      ],
      "text/plain": [
       "                   a          b          l         x1         x2      f(x1)  \\\n",
       "Iteración                                                                     \n",
       "0          2.0000000  2.1000000  0.1000000  2.0499500  2.0500500  1.8190957   \n",
       "1          2.0000000  2.0500500  0.0500500  2.0249750  2.0250750  1.8196864   \n",
       "2          2.0249750  2.0500500  0.0250750  2.0374625  2.0375625  1.8196031   \n",
       "3          2.0249750  2.0375625  0.0125875  2.0312187  2.0313187  1.8196975   \n",
       "4          2.0249750  2.0313187  0.0063437  2.0280969  2.0281969  1.8197052   \n",
       "5          2.0280969  2.0313187  0.0032219  2.0296578  2.0297578  1.8197046   \n",
       "6          2.0280969  2.0297578  0.0016609  2.0288773  2.0289773  1.8197057   \n",
       "7          2.0280969  2.0289773  0.0008805  2.0284871  2.0285871  1.8197056   \n",
       "\n",
       "               f(x2)  \n",
       "Iteración             \n",
       "0          1.8190900  \n",
       "1          1.8196874  \n",
       "2          1.8196007  \n",
       "3          1.8196969  \n",
       "4          1.8197053  \n",
       "5          1.8197044  \n",
       "6          1.8197057  \n",
       "7          1.8197057  "
      ]
     },
     "execution_count": 7,
     "metadata": {},
     "output_type": "execute_result"
    }
   ],
   "source": [
    "convertir_resultados(r.lista)"
   ]
  },
  {
   "cell_type": "markdown",
   "metadata": {},
   "source": [
    "## Resultados del algoritmo"
   ]
  },
  {
   "cell_type": "code",
   "execution_count": 8,
   "metadata": {},
   "outputs": [
    {
     "name": "stdout",
     "output_type": "stream",
     "text": [
      "El intervalo obtenido es: [2.028096875, 2.02897734375]\n"
     ]
    }
   ],
   "source": [
    "print(r.resultado)"
   ]
  }
 ],
 "metadata": {
  "interpreter": {
   "hash": "5f1e2b7debabb81cfddc515bc2208cf2c521bebfebb13da0ee988ea546d02c25"
  },
  "kernelspec": {
   "display_name": "Python 3 (ipykernel)",
   "language": "python",
   "name": "python3"
  },
  "language_info": {
   "codemirror_mode": {
    "name": "ipython",
    "version": 3
   },
   "file_extension": ".py",
   "mimetype": "text/x-python",
   "name": "python",
   "nbconvert_exporter": "python",
   "pygments_lexer": "ipython3",
   "version": "3.11.4"
  }
 },
 "nbformat": 4,
 "nbformat_minor": 4
}
