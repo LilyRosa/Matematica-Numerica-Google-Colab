{
 "cells": [
  {
   "cell_type": "markdown",
   "metadata": {},
   "source": [
    "<a href=\"https://colab.research.google.com/github/LilyRosa/Matematica-Numerica-Google-Colab/blob/main/notebooks/cap6/con-restricciones/Seccion-Dorada.ipynb\" target=\"_parent\"><img src=\"https://colab.research.google.com/assets/colab-badge.svg\" alt=\"Open In Colab\"/></a>"
   ]
  },
  {
   "cell_type": "code",
   "execution_count": 1,
   "metadata": {},
   "outputs": [],
   "source": [
    "import pandas as pd\n",
    "from sympy import *\n",
    "from sympy.abc import x\n",
    "init_printing(use_latex=\"mathjax\")"
   ]
  },
  {
   "cell_type": "markdown",
   "metadata": {},
   "source": [
    "# Sección de Oro"
   ]
  },
  {
   "cell_type": "markdown",
   "metadata": {},
   "source": [
    "## Implementación"
   ]
  },
  {
   "cell_type": "markdown",
   "metadata": {},
   "source": [
    "### Clases Auxiliares de Resultado de Sección de Oro"
   ]
  },
  {
   "cell_type": "code",
   "execution_count": 2,
   "metadata": {},
   "outputs": [],
   "source": [
    "class ResultadoSeccionDorada:\n",
    "    def __init__(self, resultado, lista):\n",
    "        self.lista = lista\n",
    "        self.resultado = resultado\n",
    "\n",
    "class FilaSeccionDorada:\n",
    "    def __init__(self, a, b, l, x1, x2, y1, y2):\n",
    "        self.a = a\n",
    "        self.b = b\n",
    "        self.l = l\n",
    "        self.x1 = x1\n",
    "        self.x2 = x2\n",
    "        self.y1 = y1\n",
    "        self.y2 = y2"
   ]
  },
  {
   "cell_type": "markdown",
   "metadata": {},
   "source": [
    "### Algoritmo de Sección de Oro"
   ]
  },
  {
   "cell_type": "markdown",
   "metadata": {},
   "source": [
    "``` seccion_dorada_opt(a, b, f, tol): ``` Implementación del método de sección de oro para optimización con restricciones en funciones unimodales\n",
    "\n",
    "### Parámetros\n",
    "- ``` a ``` : define el extremo inferior del intervalo $[a,b]$\n",
    "- ``` b ``` : define el extremo superior del intervalo $[a,b]$\n",
    "- ``` f ``` : define la función a evaluar $f(x)$\n",
    "- ``` tol ``` : Cota para el error absoluto, o amplitud de la región"
   ]
  },
  {
   "cell_type": "code",
   "execution_count": 3,
   "metadata": {},
   "outputs": [],
   "source": [
    "def seccion_dorada_opt(a, b, f, tol):\n",
    "    lista = []\n",
    "    factor = 0.381966\n",
    "    f = lambdify(x, f)\n",
    "\n",
    "    l = b - a\n",
    "\n",
    "    x1 = a + factor * l\n",
    "    x2 = b - factor * l\n",
    "\n",
    "    y1 = f(x1)\n",
    "    y2 = f(x2)\n",
    "\n",
    "    lista.append(FilaSeccionDorada(a, b, l, x1, x2, y1, y2))\n",
    "\n",
    "    while l > tol:\n",
    "        if y1 < y2:\n",
    "            a = x1\n",
    "            x1 = x2\n",
    "            y1 = y2\n",
    "            l = b - a\n",
    "            x2 = b - factor * l\n",
    "            y2 = f(x2) \n",
    "        else:\n",
    "            b = x2\n",
    "            x2 = x1\n",
    "            y2 = y1\n",
    "            l = b - a\n",
    "            x1 = a + factor * l\n",
    "            y1 = f(x1)\n",
    "\n",
    "        lista.append(FilaSeccionDorada(a, b, l, x1, x2, y1, y2))\n",
    "\n",
    "    return ResultadoSeccionDorada(f\"El intervalo obtenido es: [{a}, {b}]\", lista)"
   ]
  },
  {
   "cell_type": "markdown",
   "metadata": {},
   "source": [
    "### Métodos Auxiliares"
   ]
  },
  {
   "cell_type": "code",
   "execution_count": 4,
   "metadata": {},
   "outputs": [],
   "source": [
    "def convertir_resultados(lista_resultados):\n",
    "    lista = []\n",
    "    for r in lista_resultados:\n",
    "        l = []\n",
    "        l.append('{:.7f}'.format(r.a))\n",
    "        l.append('{:.7f}'.format(r.b))\n",
    "        l.append('{:.7f}'.format(r.l))\n",
    "        l.append('{:.7f}'.format(r.x1))\n",
    "        l.append('{:.7f}'.format(r.x2))\n",
    "        l.append('{:.7f}'.format(r.y1))\n",
    "        l.append('{:.7f}'.format(r.y2))\n",
    "        lista.append(l)\n",
    "\n",
    "    df = pd.DataFrame(data=lista, columns=['a', 'b', 'l', 'x1', 'x2', 'f(x1)', 'f(x2)'])\n",
    "    df.index.name = 'Iteración'\n",
    "    return df"
   ]
  },
  {
   "cell_type": "markdown",
   "metadata": {},
   "source": [
    "# Entrada de datos\n",
    "> **Nota**: La documentación de la creación de funciones en simpy se encuentra en [este enlace](https://colab.research.google.com/github/LilyRosa/Matematica-Numerica-Google-Colab/blob/main/notebooks/tutoriales-generales/Sympy%20Funciones.ipynb)"
   ]
  },
  {
   "cell_type": "code",
   "execution_count": 5,
   "metadata": {},
   "outputs": [],
   "source": [
    "f = x*sin(x)\n",
    "a = 2.0\n",
    "b = 2.1\n",
    "tol = 0.001"
   ]
  },
  {
   "cell_type": "markdown",
   "metadata": {},
   "source": [
    "# Salida de datos"
   ]
  },
  {
   "cell_type": "markdown",
   "metadata": {},
   "source": [
    "## Iteraciones del algoritmo"
   ]
  },
  {
   "cell_type": "code",
   "execution_count": 6,
   "metadata": {},
   "outputs": [
    {
     "data": {
      "text/html": [
       "<div>\n",
       "<style scoped>\n",
       "    .dataframe tbody tr th:only-of-type {\n",
       "        vertical-align: middle;\n",
       "    }\n",
       "\n",
       "    .dataframe tbody tr th {\n",
       "        vertical-align: top;\n",
       "    }\n",
       "\n",
       "    .dataframe thead th {\n",
       "        text-align: right;\n",
       "    }\n",
       "</style>\n",
       "<table border=\"1\" class=\"dataframe\">\n",
       "  <thead>\n",
       "    <tr style=\"text-align: right;\">\n",
       "      <th></th>\n",
       "      <th>a</th>\n",
       "      <th>b</th>\n",
       "      <th>l</th>\n",
       "      <th>x1</th>\n",
       "      <th>x2</th>\n",
       "      <th>f(x1)</th>\n",
       "      <th>f(x2)</th>\n",
       "    </tr>\n",
       "    <tr>\n",
       "      <th>Iteración</th>\n",
       "      <th></th>\n",
       "      <th></th>\n",
       "      <th></th>\n",
       "      <th></th>\n",
       "      <th></th>\n",
       "      <th></th>\n",
       "      <th></th>\n",
       "    </tr>\n",
       "  </thead>\n",
       "  <tbody>\n",
       "    <tr>\n",
       "      <th>0</th>\n",
       "      <td>2.0000000</td>\n",
       "      <td>2.1000000</td>\n",
       "      <td>0.1000000</td>\n",
       "      <td>2.0381966</td>\n",
       "      <td>2.0618034</td>\n",
       "      <td>1.8195850</td>\n",
       "      <td>1.8182188</td>\n",
       "    </tr>\n",
       "    <tr>\n",
       "      <th>1</th>\n",
       "      <td>2.0000000</td>\n",
       "      <td>2.0618034</td>\n",
       "      <td>0.0618034</td>\n",
       "      <td>2.0236068</td>\n",
       "      <td>2.0381966</td>\n",
       "      <td>1.8196699</td>\n",
       "      <td>1.8195850</td>\n",
       "    </tr>\n",
       "    <tr>\n",
       "      <th>2</th>\n",
       "      <td>2.0000000</td>\n",
       "      <td>2.0381966</td>\n",
       "      <td>0.0381966</td>\n",
       "      <td>2.0145898</td>\n",
       "      <td>2.0236068</td>\n",
       "      <td>1.8194352</td>\n",
       "      <td>1.8196699</td>\n",
       "    </tr>\n",
       "    <tr>\n",
       "      <th>3</th>\n",
       "      <td>2.0145898</td>\n",
       "      <td>2.0381966</td>\n",
       "      <td>0.0236068</td>\n",
       "      <td>2.0236068</td>\n",
       "      <td>2.0291796</td>\n",
       "      <td>1.8196699</td>\n",
       "      <td>1.8197055</td>\n",
       "    </tr>\n",
       "    <tr>\n",
       "      <th>4</th>\n",
       "      <td>2.0236068</td>\n",
       "      <td>2.0381966</td>\n",
       "      <td>0.0145898</td>\n",
       "      <td>2.0291796</td>\n",
       "      <td>2.0326238</td>\n",
       "      <td>1.8197055</td>\n",
       "      <td>1.8196855</td>\n",
       "    </tr>\n",
       "    <tr>\n",
       "      <th>5</th>\n",
       "      <td>2.0236068</td>\n",
       "      <td>2.0326238</td>\n",
       "      <td>0.0090170</td>\n",
       "      <td>2.0270510</td>\n",
       "      <td>2.0291796</td>\n",
       "      <td>1.8197018</td>\n",
       "      <td>1.8197055</td>\n",
       "    </tr>\n",
       "    <tr>\n",
       "      <th>6</th>\n",
       "      <td>2.0270510</td>\n",
       "      <td>2.0326238</td>\n",
       "      <td>0.0055728</td>\n",
       "      <td>2.0291796</td>\n",
       "      <td>2.0304952</td>\n",
       "      <td>1.8197055</td>\n",
       "      <td>1.8197017</td>\n",
       "    </tr>\n",
       "    <tr>\n",
       "      <th>7</th>\n",
       "      <td>2.0270510</td>\n",
       "      <td>2.0304952</td>\n",
       "      <td>0.0034442</td>\n",
       "      <td>2.0283665</td>\n",
       "      <td>2.0291796</td>\n",
       "      <td>1.8197055</td>\n",
       "      <td>1.8197055</td>\n",
       "    </tr>\n",
       "    <tr>\n",
       "      <th>8</th>\n",
       "      <td>2.0270510</td>\n",
       "      <td>2.0291796</td>\n",
       "      <td>0.0021286</td>\n",
       "      <td>2.0278640</td>\n",
       "      <td>2.0283665</td>\n",
       "      <td>1.8197047</td>\n",
       "      <td>1.8197055</td>\n",
       "    </tr>\n",
       "    <tr>\n",
       "      <th>9</th>\n",
       "      <td>2.0278640</td>\n",
       "      <td>2.0291796</td>\n",
       "      <td>0.0013156</td>\n",
       "      <td>2.0283665</td>\n",
       "      <td>2.0286771</td>\n",
       "      <td>1.8197055</td>\n",
       "      <td>1.8197057</td>\n",
       "    </tr>\n",
       "    <tr>\n",
       "      <th>10</th>\n",
       "      <td>2.0283665</td>\n",
       "      <td>2.0291796</td>\n",
       "      <td>0.0008131</td>\n",
       "      <td>2.0286771</td>\n",
       "      <td>2.0288690</td>\n",
       "      <td>1.8197057</td>\n",
       "      <td>1.8197057</td>\n",
       "    </tr>\n",
       "  </tbody>\n",
       "</table>\n",
       "</div>"
      ],
      "text/plain": [
       "                   a          b          l         x1         x2      f(x1)  \\\n",
       "Iteración                                                                     \n",
       "0          2.0000000  2.1000000  0.1000000  2.0381966  2.0618034  1.8195850   \n",
       "1          2.0000000  2.0618034  0.0618034  2.0236068  2.0381966  1.8196699   \n",
       "2          2.0000000  2.0381966  0.0381966  2.0145898  2.0236068  1.8194352   \n",
       "3          2.0145898  2.0381966  0.0236068  2.0236068  2.0291796  1.8196699   \n",
       "4          2.0236068  2.0381966  0.0145898  2.0291796  2.0326238  1.8197055   \n",
       "5          2.0236068  2.0326238  0.0090170  2.0270510  2.0291796  1.8197018   \n",
       "6          2.0270510  2.0326238  0.0055728  2.0291796  2.0304952  1.8197055   \n",
       "7          2.0270510  2.0304952  0.0034442  2.0283665  2.0291796  1.8197055   \n",
       "8          2.0270510  2.0291796  0.0021286  2.0278640  2.0283665  1.8197047   \n",
       "9          2.0278640  2.0291796  0.0013156  2.0283665  2.0286771  1.8197055   \n",
       "10         2.0283665  2.0291796  0.0008131  2.0286771  2.0288690  1.8197057   \n",
       "\n",
       "               f(x2)  \n",
       "Iteración             \n",
       "0          1.8182188  \n",
       "1          1.8195850  \n",
       "2          1.8196699  \n",
       "3          1.8197055  \n",
       "4          1.8196855  \n",
       "5          1.8197055  \n",
       "6          1.8197017  \n",
       "7          1.8197055  \n",
       "8          1.8197055  \n",
       "9          1.8197057  \n",
       "10         1.8197057  "
      ]
     },
     "execution_count": 6,
     "metadata": {},
     "output_type": "execute_result"
    }
   ],
   "source": [
    "r = seccion_dorada_opt(a, b, f, tol)\n",
    "convertir_resultados(r.lista)"
   ]
  },
  {
   "cell_type": "markdown",
   "metadata": {},
   "source": [
    "## Resultados del algoritmo"
   ]
  },
  {
   "cell_type": "code",
   "execution_count": 7,
   "metadata": {},
   "outputs": [
    {
     "name": "stdout",
     "output_type": "stream",
     "text": [
      "El intervalo obtenido es: [2.0283665443228736, 2.029179605992074]\n"
     ]
    }
   ],
   "source": [
    "print(r.resultado)"
   ]
  }
 ],
 "metadata": {
  "interpreter": {
   "hash": "5f1e2b7debabb81cfddc515bc2208cf2c521bebfebb13da0ee988ea546d02c25"
  },
  "kernelspec": {
   "display_name": "Python 3 (ipykernel)",
   "language": "python",
   "name": "python3"
  },
  "language_info": {
   "codemirror_mode": {
    "name": "ipython",
    "version": 3
   },
   "file_extension": ".py",
   "mimetype": "text/x-python",
   "name": "python",
   "nbconvert_exporter": "python",
   "pygments_lexer": "ipython3",
   "version": "3.11.4"
  }
 },
 "nbformat": 4,
 "nbformat_minor": 4
}
