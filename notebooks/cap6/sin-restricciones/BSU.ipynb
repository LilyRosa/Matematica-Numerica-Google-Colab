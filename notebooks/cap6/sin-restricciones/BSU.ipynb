{
 "cells": [
  {
   "cell_type": "markdown",
   "metadata": {},
   "source": [
    "<a href=\"https://colab.research.google.com/github/LilyRosa/Matematica-Numerica-Google-Colab/blob/main/notebooks/cap6/sin-restricciones/BSU.ipynb\" target=\"_parent\"><img src=\"https://colab.research.google.com/assets/colab-badge.svg\" alt=\"Open In Colab\"/></a>"
   ]
  },
  {
   "cell_type": "code",
   "execution_count": 1,
   "metadata": {},
   "outputs": [],
   "source": [
    "import pandas as pd\n",
    "from sympy import *\n",
    "from sympy.abc import x\n",
    "init_printing(use_latex=\"mathjax\")"
   ]
  },
  {
   "cell_type": "markdown",
   "metadata": {},
   "source": [
    "# Búsqueda Secuencial Uniforme"
   ]
  },
  {
   "cell_type": "markdown",
   "metadata": {},
   "source": [
    "## Implementación"
   ]
  },
  {
   "cell_type": "markdown",
   "metadata": {},
   "source": [
    "### Clases Auxiliares de Resultado de BSU"
   ]
  },
  {
   "cell_type": "code",
   "execution_count": 2,
   "metadata": {},
   "outputs": [],
   "source": [
    "class ResultadoBSU:\n",
    "    def __init__(self, resultado1, resultado2, lista):\n",
    "        self.lista = lista\n",
    "        self.resultado1 = resultado1\n",
    "        self.resultado2 = resultado2\n",
    "\n",
    "class FilaBSU:\n",
    "    def __init__(self, x1, x2, x3, y1, y2, y3):\n",
    "        self.x1 = x1\n",
    "        self.x2 = x2\n",
    "        self.x3 = x3\n",
    "        self.y1 = y1\n",
    "        self.y2 = y2\n",
    "        self.y3 = y3"
   ]
  },
  {
   "cell_type": "markdown",
   "metadata": {},
   "source": [
    "### Algoritmo de Búsqueda Secuencial Uniforme"
   ]
  },
  {
   "cell_type": "markdown",
   "metadata": {},
   "source": [
    "``` bsu(f, x0, s, max): ``` Implementación del método de búsqueda secuencial uniforme para optimización sin restricciones en funciones unimodales\n",
    "\n",
    "#### Parámetros\n",
    "\n",
    "- ``` f ``` : define la función a optimizar $f(x)$\n",
    "- ``` x0 ``` : punto de inicio de la búsqueda $x_0$\n",
    "- ``` s ``` : paso $s$\n",
    "- ``` max ```: determina si se busca un punto máximo o mínimo"
   ]
  },
  {
   "cell_type": "code",
   "execution_count": 3,
   "metadata": {},
   "outputs": [],
   "source": [
    "def bsu(f, x0, s, max):\n",
    "    lista = []\n",
    "    f = lambdify(x, f)\n",
    "    x1 = x0\n",
    "    x2 = x1 + s\n",
    "    x3 = x2 + s\n",
    "\n",
    "    y1 = f(x1)\n",
    "    y2 = f(x2)\n",
    "    y3 = f(x3)\n",
    "\n",
    "    lista.append(FilaBSU(x1, x2, x3, y1, y2, y3)) \n",
    "\n",
    "    if max:\n",
    "        while y3 > y2:\n",
    "            x1 = x1 + s\n",
    "            x2 = x2 + s\n",
    "            x3 = x3 + s\n",
    "\n",
    "            y1 = f(x1)\n",
    "            y2 = f(x2)\n",
    "            y3 = f(x3)\n",
    "\n",
    "            lista.append(FilaBSU(x1, x2, x3, y1, y2, y3)) \n",
    "    else:\n",
    "        while y3 < y2:\n",
    "            x1 = x1 + s\n",
    "            x2 = x2 + s\n",
    "            x3 = x3 + s\n",
    "\n",
    "            y1 = f(x1)\n",
    "            y2 = f(x2)\n",
    "            y3 = f(x3)\n",
    "            \n",
    "            lista.append(FilaBSU(x1, x2, x3, y1, y2, y3)) \n",
    "\n",
    "    resultado1 = ''\n",
    "    resultado2 = f\"Se obtiene el intervalo [{'{:.7f}'.format(x1)},{'{:.7f}'.format(x3)}]\"\n",
    "    if max:\n",
    "        resultado1 = f\"El punto máximo es: y = {'{:.7f}'.format(y2)} y se alcanza en x = {'{:.7f}'.format(x2)}\"\n",
    "    else:\n",
    "        resultado1 = f\"El punto mínimo es: y = {'{:.7f}'.format(y2)} y se alcanza en x = {'{:.7f}'.format(x2)}\"\n",
    "    return ResultadoBSU(resultado1, resultado2, lista)"
   ]
  },
  {
   "cell_type": "markdown",
   "metadata": {},
   "source": [
    "### Métodos Auxiliares"
   ]
  },
  {
   "cell_type": "code",
   "execution_count": 4,
   "metadata": {},
   "outputs": [],
   "source": [
    "def convertir_resultados(lista_resultados):\n",
    "    lista = []\n",
    "    for r in lista_resultados:\n",
    "        l = []\n",
    "        l.append('{:.7f}'.format(r.x1))\n",
    "        l.append('{:.7f}'.format(r.x2))\n",
    "        l.append('{:.7f}'.format(r.x3))\n",
    "        l.append('{:.7f}'.format(r.y1))\n",
    "        l.append('{:.7f}'.format(r.y2))\n",
    "        l.append('{:.7f}'.format(r.y3))\n",
    "        lista.append(l)\n",
    "\n",
    "    df = pd.DataFrame(data=lista, columns=['x1', 'x2', 'x3', 'y1', 'y2', 'y3'])\n",
    "    df = df.reset_index(drop=True)\n",
    "    df.index = df.index + 1\n",
    "    df.index.name = 'Iteración'\n",
    "    return df"
   ]
  },
  {
   "cell_type": "markdown",
   "metadata": {},
   "source": [
    "# Entrada de datos\n",
    "> **Nota**: La documentación de la creación de funciones en simpy se encuentra en [este enlace](https://colab.research.google.com/github/LilyRosa/Matematica-Numerica-Google-Colab/blob/main/notebooks/tutoriales-generales/Sympy%20Funciones.ipynb)"
   ]
  },
  {
   "cell_type": "code",
   "execution_count": 5,
   "metadata": {},
   "outputs": [],
   "source": [
    "f = sin(x)\n",
    "x0 = 0\n",
    "s = 0.1\n",
    "max = True"
   ]
  },
  {
   "cell_type": "markdown",
   "metadata": {},
   "source": [
    "# Salida de datos"
   ]
  },
  {
   "cell_type": "markdown",
   "metadata": {},
   "source": [
    "## Iteraciones del algoritmo"
   ]
  },
  {
   "cell_type": "code",
   "execution_count": 6,
   "metadata": {},
   "outputs": [
    {
     "data": {
      "text/html": [
       "<div>\n",
       "<style scoped>\n",
       "    .dataframe tbody tr th:only-of-type {\n",
       "        vertical-align: middle;\n",
       "    }\n",
       "\n",
       "    .dataframe tbody tr th {\n",
       "        vertical-align: top;\n",
       "    }\n",
       "\n",
       "    .dataframe thead th {\n",
       "        text-align: right;\n",
       "    }\n",
       "</style>\n",
       "<table border=\"1\" class=\"dataframe\">\n",
       "  <thead>\n",
       "    <tr style=\"text-align: right;\">\n",
       "      <th></th>\n",
       "      <th>x1</th>\n",
       "      <th>x2</th>\n",
       "      <th>x3</th>\n",
       "      <th>y1</th>\n",
       "      <th>y2</th>\n",
       "      <th>y3</th>\n",
       "    </tr>\n",
       "    <tr>\n",
       "      <th>Iteración</th>\n",
       "      <th></th>\n",
       "      <th></th>\n",
       "      <th></th>\n",
       "      <th></th>\n",
       "      <th></th>\n",
       "      <th></th>\n",
       "    </tr>\n",
       "  </thead>\n",
       "  <tbody>\n",
       "    <tr>\n",
       "      <th>1</th>\n",
       "      <td>0.0000000</td>\n",
       "      <td>0.1000000</td>\n",
       "      <td>0.2000000</td>\n",
       "      <td>0.0000000</td>\n",
       "      <td>0.0998334</td>\n",
       "      <td>0.1986693</td>\n",
       "    </tr>\n",
       "    <tr>\n",
       "      <th>2</th>\n",
       "      <td>0.1000000</td>\n",
       "      <td>0.2000000</td>\n",
       "      <td>0.3000000</td>\n",
       "      <td>0.0998334</td>\n",
       "      <td>0.1986693</td>\n",
       "      <td>0.2955202</td>\n",
       "    </tr>\n",
       "    <tr>\n",
       "      <th>3</th>\n",
       "      <td>0.2000000</td>\n",
       "      <td>0.3000000</td>\n",
       "      <td>0.4000000</td>\n",
       "      <td>0.1986693</td>\n",
       "      <td>0.2955202</td>\n",
       "      <td>0.3894183</td>\n",
       "    </tr>\n",
       "    <tr>\n",
       "      <th>4</th>\n",
       "      <td>0.3000000</td>\n",
       "      <td>0.4000000</td>\n",
       "      <td>0.5000000</td>\n",
       "      <td>0.2955202</td>\n",
       "      <td>0.3894183</td>\n",
       "      <td>0.4794255</td>\n",
       "    </tr>\n",
       "    <tr>\n",
       "      <th>5</th>\n",
       "      <td>0.4000000</td>\n",
       "      <td>0.5000000</td>\n",
       "      <td>0.6000000</td>\n",
       "      <td>0.3894183</td>\n",
       "      <td>0.4794255</td>\n",
       "      <td>0.5646425</td>\n",
       "    </tr>\n",
       "    <tr>\n",
       "      <th>6</th>\n",
       "      <td>0.5000000</td>\n",
       "      <td>0.6000000</td>\n",
       "      <td>0.7000000</td>\n",
       "      <td>0.4794255</td>\n",
       "      <td>0.5646425</td>\n",
       "      <td>0.6442177</td>\n",
       "    </tr>\n",
       "    <tr>\n",
       "      <th>7</th>\n",
       "      <td>0.6000000</td>\n",
       "      <td>0.7000000</td>\n",
       "      <td>0.8000000</td>\n",
       "      <td>0.5646425</td>\n",
       "      <td>0.6442177</td>\n",
       "      <td>0.7173561</td>\n",
       "    </tr>\n",
       "    <tr>\n",
       "      <th>8</th>\n",
       "      <td>0.7000000</td>\n",
       "      <td>0.8000000</td>\n",
       "      <td>0.9000000</td>\n",
       "      <td>0.6442177</td>\n",
       "      <td>0.7173561</td>\n",
       "      <td>0.7833269</td>\n",
       "    </tr>\n",
       "    <tr>\n",
       "      <th>9</th>\n",
       "      <td>0.8000000</td>\n",
       "      <td>0.9000000</td>\n",
       "      <td>1.0000000</td>\n",
       "      <td>0.7173561</td>\n",
       "      <td>0.7833269</td>\n",
       "      <td>0.8414710</td>\n",
       "    </tr>\n",
       "    <tr>\n",
       "      <th>10</th>\n",
       "      <td>0.9000000</td>\n",
       "      <td>1.0000000</td>\n",
       "      <td>1.1000000</td>\n",
       "      <td>0.7833269</td>\n",
       "      <td>0.8414710</td>\n",
       "      <td>0.8912074</td>\n",
       "    </tr>\n",
       "    <tr>\n",
       "      <th>11</th>\n",
       "      <td>1.0000000</td>\n",
       "      <td>1.1000000</td>\n",
       "      <td>1.2000000</td>\n",
       "      <td>0.8414710</td>\n",
       "      <td>0.8912074</td>\n",
       "      <td>0.9320391</td>\n",
       "    </tr>\n",
       "    <tr>\n",
       "      <th>12</th>\n",
       "      <td>1.1000000</td>\n",
       "      <td>1.2000000</td>\n",
       "      <td>1.3000000</td>\n",
       "      <td>0.8912074</td>\n",
       "      <td>0.9320391</td>\n",
       "      <td>0.9635582</td>\n",
       "    </tr>\n",
       "    <tr>\n",
       "      <th>13</th>\n",
       "      <td>1.2000000</td>\n",
       "      <td>1.3000000</td>\n",
       "      <td>1.4000000</td>\n",
       "      <td>0.9320391</td>\n",
       "      <td>0.9635582</td>\n",
       "      <td>0.9854497</td>\n",
       "    </tr>\n",
       "    <tr>\n",
       "      <th>14</th>\n",
       "      <td>1.3000000</td>\n",
       "      <td>1.4000000</td>\n",
       "      <td>1.5000000</td>\n",
       "      <td>0.9635582</td>\n",
       "      <td>0.9854497</td>\n",
       "      <td>0.9974950</td>\n",
       "    </tr>\n",
       "    <tr>\n",
       "      <th>15</th>\n",
       "      <td>1.4000000</td>\n",
       "      <td>1.5000000</td>\n",
       "      <td>1.6000000</td>\n",
       "      <td>0.9854497</td>\n",
       "      <td>0.9974950</td>\n",
       "      <td>0.9995736</td>\n",
       "    </tr>\n",
       "    <tr>\n",
       "      <th>16</th>\n",
       "      <td>1.5000000</td>\n",
       "      <td>1.6000000</td>\n",
       "      <td>1.7000000</td>\n",
       "      <td>0.9974950</td>\n",
       "      <td>0.9995736</td>\n",
       "      <td>0.9916648</td>\n",
       "    </tr>\n",
       "  </tbody>\n",
       "</table>\n",
       "</div>"
      ],
      "text/plain": [
       "                  x1         x2         x3         y1         y2         y3\n",
       "Iteración                                                                  \n",
       "1          0.0000000  0.1000000  0.2000000  0.0000000  0.0998334  0.1986693\n",
       "2          0.1000000  0.2000000  0.3000000  0.0998334  0.1986693  0.2955202\n",
       "3          0.2000000  0.3000000  0.4000000  0.1986693  0.2955202  0.3894183\n",
       "4          0.3000000  0.4000000  0.5000000  0.2955202  0.3894183  0.4794255\n",
       "5          0.4000000  0.5000000  0.6000000  0.3894183  0.4794255  0.5646425\n",
       "6          0.5000000  0.6000000  0.7000000  0.4794255  0.5646425  0.6442177\n",
       "7          0.6000000  0.7000000  0.8000000  0.5646425  0.6442177  0.7173561\n",
       "8          0.7000000  0.8000000  0.9000000  0.6442177  0.7173561  0.7833269\n",
       "9          0.8000000  0.9000000  1.0000000  0.7173561  0.7833269  0.8414710\n",
       "10         0.9000000  1.0000000  1.1000000  0.7833269  0.8414710  0.8912074\n",
       "11         1.0000000  1.1000000  1.2000000  0.8414710  0.8912074  0.9320391\n",
       "12         1.1000000  1.2000000  1.3000000  0.8912074  0.9320391  0.9635582\n",
       "13         1.2000000  1.3000000  1.4000000  0.9320391  0.9635582  0.9854497\n",
       "14         1.3000000  1.4000000  1.5000000  0.9635582  0.9854497  0.9974950\n",
       "15         1.4000000  1.5000000  1.6000000  0.9854497  0.9974950  0.9995736\n",
       "16         1.5000000  1.6000000  1.7000000  0.9974950  0.9995736  0.9916648"
      ]
     },
     "execution_count": 6,
     "metadata": {},
     "output_type": "execute_result"
    }
   ],
   "source": [
    "r = bsu(f, x0, s, max)\n",
    "convertir_resultados(r.lista)"
   ]
  },
  {
   "cell_type": "markdown",
   "metadata": {},
   "source": [
    "## Resultados del algoritmo"
   ]
  },
  {
   "cell_type": "code",
   "execution_count": 7,
   "metadata": {},
   "outputs": [
    {
     "name": "stdout",
     "output_type": "stream",
     "text": [
      "El punto máximo es: y = 0.9995736 y se alcanza en x = 1.6000000\n",
      "Se obtiene el intervalo [1.5000000,1.7000000]\n"
     ]
    }
   ],
   "source": [
    "print(r.resultado1)\n",
    "print(r.resultado2)"
   ]
  }
 ],
 "metadata": {
  "interpreter": {
   "hash": "5f1e2b7debabb81cfddc515bc2208cf2c521bebfebb13da0ee988ea546d02c25"
  },
  "kernelspec": {
   "display_name": "Python 3 (ipykernel)",
   "language": "python",
   "name": "python3"
  },
  "language_info": {
   "codemirror_mode": {
    "name": "ipython",
    "version": 3
   },
   "file_extension": ".py",
   "mimetype": "text/x-python",
   "name": "python",
   "nbconvert_exporter": "python",
   "pygments_lexer": "ipython3",
   "version": "3.11.4"
  }
 },
 "nbformat": 4,
 "nbformat_minor": 4
}
