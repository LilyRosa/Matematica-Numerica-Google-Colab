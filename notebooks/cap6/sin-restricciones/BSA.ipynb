{
 "cells": [
  {
   "cell_type": "markdown",
   "metadata": {},
   "source": [
    "<a href=\"https://colab.research.google.com/github/LilyRosa/Matematica-Numerica-Google-Colab/blob/main/notebooks/cap6/sin-restricciones/BSU.ipynb\" target=\"_parent\"><img src=\"https://colab.research.google.com/assets/colab-badge.svg\" alt=\"Open In Colab\"/></a>"
   ]
  },
  {
   "cell_type": "code",
   "execution_count": 1,
   "metadata": {},
   "outputs": [],
   "source": [
    "import pandas as pd\n",
    "from sympy import *\n",
    "from sympy.abc import x\n",
    "init_printing(use_latex=\"mathjax\")"
   ]
  },
  {
   "cell_type": "markdown",
   "metadata": {},
   "source": [
    "# Búsqueda Secuencial Acelerada"
   ]
  },
  {
   "cell_type": "markdown",
   "metadata": {},
   "source": [
    "## Implementación"
   ]
  },
  {
   "cell_type": "markdown",
   "metadata": {},
   "source": [
    "### Clases Auxiliares de Resultado de BSA"
   ]
  },
  {
   "cell_type": "code",
   "execution_count": 2,
   "metadata": {},
   "outputs": [],
   "source": [
    "class ResultadoBSA:\n",
    "    def __init__(self, resultado1, resultado2, lista):\n",
    "        self.lista = lista\n",
    "        self.resultado1 = resultado1\n",
    "        self.resultado2 = resultado2\n",
    "\n",
    "class FilaBSA:\n",
    "    def __init__(self, x1, x2, x3, y1, y2, y3):\n",
    "        self.x1 = x1\n",
    "        self.x2 = x2\n",
    "        self.x3 = x3\n",
    "        self.y1 = y1\n",
    "        self.y2 = y2\n",
    "        self.y3 = y3"
   ]
  },
  {
   "cell_type": "markdown",
   "metadata": {},
   "source": [
    "### Algoritmo de Búsqueda Secuencial Acelerada"
   ]
  },
  {
   "cell_type": "markdown",
   "metadata": {},
   "source": [
    "``` bsa(f, x0, s, max): ``` Implementación del método de búsqueda secuencial acelerada para optimización sin restricciones en funciones unimodales\n",
    "\n",
    "### Parámetros\n",
    "\n",
    "- ``` f ``` : define la función a optimizar $f(x)$\n",
    "- ``` x0 ``` : punto de inicio de la búsqueda $x_0$\n",
    "- ``` s ``` : paso $s$\n",
    "- ``` max ```: determina si se busca un punto máximo o mínimo"
   ]
  },
  {
   "cell_type": "code",
   "execution_count": 3,
   "metadata": {},
   "outputs": [],
   "source": [
    "def bsa(f, x0, s, max):\n",
    "    lista = []\n",
    "    f = lambdify(x, f)\n",
    "    x1 = x0\n",
    "    x2 = x1 + s\n",
    "    s *= 2\n",
    "    x3 = x2 + s\n",
    "\n",
    "    s /= 2\n",
    "\n",
    "    y1 = f(x1)\n",
    "    y2 = f(x2)\n",
    "    y3 = f(x3)\n",
    "\n",
    "    lista.append(FilaBSA(x1, x2, x3, y1, y2, y3)) \n",
    "\n",
    "    if max:\n",
    "        while (y3 > y2):\n",
    "            x1 = x1 + s\n",
    "            s *= 2\n",
    "            x2 = x2 + s\n",
    "            s *= 2\n",
    "            x3 = x3 + s\n",
    "\n",
    "            s /= 2\n",
    "\n",
    "            y1 = f(x1)\n",
    "            y2 = f(x2)\n",
    "            y3 = f(x3)\n",
    "\n",
    "            lista.append(FilaBSA(x1, x2, x3, y1, y2, y3)) \n",
    "    else:\n",
    "        while (y3 < y2):\n",
    "            x1 = x1 + s\n",
    "            s *= 2\n",
    "            x2 = x2 + s\n",
    "            s *= 2\n",
    "            x3 = x3 + s\n",
    "\n",
    "            s /= 2\n",
    "\n",
    "            y1 = f(x1)\n",
    "            y2 = f(x2)\n",
    "            y3 = f(x3)\n",
    "\n",
    "            lista.append(FilaBSA(x1, x2, x3, y1, y2, y3)) \n",
    "\n",
    "    resultado1 = ''\n",
    "    resultado2 = f\"Se obtiene el intervalo [{'{:.7f}'.format(x1)},{'{:.7f}'.format(x3)}]\"\n",
    "    if max:\n",
    "        resultado1 = f\"El punto máximo es: y = {'{:.7f}'.format(y2)} y se alcanza en x = {'{:.7f}'.format(x2)}\"\n",
    "    else:\n",
    "        resultado1 = f\"El punto mínimo es: y = {'{:.7f}'.format(y2)} y se alcanza en x = {'{:.7f}'.format(x2)}\"\n",
    "    return ResultadoBSA(resultado1, resultado2, lista)"
   ]
  },
  {
   "cell_type": "markdown",
   "metadata": {},
   "source": [
    "### Métodos Auxiliares"
   ]
  },
  {
   "cell_type": "code",
   "execution_count": 4,
   "metadata": {},
   "outputs": [],
   "source": [
    "def convertir_resultados(lista_resultados):\n",
    "    lista = []\n",
    "    for r in lista_resultados:\n",
    "        l = []\n",
    "        l.append('{:.7f}'.format(r.x1))\n",
    "        l.append('{:.7f}'.format(r.x2))\n",
    "        l.append('{:.7f}'.format(r.x3))\n",
    "        l.append('{:.7f}'.format(r.y1))\n",
    "        l.append('{:.7f}'.format(r.y2))\n",
    "        l.append('{:.7f}'.format(r.y3))\n",
    "        lista.append(l)\n",
    "\n",
    "    df = pd.DataFrame(data=lista, columns=['x1', 'x2', 'x3', 'y1', 'y2', 'y3'])\n",
    "    df = df.reset_index(drop=True)\n",
    "    df.index = df.index + 1\n",
    "    df.index.name = 'Iteración'\n",
    "    return df"
   ]
  },
  {
   "cell_type": "markdown",
   "metadata": {},
   "source": [
    "# Entrada de datos\n",
    "> **Nota**: La documentación de la creación de funciones en simpy se encuentra en [este enlace](https://colab.research.google.com/github/LilyRosa/Matematica-Numerica-Google-Colab/blob/main/notebooks/tutoriales-generales/Sympy%20Funciones.ipynb)"
   ]
  },
  {
   "cell_type": "code",
   "execution_count": 5,
   "metadata": {},
   "outputs": [],
   "source": [
    "f = sin(x)\n",
    "x0 = 0\n",
    "s = 0.1\n",
    "max = True"
   ]
  },
  {
   "cell_type": "markdown",
   "metadata": {},
   "source": [
    "# Salida de datos"
   ]
  },
  {
   "cell_type": "markdown",
   "metadata": {},
   "source": [
    "## Iteraciones del algoritmo"
   ]
  },
  {
   "cell_type": "code",
   "execution_count": 6,
   "metadata": {},
   "outputs": [
    {
     "data": {
      "text/html": [
       "<div>\n",
       "<style scoped>\n",
       "    .dataframe tbody tr th:only-of-type {\n",
       "        vertical-align: middle;\n",
       "    }\n",
       "\n",
       "    .dataframe tbody tr th {\n",
       "        vertical-align: top;\n",
       "    }\n",
       "\n",
       "    .dataframe thead th {\n",
       "        text-align: right;\n",
       "    }\n",
       "</style>\n",
       "<table border=\"1\" class=\"dataframe\">\n",
       "  <thead>\n",
       "    <tr style=\"text-align: right;\">\n",
       "      <th></th>\n",
       "      <th>x1</th>\n",
       "      <th>x2</th>\n",
       "      <th>x3</th>\n",
       "      <th>y1</th>\n",
       "      <th>y2</th>\n",
       "      <th>y3</th>\n",
       "    </tr>\n",
       "    <tr>\n",
       "      <th>Iteración</th>\n",
       "      <th></th>\n",
       "      <th></th>\n",
       "      <th></th>\n",
       "      <th></th>\n",
       "      <th></th>\n",
       "      <th></th>\n",
       "    </tr>\n",
       "  </thead>\n",
       "  <tbody>\n",
       "    <tr>\n",
       "      <th>1</th>\n",
       "      <td>0.0000000</td>\n",
       "      <td>0.1000000</td>\n",
       "      <td>0.3000000</td>\n",
       "      <td>0.0000000</td>\n",
       "      <td>0.0998334</td>\n",
       "      <td>0.2955202</td>\n",
       "    </tr>\n",
       "    <tr>\n",
       "      <th>2</th>\n",
       "      <td>0.1000000</td>\n",
       "      <td>0.3000000</td>\n",
       "      <td>0.7000000</td>\n",
       "      <td>0.0998334</td>\n",
       "      <td>0.2955202</td>\n",
       "      <td>0.6442177</td>\n",
       "    </tr>\n",
       "    <tr>\n",
       "      <th>3</th>\n",
       "      <td>0.3000000</td>\n",
       "      <td>0.7000000</td>\n",
       "      <td>1.5000000</td>\n",
       "      <td>0.2955202</td>\n",
       "      <td>0.6442177</td>\n",
       "      <td>0.9974950</td>\n",
       "    </tr>\n",
       "    <tr>\n",
       "      <th>4</th>\n",
       "      <td>0.7000000</td>\n",
       "      <td>1.5000000</td>\n",
       "      <td>3.1000000</td>\n",
       "      <td>0.6442177</td>\n",
       "      <td>0.9974950</td>\n",
       "      <td>0.0415807</td>\n",
       "    </tr>\n",
       "  </tbody>\n",
       "</table>\n",
       "</div>"
      ],
      "text/plain": [
       "                  x1         x2         x3         y1         y2         y3\n",
       "Iteración                                                                  \n",
       "1          0.0000000  0.1000000  0.3000000  0.0000000  0.0998334  0.2955202\n",
       "2          0.1000000  0.3000000  0.7000000  0.0998334  0.2955202  0.6442177\n",
       "3          0.3000000  0.7000000  1.5000000  0.2955202  0.6442177  0.9974950\n",
       "4          0.7000000  1.5000000  3.1000000  0.6442177  0.9974950  0.0415807"
      ]
     },
     "execution_count": 6,
     "metadata": {},
     "output_type": "execute_result"
    }
   ],
   "source": [
    "r = bsa(f, x0, s, max)\n",
    "convertir_resultados(r.lista)"
   ]
  },
  {
   "cell_type": "markdown",
   "metadata": {},
   "source": [
    "## Resultados del algoritmo"
   ]
  },
  {
   "cell_type": "code",
   "execution_count": 7,
   "metadata": {},
   "outputs": [
    {
     "name": "stdout",
     "output_type": "stream",
     "text": [
      "El punto máximo es: y = 0.9974950 y se alcanza en x = 1.5000000\n",
      "Se obtiene el intervalo [0.7000000,3.1000000]\n"
     ]
    }
   ],
   "source": [
    "print(r.resultado1)\n",
    "print(r.resultado2)"
   ]
  }
 ],
 "metadata": {
  "interpreter": {
   "hash": "5f1e2b7debabb81cfddc515bc2208cf2c521bebfebb13da0ee988ea546d02c25"
  },
  "kernelspec": {
   "display_name": "Python 3 (ipykernel)",
   "language": "python",
   "name": "python3"
  },
  "language_info": {
   "codemirror_mode": {
    "name": "ipython",
    "version": 3
   },
   "file_extension": ".py",
   "mimetype": "text/x-python",
   "name": "python",
   "nbconvert_exporter": "python",
   "pygments_lexer": "ipython3",
   "version": "3.11.4"
  }
 },
 "nbformat": 4,
 "nbformat_minor": 4
}
