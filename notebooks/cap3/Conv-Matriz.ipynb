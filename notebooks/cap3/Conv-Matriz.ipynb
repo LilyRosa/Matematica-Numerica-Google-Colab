{
 "cells": [
  {
   "cell_type": "markdown",
   "id": "76c65919-d0fe-4089-8fd5-e1d41d2fb14f",
   "metadata": {},
   "source": [
    "<a href=\"https://colab.research.google.com/github/LilyRosa/Matematica-Numerica-Google-Colab/blob/main/notebooks/cap3/Conv-Matriz.ipynb\" target=\"_parent\"><img src=\"https://colab.research.google.com/assets/colab-badge.svg\" alt=\"Open In Colab\"/></a>"
   ]
  },
  {
   "cell_type": "code",
   "execution_count": 1,
   "id": "013e9139-48ba-42e7-b1e5-bdb54777e887",
   "metadata": {},
   "outputs": [],
   "source": [
    "from numpy import array\n",
    "import pandas as pd"
   ]
  },
  {
   "cell_type": "markdown",
   "id": "9fd72ad2-75e9-4aab-8403-91a7b4170d8c",
   "metadata": {},
   "source": [
    "### Conversión de $AX=B$ a la forma $X=MX+C$"
   ]
  },
  {
   "cell_type": "markdown",
   "id": "64571e99-e447-46a3-8f48-e8dc49e4825e",
   "metadata": {},
   "source": [
    "## Implementación"
   ]
  },
  {
   "cell_type": "markdown",
   "id": "88164ce7-d380-44cf-bd8e-32a42d7b60bf",
   "metadata": {},
   "source": [
    "### Convertir a matriz $M$"
   ]
  },
  {
   "cell_type": "markdown",
   "id": "c8bfc5c5-3bbb-4d15-8fba-c0889e307afe",
   "metadata": {},
   "source": [
    "` convertir_matriz_m(a): ` Convertir a la matriz $M$ de la forma $X=MX+C$\n",
    "\n",
    "##### Parámetros\n",
    "- ` a ` : matriz de los coeficientes $A$"
   ]
  },
  {
   "cell_type": "code",
   "execution_count": 2,
   "id": "2b88a018-b49e-4bcf-b6c4-82c90279675f",
   "metadata": {},
   "outputs": [],
   "source": [
    "def convertir_matriz_m(a):\n",
    "    matrizM = array(a,dtype=float)\n",
    "    for i in range(a.shape[0]):\n",
    "        for j in range(a.shape[0]):\n",
    "            if i != j:\n",
    "                matrizM[i][j] = (a[i][j] * (-1)) / a[i][i]\n",
    "            else:\n",
    "                matrizM[i][i] = 0\n",
    "    return matrizM"
   ]
  },
  {
   "cell_type": "markdown",
   "id": "f301e71c-0b10-4cbe-b64a-f36a200a3ad0",
   "metadata": {},
   "source": [
    "### Convertir a matriz C"
   ]
  },
  {
   "cell_type": "markdown",
   "id": "bcdd2498-ea88-464a-8350-cf3a1bd7ad5e",
   "metadata": {},
   "source": [
    "` convertir_matriz_c(a, b): ` Convertir a la matriz $C$ de la forma $X=MX+C$\n",
    "\n",
    "##### Parámetros\n",
    "- ` a ` : matriz de los coeficientes $A$\n",
    "- ` b ` : matriz de los términos independientes $B$"
   ]
  },
  {
   "cell_type": "code",
   "execution_count": 3,
   "id": "a2e3bc14-504a-476e-a306-48906880bbf4",
   "metadata": {},
   "outputs": [],
   "source": [
    "def convertir_matriz_c(a, b):\n",
    "    matrizC = array(b, dtype=float)\n",
    "    for i in range(b.shape[0]):\n",
    "        matrizC[i] = b[i] / a[i][i]\n",
    "    return matrizC"
   ]
  },
  {
   "cell_type": "markdown",
   "id": "6c2d8353-4294-4b54-adec-8932f225afda",
   "metadata": {},
   "source": [
    "## Inserción de datos"
   ]
  },
  {
   "cell_type": "markdown",
   "id": "88f6ddb2-7a40-4717-9ee1-f24c45e1bc4d",
   "metadata": {},
   "source": [
    "#### Datos\n",
    "\n",
    "- ` a ` : matriz de los coeficientes $A$\n",
    "- ` b ` : matriz de los términos independientes $B$"
   ]
  },
  {
   "cell_type": "code",
   "execution_count": 4,
   "id": "c4aa41eb-b353-4a0d-82b5-cdea38bae79c",
   "metadata": {},
   "outputs": [],
   "source": [
    "a = array([[5, -1, 1],\n",
    "           [2, 5, -1],\n",
    "           [-1, 1, 5]])\n",
    "\n",
    "b = array([10, 12, 10])"
   ]
  },
  {
   "cell_type": "markdown",
   "id": "d3870a5b-e425-4a43-9b9b-5a145111246e",
   "metadata": {},
   "source": [
    "## Salida de datos"
   ]
  },
  {
   "cell_type": "markdown",
   "id": "c9e57324-588f-403b-a851-4a7a9c05437d",
   "metadata": {},
   "source": [
    "### Matrices sin convertir"
   ]
  },
  {
   "cell_type": "markdown",
   "id": "5d3e4de6-2cfb-49e9-93be-0a40fbbe8761",
   "metadata": {},
   "source": [
    "#### Matriz $A$"
   ]
  },
  {
   "cell_type": "code",
   "execution_count": 5,
   "id": "70db6f7a-38dd-4729-9cdd-474abe9ec5f8",
   "metadata": {},
   "outputs": [
    {
     "data": {
      "text/html": [
       "<div>\n",
       "<style scoped>\n",
       "    .dataframe tbody tr th:only-of-type {\n",
       "        vertical-align: middle;\n",
       "    }\n",
       "\n",
       "    .dataframe tbody tr th {\n",
       "        vertical-align: top;\n",
       "    }\n",
       "\n",
       "    .dataframe thead th {\n",
       "        text-align: right;\n",
       "    }\n",
       "</style>\n",
       "<table border=\"1\" class=\"dataframe\">\n",
       "  <thead>\n",
       "    <tr style=\"text-align: right;\">\n",
       "      <th></th>\n",
       "      <th>0</th>\n",
       "      <th>1</th>\n",
       "      <th>2</th>\n",
       "    </tr>\n",
       "  </thead>\n",
       "  <tbody>\n",
       "    <tr>\n",
       "      <th>0</th>\n",
       "      <td>5</td>\n",
       "      <td>-1</td>\n",
       "      <td>1</td>\n",
       "    </tr>\n",
       "    <tr>\n",
       "      <th>1</th>\n",
       "      <td>2</td>\n",
       "      <td>5</td>\n",
       "      <td>-1</td>\n",
       "    </tr>\n",
       "    <tr>\n",
       "      <th>2</th>\n",
       "      <td>-1</td>\n",
       "      <td>1</td>\n",
       "      <td>5</td>\n",
       "    </tr>\n",
       "  </tbody>\n",
       "</table>\n",
       "</div>"
      ],
      "text/plain": [
       "   0  1  2\n",
       "0  5 -1  1\n",
       "1  2  5 -1\n",
       "2 -1  1  5"
      ]
     },
     "execution_count": 5,
     "metadata": {},
     "output_type": "execute_result"
    }
   ],
   "source": [
    "pd.DataFrame(data=a)"
   ]
  },
  {
   "cell_type": "markdown",
   "id": "c383dc51-1172-41cb-a65c-6dd8f3beb5e4",
   "metadata": {},
   "source": [
    "#### Matriz $B$"
   ]
  },
  {
   "cell_type": "code",
   "execution_count": 6,
   "id": "5f235311-2edd-4264-be4f-a458de587bd3",
   "metadata": {},
   "outputs": [
    {
     "data": {
      "text/html": [
       "<div>\n",
       "<style scoped>\n",
       "    .dataframe tbody tr th:only-of-type {\n",
       "        vertical-align: middle;\n",
       "    }\n",
       "\n",
       "    .dataframe tbody tr th {\n",
       "        vertical-align: top;\n",
       "    }\n",
       "\n",
       "    .dataframe thead th {\n",
       "        text-align: right;\n",
       "    }\n",
       "</style>\n",
       "<table border=\"1\" class=\"dataframe\">\n",
       "  <thead>\n",
       "    <tr style=\"text-align: right;\">\n",
       "      <th></th>\n",
       "      <th>0</th>\n",
       "    </tr>\n",
       "  </thead>\n",
       "  <tbody>\n",
       "    <tr>\n",
       "      <th>0</th>\n",
       "      <td>10</td>\n",
       "    </tr>\n",
       "    <tr>\n",
       "      <th>1</th>\n",
       "      <td>12</td>\n",
       "    </tr>\n",
       "    <tr>\n",
       "      <th>2</th>\n",
       "      <td>10</td>\n",
       "    </tr>\n",
       "  </tbody>\n",
       "</table>\n",
       "</div>"
      ],
      "text/plain": [
       "    0\n",
       "0  10\n",
       "1  12\n",
       "2  10"
      ]
     },
     "execution_count": 6,
     "metadata": {},
     "output_type": "execute_result"
    }
   ],
   "source": [
    "pd.DataFrame(data=b.transpose())"
   ]
  },
  {
   "cell_type": "markdown",
   "id": "4cd11048-2756-4c0b-8582-245042f539b0",
   "metadata": {},
   "source": [
    "### Matrices convertidas"
   ]
  },
  {
   "cell_type": "markdown",
   "id": "469a039c-f811-4390-8943-d64d2a434476",
   "metadata": {},
   "source": [
    "#### Matriz $M$"
   ]
  },
  {
   "cell_type": "code",
   "execution_count": 7,
   "id": "ae24b4c1-dcfb-4444-b793-696fd3b77291",
   "metadata": {},
   "outputs": [
    {
     "data": {
      "text/html": [
       "<div>\n",
       "<style scoped>\n",
       "    .dataframe tbody tr th:only-of-type {\n",
       "        vertical-align: middle;\n",
       "    }\n",
       "\n",
       "    .dataframe tbody tr th {\n",
       "        vertical-align: top;\n",
       "    }\n",
       "\n",
       "    .dataframe thead th {\n",
       "        text-align: right;\n",
       "    }\n",
       "</style>\n",
       "<table border=\"1\" class=\"dataframe\">\n",
       "  <thead>\n",
       "    <tr style=\"text-align: right;\">\n",
       "      <th></th>\n",
       "      <th>0</th>\n",
       "      <th>1</th>\n",
       "      <th>2</th>\n",
       "    </tr>\n",
       "  </thead>\n",
       "  <tbody>\n",
       "    <tr>\n",
       "      <th>0</th>\n",
       "      <td>0.0</td>\n",
       "      <td>0.2</td>\n",
       "      <td>-0.2</td>\n",
       "    </tr>\n",
       "    <tr>\n",
       "      <th>1</th>\n",
       "      <td>-0.4</td>\n",
       "      <td>0.0</td>\n",
       "      <td>0.2</td>\n",
       "    </tr>\n",
       "    <tr>\n",
       "      <th>2</th>\n",
       "      <td>0.2</td>\n",
       "      <td>-0.2</td>\n",
       "      <td>0.0</td>\n",
       "    </tr>\n",
       "  </tbody>\n",
       "</table>\n",
       "</div>"
      ],
      "text/plain": [
       "     0    1    2\n",
       "0  0.0  0.2 -0.2\n",
       "1 -0.4  0.0  0.2\n",
       "2  0.2 -0.2  0.0"
      ]
     },
     "execution_count": 7,
     "metadata": {},
     "output_type": "execute_result"
    }
   ],
   "source": [
    "pd.DataFrame(data=convertir_matriz_m(a))"
   ]
  },
  {
   "cell_type": "markdown",
   "id": "c7bcaa4e-2018-4053-a8e9-27b856f6db9d",
   "metadata": {},
   "source": [
    "#### Matriz $C$"
   ]
  },
  {
   "cell_type": "code",
   "execution_count": 8,
   "id": "a9b3a162-ba7b-4516-b8d4-c227a6c3744f",
   "metadata": {},
   "outputs": [
    {
     "data": {
      "text/html": [
       "<div>\n",
       "<style scoped>\n",
       "    .dataframe tbody tr th:only-of-type {\n",
       "        vertical-align: middle;\n",
       "    }\n",
       "\n",
       "    .dataframe tbody tr th {\n",
       "        vertical-align: top;\n",
       "    }\n",
       "\n",
       "    .dataframe thead th {\n",
       "        text-align: right;\n",
       "    }\n",
       "</style>\n",
       "<table border=\"1\" class=\"dataframe\">\n",
       "  <thead>\n",
       "    <tr style=\"text-align: right;\">\n",
       "      <th></th>\n",
       "      <th>0</th>\n",
       "    </tr>\n",
       "  </thead>\n",
       "  <tbody>\n",
       "    <tr>\n",
       "      <th>0</th>\n",
       "      <td>2.0</td>\n",
       "    </tr>\n",
       "    <tr>\n",
       "      <th>1</th>\n",
       "      <td>2.4</td>\n",
       "    </tr>\n",
       "    <tr>\n",
       "      <th>2</th>\n",
       "      <td>2.0</td>\n",
       "    </tr>\n",
       "  </tbody>\n",
       "</table>\n",
       "</div>"
      ],
      "text/plain": [
       "     0\n",
       "0  2.0\n",
       "1  2.4\n",
       "2  2.0"
      ]
     },
     "execution_count": 8,
     "metadata": {},
     "output_type": "execute_result"
    }
   ],
   "source": [
    "pd.DataFrame(data=convertir_matriz_c(a, b).transpose())"
   ]
  }
 ],
 "metadata": {
  "kernelspec": {
   "display_name": "Python 3 (ipykernel)",
   "language": "python",
   "name": "python3"
  },
  "language_info": {
   "codemirror_mode": {
    "name": "ipython",
    "version": 3
   },
   "file_extension": ".py",
   "mimetype": "text/x-python",
   "name": "python",
   "nbconvert_exporter": "python",
   "pygments_lexer": "ipython3",
   "version": "3.11.4"
  }
 },
 "nbformat": 4,
 "nbformat_minor": 5
}
