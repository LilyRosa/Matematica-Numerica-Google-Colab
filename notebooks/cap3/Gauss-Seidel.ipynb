{
 "cells": [
  {
   "cell_type": "markdown",
   "metadata": {
    "colab_type": "text",
    "id": "view-in-github"
   },
   "source": [
    "<a href=\"https://colab.research.google.com/github/LilyRosa/Matematica-Numerica-Google-Colab/blob/main/notebooks/cap3/Gauss-Seidel.ipynb\" target=\"_parent\"><img src=\"https://colab.research.google.com/assets/colab-badge.svg\" alt=\"Open In Colab\"/></a>"
   ]
  },
  {
   "cell_type": "code",
   "execution_count": 1,
   "metadata": {
    "id": "uVt_OUxRt7Um"
   },
   "outputs": [],
   "source": [
    "from numpy import array, absolute, zeros, copy\n",
    "import pandas as pd"
   ]
  },
  {
   "cell_type": "markdown",
   "metadata": {
    "id": "Sf_iiMtet7Uq"
   },
   "source": [
    "# Algoritmo de Gauss-Seidel\n",
    "\n",
    "Algoritmo utilizado para dar solución a sistemas lineales de orden $n$ en la forma $AX = B$ con error menor que $\\varepsilon$\n",
    "\n"
   ]
  },
  {
   "cell_type": "markdown",
   "metadata": {
    "id": "G_amtT-yt7U3"
   },
   "source": [
    "## Implementación"
   ]
  },
  {
   "cell_type": "markdown",
   "metadata": {
    "id": "PxsUjhZW2fkk"
   },
   "source": [
    "### Clase Auxiliar de Resultado de Seidel"
   ]
  },
  {
   "cell_type": "code",
   "execution_count": 2,
   "metadata": {
    "id": "2DULtqU82nW_"
   },
   "outputs": [],
   "source": [
    "class ResultadoSeidel:\n",
    "    def __init__(self):\n",
    "        self.lista_x = []\n",
    "        self.delta = 0\n",
    "        self.error = 0\n",
    "        self.iteracion_0 = False"
   ]
  },
  {
   "cell_type": "markdown",
   "metadata": {},
   "source": [
    "Clase auxiliar usada para guardar los resultados de cada iteración del algoritmo de Seidel"
   ]
  },
  {
   "cell_type": "markdown",
   "metadata": {
    "id": "wPY995nz2rG4"
   },
   "source": [
    "### Algoritmo de Gauss-Seidel"
   ]
  },
  {
   "cell_type": "markdown",
   "metadata": {
    "id": "F_n-SSG2t7U4"
   },
   "source": [
    "` gauss_seidel(a, b, x0, f_convergencia, tol, max_iter): ` Implementación del algoritmo de Seidel para dar solución a sistemas de ecuaciones lineales\n",
    "\n",
    "##### Parámetros\n",
    "\n",
    "- ` a ` : matriz de los coeficientes $A$\n",
    "- ` b ` : matriz de los términos independientes $B$\n",
    "- ` x0 ` : matriz columna que representa los valores estimados de solución (se puede utilizar la matriz trivial)\n",
    "- ` f_convergencia ` : define el factor de convergencia de la matriz $A$\n",
    "- ` tol ` : cota para el error absoluto\n",
    "- ` max_iter `: cantidad máxima de iteraciones"
   ]
  },
  {
   "cell_type": "code",
   "execution_count": 3,
   "metadata": {
    "id": "WHCxkbmEt7U5"
   },
   "outputs": [],
   "source": [
    "def gauss_seidel(a, b, x0, f_convergencia, tol, max_iter):\n",
    "    paso = 1\n",
    "    resultado = copy(x0)\n",
    "    error = zeros(a.shape[1])\n",
    "    condicion = True\n",
    "    retorno = []\n",
    "    r = ResultadoSeidel()\n",
    "\n",
    "    r.iteracion_0 = True\n",
    "    r.lista_x = error.tolist()\n",
    "    retorno.append(r)\n",
    "\n",
    "    while condicion:\n",
    "        r = ResultadoSeidel()\n",
    "        for i in range(a.shape[0]):\n",
    "            valor_temp = 0\n",
    "            for j in range(a.shape[1]):\n",
    "                if i == j:\n",
    "                    valor_temp += b[i] / a[i][j]\n",
    "                else:\n",
    "                    valor_temp += -a[i][j] / a[i][i] * resultado[j]\n",
    "            error[i] = abs(resultado[i] - valor_temp)\n",
    "            resultado[i] = valor_temp\n",
    "\n",
    "        r.lista_x = resultado.tolist()\n",
    "        r.delta = max(error)\n",
    "        r.error = max(error)*abs(f_convergencia / (1 - f_convergencia))\n",
    "        retorno.append(r)\n",
    "\n",
    "        paso += 1\n",
    "        condicion = max(error) > tol and paso <= max_iter\n",
    "\n",
    "    return retorno"
   ]
  },
  {
   "cell_type": "markdown",
   "metadata": {
    "id": "dtmypTqZt7U7"
   },
   "source": [
    "### Hallar factor de convergencia $\\beta$\n",
    "\n",
    "` hallar_factor_convergencia(a): ` Halla el factor de convergencia $\\beta$ de la matriz $A$\n",
    "\n",
    "##### Parámetros\n",
    "` a ` : matriz de los coeficientes $A$"
   ]
  },
  {
   "cell_type": "code",
   "execution_count": 4,
   "metadata": {
    "id": "ieNjMHfat7U7"
   },
   "outputs": [],
   "source": [
    "def hallar_factor_convergencia(a):\n",
    "    a = absolute(a)\n",
    "    resultado = []\n",
    "\n",
    "    for i in range(a.shape[0]):\n",
    "        total_fila = sum(a[i])\n",
    "\n",
    "        if total_fila - a[i][i] < 0:\n",
    "            raise Exception(\"El factor de convergencia de la matriz tiene que ser mayor que 0\")\n",
    "\n",
    "        q = 0\n",
    "        p = 0\n",
    "        for j in range(a.shape[1]):\n",
    "            if i > j:\n",
    "                p += a[i][j] / a[i][i]\n",
    "            elif i < j:\n",
    "                q += a[i][j] / a[i][i]\n",
    "\n",
    "        resultado.append(q / (1 - p))\n",
    "\n",
    "    return max(resultado)"
   ]
  },
  {
   "cell_type": "markdown",
   "metadata": {
    "id": "jzbOst3k5c8s"
   },
   "source": [
    "### Métodos Auxiliares"
   ]
  },
  {
   "cell_type": "code",
   "execution_count": 5,
   "metadata": {
    "id": "WEPDogVl5hIW"
   },
   "outputs": [],
   "source": [
    "def hallar_f_convergencia_error(f_convergencia):\n",
    "    return abs(f_convergencia / (1 - f_convergencia))\n",
    "\n",
    "\n",
    "def convertir_headers_resultados(lista_resultados_seidel):\n",
    "    lista = []\n",
    "\n",
    "    r = lista_resultados_seidel[0]\n",
    "    for i in range(len(r.lista_x)):\n",
    "        lista.append(f'X{i + 1}')\n",
    "    lista.append('Delta(δ)')\n",
    "    lista.append('Error')\n",
    "\n",
    "    return lista\n",
    "\n",
    "\n",
    "def convertir_resultados(lista_resultados_seidel):\n",
    "    lista = []\n",
    "    for r in lista_resultados_seidel:\n",
    "        l = []\n",
    "        if r.iteracion_0:\n",
    "            for x in r.lista_x:\n",
    "                l.append(x)\n",
    "            l.append('-------')\n",
    "            l.append('-------')\n",
    "        else:\n",
    "            for x in r.lista_x:\n",
    "                l.append(x)\n",
    "            l.append('{:.7f}'.format(r.delta))\n",
    "            l.append('{:.7f}'.format(r.error))\n",
    "\n",
    "        lista.append(l)\n",
    "\n",
    "    df = pd.DataFrame(data=lista, columns=convertir_headers_resultados(lista_resultados_seidel))\n",
    "    df.index.name = 'Iteración'\n",
    "    return df"
   ]
  },
  {
   "cell_type": "markdown",
   "metadata": {
    "id": "8CxEdgId5tW-"
   },
   "source": [
    "## Inserción de datos"
   ]
  },
  {
   "cell_type": "markdown",
   "metadata": {
    "id": "JbP7yjsFt7U8"
   },
   "source": [
    "#### Datos\n",
    "\n",
    "- ` a ` : matriz de los coeficientes $A$\n",
    "- ` b ` : matriz de los términos independientes $B$\n",
    "- ` x0 ` : matriz columna que representa los valores estimados de solución (se puede utilizar la matriz trivial)\n",
    "- ` tol ` : cota para el error absoluto\n",
    "- ` max_iter `: cantidad máxima de iteraciones"
   ]
  },
  {
   "cell_type": "code",
   "execution_count": 6,
   "metadata": {
    "id": "mnpEWdSat7U8"
   },
   "outputs": [],
   "source": [
    "a = array([[5, -1, 1],\n",
    "           [2, 5, -1],\n",
    "           [-1, 1, 5]])\n",
    "\n",
    "b = array([10, 12, 10])\n",
    "\n",
    "# No cambiar el argumento dtype para el correcto funcionamiento del algoritmo\n",
    "x0 = array([0, 0, 0], dtype=float)\n",
    "\n",
    "tol = 0.005\n",
    "\n",
    "max_iter = 100"
   ]
  },
  {
   "cell_type": "markdown",
   "metadata": {
    "id": "j4n6GEHpt7VG"
   },
   "source": [
    "## Salida de datos"
   ]
  },
  {
   "cell_type": "markdown",
   "metadata": {
    "id": "TwTftD_y6gm1"
   },
   "source": [
    "### Factor de Convergencia $\\beta$"
   ]
  },
  {
   "cell_type": "code",
   "execution_count": 7,
   "metadata": {
    "colab": {
     "base_uri": "https://localhost:8080/"
    },
    "id": "CXpCo4Ab7Z3u",
    "outputId": "6241af11-61bb-47f2-8f40-91e4e2b47b85"
   },
   "outputs": [
    {
     "name": "stdout",
     "output_type": "stream",
     "text": [
      "El factor de convergencia es 0.4\n",
      "β/(1-β) = 0.66667\n"
     ]
    }
   ],
   "source": [
    "print(f'El factor de convergencia es {hallar_factor_convergencia(a)}')\n",
    "print('β/(1-β) = {:.5f}\\n'.format(hallar_f_convergencia_error(hallar_factor_convergencia(a))))"
   ]
  },
  {
   "cell_type": "markdown",
   "metadata": {
    "id": "rvKU5oDT7tlA"
   },
   "source": [
    "### Resultados de la aplicación del método de Gauss-Seidel"
   ]
  },
  {
   "cell_type": "code",
   "execution_count": 8,
   "metadata": {
    "colab": {
     "base_uri": "https://localhost:8080/",
     "height": 269
    },
    "id": "9wr3qKsO7yPb",
    "outputId": "933a8fbb-dd6a-4bc8-a505-ced57f66d7ac"
   },
   "outputs": [
    {
     "data": {
      "text/html": [
       "<div>\n",
       "<style scoped>\n",
       "    .dataframe tbody tr th:only-of-type {\n",
       "        vertical-align: middle;\n",
       "    }\n",
       "\n",
       "    .dataframe tbody tr th {\n",
       "        vertical-align: top;\n",
       "    }\n",
       "\n",
       "    .dataframe thead th {\n",
       "        text-align: right;\n",
       "    }\n",
       "</style>\n",
       "<table border=\"1\" class=\"dataframe\">\n",
       "  <thead>\n",
       "    <tr style=\"text-align: right;\">\n",
       "      <th></th>\n",
       "      <th>X1</th>\n",
       "      <th>X2</th>\n",
       "      <th>X3</th>\n",
       "      <th>Delta(δ)</th>\n",
       "      <th>Error</th>\n",
       "    </tr>\n",
       "    <tr>\n",
       "      <th>Iteración</th>\n",
       "      <th></th>\n",
       "      <th></th>\n",
       "      <th></th>\n",
       "      <th></th>\n",
       "      <th></th>\n",
       "    </tr>\n",
       "  </thead>\n",
       "  <tbody>\n",
       "    <tr>\n",
       "      <th>0</th>\n",
       "      <td>0.000000</td>\n",
       "      <td>0.000000</td>\n",
       "      <td>0.000000</td>\n",
       "      <td>-------</td>\n",
       "      <td>-------</td>\n",
       "    </tr>\n",
       "    <tr>\n",
       "      <th>1</th>\n",
       "      <td>2.000000</td>\n",
       "      <td>1.600000</td>\n",
       "      <td>2.080000</td>\n",
       "      <td>2.0800000</td>\n",
       "      <td>1.3866667</td>\n",
       "    </tr>\n",
       "    <tr>\n",
       "      <th>2</th>\n",
       "      <td>1.904000</td>\n",
       "      <td>2.054400</td>\n",
       "      <td>1.969920</td>\n",
       "      <td>0.4544000</td>\n",
       "      <td>0.3029333</td>\n",
       "    </tr>\n",
       "    <tr>\n",
       "      <th>3</th>\n",
       "      <td>2.016896</td>\n",
       "      <td>1.987226</td>\n",
       "      <td>2.005934</td>\n",
       "      <td>0.1128960</td>\n",
       "      <td>0.0752640</td>\n",
       "    </tr>\n",
       "    <tr>\n",
       "      <th>4</th>\n",
       "      <td>1.996258</td>\n",
       "      <td>2.002683</td>\n",
       "      <td>1.998715</td>\n",
       "      <td>0.0206377</td>\n",
       "      <td>0.0137585</td>\n",
       "    </tr>\n",
       "    <tr>\n",
       "      <th>5</th>\n",
       "      <td>2.000794</td>\n",
       "      <td>1.999426</td>\n",
       "      <td>2.000274</td>\n",
       "      <td>0.0045354</td>\n",
       "      <td>0.0030236</td>\n",
       "    </tr>\n",
       "  </tbody>\n",
       "</table>\n",
       "</div>"
      ],
      "text/plain": [
       "                 X1        X2        X3   Delta(δ)      Error\n",
       "Iteración                                                    \n",
       "0          0.000000  0.000000  0.000000    -------    -------\n",
       "1          2.000000  1.600000  2.080000  2.0800000  1.3866667\n",
       "2          1.904000  2.054400  1.969920  0.4544000  0.3029333\n",
       "3          2.016896  1.987226  2.005934  0.1128960  0.0752640\n",
       "4          1.996258  2.002683  1.998715  0.0206377  0.0137585\n",
       "5          2.000794  1.999426  2.000274  0.0045354  0.0030236"
      ]
     },
     "execution_count": 8,
     "metadata": {},
     "output_type": "execute_result"
    }
   ],
   "source": [
    "r = gauss_seidel(a, b, x0, hallar_factor_convergencia(a), tol, max_iter)\n",
    "df = convertir_resultados(r)\n",
    "df"
   ]
  }
 ],
 "metadata": {
  "colab": {
   "include_colab_link": true,
   "provenance": []
  },
  "interpreter": {
   "hash": "50a1c7f7f999c358e0b5259763df47a04f976b7989cc44fe344baf2ec3d120ee"
  },
  "kernelspec": {
   "display_name": "Python 3 (ipykernel)",
   "language": "python",
   "name": "python3"
  },
  "language_info": {
   "codemirror_mode": {
    "name": "ipython",
    "version": 3
   },
   "file_extension": ".py",
   "mimetype": "text/x-python",
   "name": "python",
   "nbconvert_exporter": "python",
   "pygments_lexer": "ipython3",
   "version": "3.11.4"
  }
 },
 "nbformat": 4,
 "nbformat_minor": 4
}
