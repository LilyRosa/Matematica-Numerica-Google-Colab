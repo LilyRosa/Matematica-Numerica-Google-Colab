{
 "cells": [
  {
   "cell_type": "markdown",
   "metadata": {
    "colab_type": "text",
    "id": "view-in-github"
   },
   "source": [
    "<a href=\"https://colab.research.google.com/github/LilyRosa/Matematica-Numerica-Google-Colab/blob/main/notebooks/cap3/Jacobi.ipynb\" target=\"_parent\"><img src=\"https://colab.research.google.com/assets/colab-badge.svg\" alt=\"Open In Colab\"/></a>"
   ]
  },
  {
   "cell_type": "code",
   "execution_count": 1,
   "metadata": {
    "id": "svO1bNjTfjWA"
   },
   "outputs": [],
   "source": [
    "from numpy import array, absolute, copy, zeros\n",
    "import pandas as pd"
   ]
  },
  {
   "cell_type": "markdown",
   "metadata": {
    "id": "lrCAj5MmfjWF"
   },
   "source": [
    "# Algoritmo de Jacobi\n",
    "\n",
    "Algoritmo utilizado para dar solución a sistemas lineales de orden $n$ en la forma $AX = B$ con error menor que $\\varepsilon$\n"
   ]
  },
  {
   "cell_type": "markdown",
   "metadata": {
    "id": "rDAsYnrKfjWI"
   },
   "source": [
    "## Implementación"
   ]
  },
  {
   "cell_type": "markdown",
   "metadata": {
    "id": "rU0rineQW2As"
   },
   "source": [
    "### Clase Auxiliar de Resultado de Jacobi"
   ]
  },
  {
   "cell_type": "markdown",
   "metadata": {},
   "source": [
    "Clase auxiliar usada para guardar los resultados de cada iteración del algoritmo de Jacobi"
   ]
  },
  {
   "cell_type": "code",
   "execution_count": 2,
   "metadata": {
    "id": "d5XZ2LzwW63y"
   },
   "outputs": [],
   "source": [
    "class ResultadoJacobi:\n",
    "    def __init__(self):\n",
    "        self.lista_x = []\n",
    "        self.delta = 0\n",
    "        self.error = 0\n",
    "        self.iteracion_0 = False"
   ]
  },
  {
   "cell_type": "markdown",
   "metadata": {
    "id": "0f_xEuDCXh-F"
   },
   "source": [
    "### Algoritmo de Jacobi\n"
   ]
  },
  {
   "cell_type": "markdown",
   "metadata": {
    "id": "mHY2L0EwWt9w"
   },
   "source": [
    "` jacobi(a, b, x0, f_convergencia, tol, max_iter): ` Implementación del algoritmo de Jacobi para dar solución a sistemas de ecuaciones lineales\n",
    "\n",
    "##### Parámetros\n",
    "\n",
    "- ` a ` : matriz de los coeficientes $A$\n",
    "- ` b ` : matriz de los términos independientes $B$\n",
    "- ` x0 ` : matriz columna que representa los valores estimados de solución (se puede utilizar la matriz trivial)\n",
    "- ` f_convergencia ` : define el factor de convergencia de la matriz $A$\n",
    "- ` tol ` : cota para el error absoluto\n",
    "- ` max_iter `: cantidad máxima de iteraciones"
   ]
  },
  {
   "cell_type": "code",
   "execution_count": 3,
   "metadata": {
    "id": "4YfILBK4fjWJ"
   },
   "outputs": [],
   "source": [
    "def jacobi(a, b, x0, f_convergencia, tol, max_iter):\n",
    "    xv = copy(x0)\n",
    "    xa = zeros(b.shape[0])\n",
    "    condicion = True\n",
    "    paso = 1\n",
    "    retorno = []\n",
    "    r = ResultadoJacobi()\n",
    "\n",
    "    r.iteracion_0 = True\n",
    "    r.lista_x = xv.tolist()\n",
    "    retorno.append(r)\n",
    "\n",
    "    while condicion:\n",
    "        r = ResultadoJacobi()\n",
    "        error = 0\n",
    "\n",
    "        for i in range(a.shape[0]):\n",
    "            xa[i] = b[i]\n",
    "\n",
    "            for j in range(a.shape[1]):\n",
    "                if j != i:\n",
    "                    xa[i] -= a[i][j] * xv[j]\n",
    "\n",
    "            xa[i] /= a[i][i]\n",
    "\n",
    "            if abs(xa[i] - xv[i]) > error:\n",
    "                error = abs(xa[i] - xv[i])\n",
    "\n",
    "        r.delta = error\n",
    "        error *= abs(f_convergencia / (1 - f_convergencia))\n",
    "        r.error = error\n",
    "        r.lista_x = xa.tolist()\n",
    "        retorno.append(r)\n",
    "\n",
    "        xv = copy(xa)\n",
    "        paso += 1\n",
    "        condicion = error > tol and paso <= max_iter\n",
    "\n",
    "    return retorno"
   ]
  },
  {
   "cell_type": "markdown",
   "metadata": {
    "id": "8iE1X84jXuza"
   },
   "source": [
    "### Hallar factor de convergencia $\\alpha$"
   ]
  },
  {
   "cell_type": "markdown",
   "metadata": {
    "id": "fEfBlblZfjWK"
   },
   "source": [
    "` hallar_factor_convergencia(a): ` Halla el factor de convergencia $\\alpha$ de la matriz $A$\n",
    "\n",
    "##### Parámetros\n",
    "- ` a ` : matriz de los coeficientes $A$"
   ]
  },
  {
   "cell_type": "code",
   "execution_count": 4,
   "metadata": {
    "id": "H2f0Fh78fjWL"
   },
   "outputs": [],
   "source": [
    "def hallar_factor_convergencia(a):\n",
    "\n",
    "    a = absolute(a)\n",
    "    resultado = []\n",
    "\n",
    "    for i in range(len(a)):\n",
    "        total_fila = sum(a[i])\n",
    "\n",
    "        if total_fila - a[i][i] < 0:\n",
    "            raise Exception(\"El factor de convergencia de la matriz tiene que ser mayor que 0\")\n",
    "\n",
    "        resultado.append((total_fila - a[i][i]) / a[i][i])\n",
    "\n",
    "    return max(resultado)"
   ]
  },
  {
   "cell_type": "markdown",
   "metadata": {
    "id": "3dE6i4iqEwfs"
   },
   "source": [
    "### Métodos Auxiliares"
   ]
  },
  {
   "cell_type": "code",
   "execution_count": 5,
   "metadata": {
    "id": "23iubeP9E5Xu"
   },
   "outputs": [],
   "source": [
    "def hallar_f_convergencia_error(f_convergencia):\n",
    "    return abs(f_convergencia / (1 - f_convergencia))\n",
    "\n",
    "\n",
    "def convertir_headers_resultados(lista_resultados_jacobi):\n",
    "    lista = []\n",
    "\n",
    "    r = lista_resultados_jacobi[0]\n",
    "    for i in range(len(r.lista_x)):\n",
    "        lista.append(f'X{i + 1}')\n",
    "    lista.append('Delta (δ)')\n",
    "    lista.append('Error')\n",
    "\n",
    "    return lista\n",
    "\n",
    "\n",
    "def convertir_resultados(lista_resultados_jacobi):\n",
    "    lista = []\n",
    "    for r in lista_resultados_jacobi:\n",
    "        l = []\n",
    "        if r.iteracion_0:\n",
    "            for x in r.lista_x:\n",
    "                l.append(x)\n",
    "            l.append('-------')\n",
    "            l.append('-------')\n",
    "        else:\n",
    "            for x in r.lista_x:\n",
    "                l.append(x)\n",
    "            l.append('{:.7f}'.format(r.delta))\n",
    "            l.append('{:.7f}'.format(r.error))\n",
    "\n",
    "        lista.append(l)\n",
    "\n",
    "    df = pd.DataFrame(data=lista, columns=convertir_headers_resultados(lista_resultados_jacobi))\n",
    "    df.index.name = 'Iteración'\n",
    "    return df"
   ]
  },
  {
   "cell_type": "markdown",
   "metadata": {
    "id": "UKCZQ15dfjWL"
   },
   "source": [
    "## Inserción de datos"
   ]
  },
  {
   "cell_type": "markdown",
   "metadata": {
    "id": "jk6E1Hjx8s81"
   },
   "source": [
    "#### Datos\n",
    "\n",
    "- ` a ` : matriz de los coeficientes $A$\n",
    "- ` b ` : matriz de los términos independientes $B$\n",
    "- ` x0 ` : matriz columna que representa los valores estimados de solución (se puede utilizar la matriz trivial)\n",
    "- ` tol ` : cota para el error absoluto\n",
    "- ` max_iter `: cantidad máxima de iteraciones"
   ]
  },
  {
   "cell_type": "code",
   "execution_count": 6,
   "metadata": {
    "id": "ykCCUkrTfjWM"
   },
   "outputs": [],
   "source": [
    "a = array([[5, -1, 1],\n",
    "           [2, 5, -1],\n",
    "           [-1, 1, 5]])\n",
    "\n",
    "b = array([10, 12, 10])\n",
    "\n",
    "x0 = array([0, 0, 0])\n",
    "\n",
    "tol = 0.005\n",
    "\n",
    "max_iter = 100"
   ]
  },
  {
   "cell_type": "markdown",
   "metadata": {
    "id": "yiYhUSzPfjWN"
   },
   "source": [
    "## Salida de datos"
   ]
  },
  {
   "cell_type": "markdown",
   "metadata": {
    "id": "CHa7DKd9GWt_"
   },
   "source": [
    "### Factor de convergencia $\\alpha$"
   ]
  },
  {
   "cell_type": "code",
   "execution_count": 7,
   "metadata": {
    "colab": {
     "base_uri": "https://localhost:8080/"
    },
    "id": "7B3QIZrBfjWO",
    "outputId": "67a776f0-161b-4f50-f402-986a2ed8fdb0",
    "tags": []
   },
   "outputs": [
    {
     "name": "stdout",
     "output_type": "stream",
     "text": [
      "El factor de convergencia es 0.6\n",
      "ɑ/(1-ɑ) = 1.50000\n"
     ]
    }
   ],
   "source": [
    "print(f'El factor de convergencia es {hallar_factor_convergencia(a)}')\n",
    "print('ɑ/(1-ɑ) = {:.5f}\\n'.format(hallar_f_convergencia_error(hallar_factor_convergencia(a))))"
   ]
  },
  {
   "cell_type": "markdown",
   "metadata": {
    "id": "b-W3L8YmGrp5"
   },
   "source": [
    "### Resultados de la aplicación del método de Jacobi"
   ]
  },
  {
   "cell_type": "code",
   "execution_count": 8,
   "metadata": {
    "colab": {
     "base_uri": "https://localhost:8080/",
     "height": 331
    },
    "id": "yRi0Yx4oGH_Q",
    "outputId": "d5acbcad-ebc6-4e83-97d7-49cf1d46b439"
   },
   "outputs": [
    {
     "data": {
      "text/html": [
       "<div>\n",
       "<style scoped>\n",
       "    .dataframe tbody tr th:only-of-type {\n",
       "        vertical-align: middle;\n",
       "    }\n",
       "\n",
       "    .dataframe tbody tr th {\n",
       "        vertical-align: top;\n",
       "    }\n",
       "\n",
       "    .dataframe thead th {\n",
       "        text-align: right;\n",
       "    }\n",
       "</style>\n",
       "<table border=\"1\" class=\"dataframe\">\n",
       "  <thead>\n",
       "    <tr style=\"text-align: right;\">\n",
       "      <th></th>\n",
       "      <th>X1</th>\n",
       "      <th>X2</th>\n",
       "      <th>X3</th>\n",
       "      <th>Delta (δ)</th>\n",
       "      <th>Error</th>\n",
       "    </tr>\n",
       "    <tr>\n",
       "      <th>Iteración</th>\n",
       "      <th></th>\n",
       "      <th></th>\n",
       "      <th></th>\n",
       "      <th></th>\n",
       "      <th></th>\n",
       "    </tr>\n",
       "  </thead>\n",
       "  <tbody>\n",
       "    <tr>\n",
       "      <th>0</th>\n",
       "      <td>0.000000</td>\n",
       "      <td>0.000000</td>\n",
       "      <td>0.000000</td>\n",
       "      <td>-------</td>\n",
       "      <td>-------</td>\n",
       "    </tr>\n",
       "    <tr>\n",
       "      <th>1</th>\n",
       "      <td>2.000000</td>\n",
       "      <td>2.400000</td>\n",
       "      <td>2.000000</td>\n",
       "      <td>2.4000000</td>\n",
       "      <td>3.6000000</td>\n",
       "    </tr>\n",
       "    <tr>\n",
       "      <th>2</th>\n",
       "      <td>2.080000</td>\n",
       "      <td>2.000000</td>\n",
       "      <td>1.920000</td>\n",
       "      <td>0.4000000</td>\n",
       "      <td>0.6000000</td>\n",
       "    </tr>\n",
       "    <tr>\n",
       "      <th>3</th>\n",
       "      <td>2.016000</td>\n",
       "      <td>1.952000</td>\n",
       "      <td>2.016000</td>\n",
       "      <td>0.0960000</td>\n",
       "      <td>0.1440000</td>\n",
       "    </tr>\n",
       "    <tr>\n",
       "      <th>4</th>\n",
       "      <td>1.987200</td>\n",
       "      <td>1.996800</td>\n",
       "      <td>2.012800</td>\n",
       "      <td>0.0448000</td>\n",
       "      <td>0.0672000</td>\n",
       "    </tr>\n",
       "    <tr>\n",
       "      <th>5</th>\n",
       "      <td>1.996800</td>\n",
       "      <td>2.007680</td>\n",
       "      <td>1.998080</td>\n",
       "      <td>0.0147200</td>\n",
       "      <td>0.0220800</td>\n",
       "    </tr>\n",
       "    <tr>\n",
       "      <th>6</th>\n",
       "      <td>2.001920</td>\n",
       "      <td>2.000896</td>\n",
       "      <td>1.997824</td>\n",
       "      <td>0.0067840</td>\n",
       "      <td>0.0101760</td>\n",
       "    </tr>\n",
       "    <tr>\n",
       "      <th>7</th>\n",
       "      <td>2.000614</td>\n",
       "      <td>1.998797</td>\n",
       "      <td>2.000205</td>\n",
       "      <td>0.0023808</td>\n",
       "      <td>0.0035712</td>\n",
       "    </tr>\n",
       "  </tbody>\n",
       "</table>\n",
       "</div>"
      ],
      "text/plain": [
       "                 X1        X2        X3  Delta (δ)      Error\n",
       "Iteración                                                    \n",
       "0          0.000000  0.000000  0.000000    -------    -------\n",
       "1          2.000000  2.400000  2.000000  2.4000000  3.6000000\n",
       "2          2.080000  2.000000  1.920000  0.4000000  0.6000000\n",
       "3          2.016000  1.952000  2.016000  0.0960000  0.1440000\n",
       "4          1.987200  1.996800  2.012800  0.0448000  0.0672000\n",
       "5          1.996800  2.007680  1.998080  0.0147200  0.0220800\n",
       "6          2.001920  2.000896  1.997824  0.0067840  0.0101760\n",
       "7          2.000614  1.998797  2.000205  0.0023808  0.0035712"
      ]
     },
     "execution_count": 8,
     "metadata": {},
     "output_type": "execute_result"
    }
   ],
   "source": [
    "r = jacobi(a, b, x0, hallar_factor_convergencia(a), tol, max_iter)\n",
    "df = convertir_resultados(r)\n",
    "df"
   ]
  }
 ],
 "metadata": {
  "colab": {
   "include_colab_link": true,
   "provenance": []
  },
  "interpreter": {
   "hash": "50a1c7f7f999c358e0b5259763df47a04f976b7989cc44fe344baf2ec3d120ee"
  },
  "kernelspec": {
   "display_name": "Python 3 (ipykernel)",
   "language": "python",
   "name": "python3"
  },
  "language_info": {
   "codemirror_mode": {
    "name": "ipython",
    "version": 3
   },
   "file_extension": ".py",
   "mimetype": "text/x-python",
   "name": "python",
   "nbconvert_exporter": "python",
   "pygments_lexer": "ipython3",
   "version": "3.11.4"
  }
 },
 "nbformat": 4,
 "nbformat_minor": 4
}
