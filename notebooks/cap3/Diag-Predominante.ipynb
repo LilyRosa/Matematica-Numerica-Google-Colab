{
 "cells": [
  {
   "cell_type": "markdown",
   "id": "0119538b-2067-475f-9c40-3763645df5c7",
   "metadata": {},
   "source": [
    "<a href=\"https://colab.research.google.com/github/LilyRosa/Matematica-Numerica-Google-Colab/blob/main/notebooks/cap3/Diag-Predominante.ipynb\" target=\"_parent\"><img src=\"https://colab.research.google.com/assets/colab-badge.svg\" alt=\"Open In Colab\"/></a>"
   ]
  },
  {
   "cell_type": "code",
   "execution_count": 1,
   "id": "083264aa-6f81-415c-82ce-ec9d9013a2d3",
   "metadata": {},
   "outputs": [],
   "source": [
    "from numpy import array, absolute, copy, zeros\n",
    "import pandas as pd"
   ]
  },
  {
   "cell_type": "markdown",
   "id": "671469f4-a156-410c-b7da-ca5e449323b8",
   "metadata": {},
   "source": [
    "# Matriz con diagonal predominante"
   ]
  },
  {
   "cell_type": "markdown",
   "id": "54a5cc8c-5779-47fa-b5ff-06b6570a3efe",
   "metadata": {},
   "source": [
    "## Implementación"
   ]
  },
  {
   "cell_type": "markdown",
   "id": "6e7708de-7ebf-4234-b034-30e7b877e56c",
   "metadata": {},
   "source": [
    "### Determinar matriz con diagonal predominante"
   ]
  },
  {
   "cell_type": "markdown",
   "id": "c7f44638-c5dc-439a-8d40-72a6b6aff306",
   "metadata": {},
   "source": [
    "``` determinar_matriz_diagonal_predominante(a): ``` Determinar si la matriz $A$ tiene diagonal predominante\n",
    "\n",
    "##### Parámetros\n",
    "- ``` a ``` : matriz de los coeficientes $A$"
   ]
  },
  {
   "cell_type": "code",
   "execution_count": 2,
   "id": "0e40c7db-b722-4d08-bea1-f03792f57c1a",
   "metadata": {},
   "outputs": [],
   "source": [
    "def determinar_matriz_diagonal_predominante(a):\n",
    "    m = absolute(a)\n",
    "    for i in range(len(m)):\n",
    "        x = m[i][i]\n",
    "        total = sum(m[i]) - x\n",
    "        if x <= total:\n",
    "            return False\n",
    "\n",
    "    return True"
   ]
  },
  {
   "cell_type": "markdown",
   "id": "3e484871-efe4-4a6c-a3b8-2e119ba0dd43",
   "metadata": {},
   "source": [
    "## Inserción de datos"
   ]
  },
  {
   "cell_type": "markdown",
   "id": "a7f4f936-1dd4-4bfa-91c2-55c232494925",
   "metadata": {},
   "source": [
    "#### Datos\n",
    "\n",
    "- ` a ` : matriz de los coeficientes $A$"
   ]
  },
  {
   "cell_type": "code",
   "execution_count": 3,
   "id": "e991bcde-8804-4c5f-bc0b-4cec2d2eba1b",
   "metadata": {},
   "outputs": [],
   "source": [
    "a = array([[5, -1, 1],\n",
    "           [2, 5, -1],\n",
    "           [-1, 1, 5]])"
   ]
  },
  {
   "cell_type": "markdown",
   "id": "5bb75837-00b3-46f5-aae9-ef11c6075a85",
   "metadata": {},
   "source": [
    "## Salida de datos"
   ]
  },
  {
   "cell_type": "code",
   "execution_count": 4,
   "id": "75bbfb8a-46b1-4474-b045-9dd90b0e79f8",
   "metadata": {},
   "outputs": [
    {
     "name": "stdout",
     "output_type": "stream",
     "text": [
      "La matriz tiene diagonal predominante\n"
     ]
    }
   ],
   "source": [
    "boo = determinar_matriz_diagonal_predominante(a)\n",
    "if not boo:\n",
    "  print('La matriz proporcionada NO tiene diagonal predominante.')\n",
    "else:\n",
    "  print('La matriz tiene diagonal predominante')"
   ]
  }
 ],
 "metadata": {
  "kernelspec": {
   "display_name": "Python 3 (ipykernel)",
   "language": "python",
   "name": "python3"
  },
  "language_info": {
   "codemirror_mode": {
    "name": "ipython",
    "version": 3
   },
   "file_extension": ".py",
   "mimetype": "text/x-python",
   "name": "python",
   "nbconvert_exporter": "python",
   "pygments_lexer": "ipython3",
   "version": "3.11.4"
  }
 },
 "nbformat": 4,
 "nbformat_minor": 5
}
