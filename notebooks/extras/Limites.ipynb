{
 "cells": [
  {
   "cell_type": "markdown",
   "id": "f9f9bd27-0c07-4760-b7b3-7bb5279873b7",
   "metadata": {},
   "source": [
    "<a href=\"https://colab.research.google.com/github/LilyRosa/Matematica-Numerica-Google-Colab/blob/main/notebooks/extras/Limites.ipynb\" target=\"_parent\"><img src=\"https://colab.research.google.com/assets/colab-badge.svg\" alt=\"Open In Colab\"/></a>"
   ]
  },
  {
   "cell_type": "code",
   "execution_count": 1,
   "id": "73fa484d-0138-4358-82a0-3a8e63efcd2f",
   "metadata": {},
   "outputs": [],
   "source": [
    "from sympy import *\n",
    "from sympy.abc import x,y\n",
    "init_printing(use_latex=\"mathjax\")"
   ]
  },
  {
   "cell_type": "markdown",
   "id": "d9ad179a-80a4-430b-bcce-0522c24792df",
   "metadata": {},
   "source": [
    "# Calculadora de límites con Sympy"
   ]
  },
  {
   "cell_type": "markdown",
   "id": "3a7455dd-0dad-4d67-bf56-4c513e24ac6f",
   "metadata": {},
   "source": [
    "Permite calcular límites usando la biblioteca de `sympy`\n",
    "\n",
    "> **Nota**: La documentación de la creación de funciones en simpy se encuentra en [este enlace](https://colab.research.google.com/github/LilyRosa/Matematica-Numerica-Google-Colab/blob/main/notebooks/tutoriales-generales/Sympy%20Funciones.ipynb)"
   ]
  },
  {
   "cell_type": "markdown",
   "id": "41fed1d1-7f8f-43bd-986f-2e6a178cc3fc",
   "metadata": {},
   "source": [
    "## Límite general $\\lim_{x \\to a}f(x)$"
   ]
  },
  {
   "cell_type": "markdown",
   "id": "4741e768-8ba3-4ad0-accd-3f191f12fdda",
   "metadata": {},
   "source": [
    "### Insertar datos"
   ]
  },
  {
   "cell_type": "code",
   "execution_count": 2,
   "id": "e8287cfe-569e-4c0c-a58e-f7b43f1ebaaa",
   "metadata": {},
   "outputs": [
    {
     "data": {
      "text/latex": [
       "$\\displaystyle \\frac{1}{x}$"
      ],
      "text/plain": [
       "1\n",
       "─\n",
       "x"
      ]
     },
     "execution_count": 2,
     "metadata": {},
     "output_type": "execute_result"
    }
   ],
   "source": [
    "# Insertar el punto de acumulación\n",
    "a = 0\n",
    "\n",
    "# Insertar la función:\n",
    "f = 1/x\n",
    "f"
   ]
  },
  {
   "cell_type": "markdown",
   "id": "534885ca-7d32-4310-a55f-35114d8473b9",
   "metadata": {},
   "source": [
    "### Resultados"
   ]
  },
  {
   "cell_type": "code",
   "execution_count": 3,
   "id": "b4a36316-8104-4715-b4bf-eed46388d5e0",
   "metadata": {},
   "outputs": [
    {
     "data": {
      "text/latex": [
       "$\\displaystyle \\infty$"
      ],
      "text/plain": [
       "∞"
      ]
     },
     "execution_count": 3,
     "metadata": {},
     "output_type": "execute_result"
    }
   ],
   "source": [
    "limit(f,x,a)"
   ]
  },
  {
   "cell_type": "markdown",
   "id": "a353dcf8-0985-4ee9-949d-2e08bbc7fbdd",
   "metadata": {},
   "source": [
    "## Límites laterales $\\lim_{x^+ \\to a}f(x)$ o $\\lim_{x^- \\to a}f(x)$"
   ]
  },
  {
   "cell_type": "markdown",
   "id": "701cd676-0b9e-4fb4-b9d7-d67edcfe777b",
   "metadata": {},
   "source": [
    "### Insertar datos"
   ]
  },
  {
   "cell_type": "markdown",
   "id": "8b34a14e-c646-4afa-81af-26529644473a",
   "metadata": {},
   "source": [
    "Especificar el parámetro `s`:\n",
    "- $'+'$: límite derecho\n",
    "- $'-'$: límite izquierdo"
   ]
  },
  {
   "cell_type": "code",
   "execution_count": 4,
   "id": "f4c275f3-35ab-4acb-89bc-87946a7e012c",
   "metadata": {},
   "outputs": [
    {
     "data": {
      "text/latex": [
       "$\\displaystyle \\frac{1}{x}$"
      ],
      "text/plain": [
       "1\n",
       "─\n",
       "x"
      ]
     },
     "execution_count": 4,
     "metadata": {},
     "output_type": "execute_result"
    }
   ],
   "source": [
    "# Insertar el punto de acumulación\n",
    "a = 0\n",
    "\n",
    "# Insertar el parámetro s:\n",
    "s = '-'\n",
    "\n",
    "# Insertar la función:\n",
    "f = 1/x\n",
    "f"
   ]
  },
  {
   "cell_type": "markdown",
   "id": "a3ef544a-6ae1-4d33-923d-2a0b47aeae95",
   "metadata": {},
   "source": [
    "### Resultados"
   ]
  },
  {
   "cell_type": "code",
   "execution_count": 5,
   "id": "6ce1534f-ddb6-4866-9ef8-0de30316729b",
   "metadata": {},
   "outputs": [
    {
     "data": {
      "text/latex": [
       "$\\displaystyle -\\infty$"
      ],
      "text/plain": [
       "-∞"
      ]
     },
     "execution_count": 5,
     "metadata": {},
     "output_type": "execute_result"
    }
   ],
   "source": [
    "limit(f,x,a,s)"
   ]
  }
 ],
 "metadata": {
  "kernelspec": {
   "display_name": "Python 3 (ipykernel)",
   "language": "python",
   "name": "python3"
  },
  "language_info": {
   "codemirror_mode": {
    "name": "ipython",
    "version": 3
   },
   "file_extension": ".py",
   "mimetype": "text/x-python",
   "name": "python",
   "nbconvert_exporter": "python",
   "pygments_lexer": "ipython3",
   "version": "3.11.4"
  }
 },
 "nbformat": 4,
 "nbformat_minor": 5
}
