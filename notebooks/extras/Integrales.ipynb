{
 "cells": [
  {
   "cell_type": "markdown",
   "id": "b7a26722-3ef5-421b-93a6-d225a2de9119",
   "metadata": {},
   "source": [
    "<a href=\"https://colab.research.google.com/github/LilyRosa/Matematica-Numerica-Google-Colab/blob/main/notebooks/extras/Integrales.ipynb\" target=\"_parent\"><img src=\"https://colab.research.google.com/assets/colab-badge.svg\" alt=\"Open In Colab\"/></a>"
   ]
  },
  {
   "cell_type": "code",
   "execution_count": 1,
   "id": "2a77c17c-2614-4ca3-913e-8b727cf19184",
   "metadata": {},
   "outputs": [],
   "source": [
    "from sympy import *\n",
    "from sympy.abc import *\n",
    "init_printing(use_latex=\"mathjax\")"
   ]
  },
  {
   "cell_type": "markdown",
   "id": "f08e7b14-a438-4d4e-a550-f1e13a0c9f51",
   "metadata": {},
   "source": [
    "# Calculadora de integrales con Sympy"
   ]
  },
  {
   "cell_type": "markdown",
   "id": "47005052-ef61-4917-a9dc-4daf5303e9d7",
   "metadata": {},
   "source": [
    "Permite calcular integrales usando la biblioteca de `sympy`\n",
    "\n",
    "> **Nota**: La documentación de la creación de funciones en simpy se encuentra en [este enlace](https://colab.research.google.com/github/LilyRosa/Matematica-Numerica-Google-Colab/blob/main/notebooks/tutoriales-generales/Sympy%20Funciones.ipynb)"
   ]
  },
  {
   "cell_type": "markdown",
   "id": "e17badd6-4507-49a5-9679-f7fbe9083e6d",
   "metadata": {},
   "source": [
    "## Integrales indefinidas $\\int_{}^{} f(x)dx$"
   ]
  },
  {
   "cell_type": "markdown",
   "id": "de10afd2-664e-46b9-abfa-9120883a9ff3",
   "metadata": {},
   "source": [
    "### Insertar datos"
   ]
  },
  {
   "cell_type": "code",
   "execution_count": 2,
   "id": "e9db63fc-7788-4652-86f5-c4764f18cf5a",
   "metadata": {},
   "outputs": [
    {
     "data": {
      "text/latex": [
       "$\\displaystyle x^{2} - 3 x + 2$"
      ],
      "text/plain": [
       " 2          \n",
       "x  - 3⋅x + 2"
      ]
     },
     "execution_count": 2,
     "metadata": {},
     "output_type": "execute_result"
    }
   ],
   "source": [
    "# Inserta la función aquí\n",
    "f = x**2 - 3*x +2\n",
    "f"
   ]
  },
  {
   "cell_type": "markdown",
   "id": "11df4748-cc99-4542-a290-f345f6720599",
   "metadata": {},
   "source": [
    "### Resultado sin simplificaciones"
   ]
  },
  {
   "cell_type": "code",
   "execution_count": 3,
   "id": "fb6a8715-e88b-4667-b3ff-4bfbc7017cf0",
   "metadata": {},
   "outputs": [
    {
     "data": {
      "text/latex": [
       "$\\displaystyle \\frac{x^{3}}{3} - \\frac{3 x^{2}}{2} + 2 x$"
      ],
      "text/plain": [
       " 3      2      \n",
       "x    3⋅x       \n",
       "── - ──── + 2⋅x\n",
       "3     2        "
      ]
     },
     "execution_count": 3,
     "metadata": {},
     "output_type": "execute_result"
    }
   ],
   "source": [
    "integrate(f,x)"
   ]
  },
  {
   "cell_type": "markdown",
   "id": "efd12557-16e0-4e3d-b669-a5d7b2c56c99",
   "metadata": {},
   "source": [
    "### Resultado simplificado"
   ]
  },
  {
   "cell_type": "code",
   "execution_count": 4,
   "id": "2b50c9b6-25c3-452a-b69f-e7910f2b33a2",
   "metadata": {},
   "outputs": [
    {
     "data": {
      "text/latex": [
       "$\\displaystyle \\frac{x \\left(2 x^{2} - 9 x + 12\\right)}{6}$"
      ],
      "text/plain": [
       "  ⎛   2           ⎞\n",
       "x⋅⎝2⋅x  - 9⋅x + 12⎠\n",
       "───────────────────\n",
       "         6         "
      ]
     },
     "execution_count": 4,
     "metadata": {},
     "output_type": "execute_result"
    }
   ],
   "source": [
    "simplify(integrate(f,x))"
   ]
  },
  {
   "cell_type": "markdown",
   "id": "6eeddf51-a437-4b43-bb0a-2349750bda06",
   "metadata": {},
   "source": [
    "## Integrales Definidas $\\int_{a_f}^{b_f} f(x)dx$"
   ]
  },
  {
   "cell_type": "markdown",
   "id": "892b508a-ded4-473b-9975-00120b72abad",
   "metadata": {},
   "source": [
    "### Insertar datos"
   ]
  },
  {
   "cell_type": "code",
   "execution_count": 15,
   "id": "73f4caf6-8ae8-41e4-a43c-fb552d2558d2",
   "metadata": {},
   "outputs": [
    {
     "data": {
      "text/latex": [
       "$\\displaystyle \\cos{\\left(x \\right)}$"
      ],
      "text/plain": [
       "cos(x)"
      ]
     },
     "execution_count": 15,
     "metadata": {},
     "output_type": "execute_result"
    }
   ],
   "source": [
    "# Insertar el intervalo\n",
    "a_f = 0\n",
    "b_f = pi/2\n",
    "\n",
    "# Insertar la función aquí\n",
    "f = cos(x)\n",
    "f"
   ]
  },
  {
   "cell_type": "markdown",
   "id": "88c0f23c-ed1f-4f57-bbba-0d58631fa511",
   "metadata": {},
   "source": [
    "### Resultado sin simplificar"
   ]
  },
  {
   "cell_type": "code",
   "execution_count": 16,
   "id": "4b18e88a-7230-4cd3-ae07-301439f8b986",
   "metadata": {},
   "outputs": [
    {
     "data": {
      "text/latex": [
       "$\\displaystyle \\sin{\\left(\\frac{\\pi}{2} \\right)}$"
      ],
      "text/plain": [
       "   ⎛π⎞\n",
       "sin⎜─⎟\n",
       "   ⎝2⎠"
      ]
     },
     "execution_count": 16,
     "metadata": {},
     "output_type": "execute_result"
    }
   ],
   "source": [
    "integrate(f, (x,a_f,b_f))"
   ]
  },
  {
   "cell_type": "markdown",
   "id": "cb1835f6-0c4d-46ac-b1ef-a15b293312a1",
   "metadata": {},
   "source": [
    "### Resultado simplificado"
   ]
  },
  {
   "cell_type": "code",
   "execution_count": 14,
   "id": "bd2101f0-c4f2-4c24-8a3a-b3e5492738ee",
   "metadata": {},
   "outputs": [
    {
     "data": {
      "text/latex": [
       "$\\displaystyle \\sin{\\left(\\frac{\\pi}{8} \\right)}$"
      ],
      "text/plain": [
       "   ⎛π⎞\n",
       "sin⎜─⎟\n",
       "   ⎝8⎠"
      ]
     },
     "execution_count": 14,
     "metadata": {},
     "output_type": "execute_result"
    }
   ],
   "source": [
    "f = simplify(integrate(f, (x,a_f,b_f)))\n",
    "f"
   ]
  },
  {
   "cell_type": "markdown",
   "id": "53239f17-801e-4c89-a629-eccf80968839",
   "metadata": {},
   "source": [
    "### Insertar datos"
   ]
  },
  {
   "cell_type": "code",
   "execution_count": 8,
   "id": "e069ca09-e044-424f-b2fd-2bad4aa5493d",
   "metadata": {},
   "outputs": [
    {
     "data": {
      "text/latex": [
       "$\\displaystyle 1$"
      ],
      "text/plain": [
       "1"
      ]
     },
     "execution_count": 8,
     "metadata": {},
     "output_type": "execute_result"
    }
   ],
   "source": [
    "# Insertar el intervalo de x\n",
    "a_x = a\n",
    "b_x = b\n",
    "\n",
    "# Insertar el intervalo de y\n",
    "a_y = c\n",
    "b_y = d\n",
    "\n",
    "# Insertar la función aquí (El orden es dydx (y interna, x externa))\n",
    "f = 1\n",
    "f"
   ]
  },
  {
   "cell_type": "markdown",
   "id": "16cbff44-9677-4d00-8f01-e06f0dec9bbe",
   "metadata": {},
   "source": [
    "## Primera integral (dy)"
   ]
  },
  {
   "cell_type": "code",
   "execution_count": 9,
   "id": "47665c5a-36d6-426d-9827-d07d9583f043",
   "metadata": {},
   "outputs": [
    {
     "data": {
      "text/latex": [
       "$\\displaystyle - c + d$"
      ],
      "text/plain": [
       "-c + d"
      ]
     },
     "execution_count": 9,
     "metadata": {},
     "output_type": "execute_result"
    }
   ],
   "source": [
    "i = integrate(f,(y,a_y,b_y))\n",
    "i"
   ]
  },
  {
   "cell_type": "markdown",
   "id": "ce2fd9ce-2a81-460b-90c8-d819b1e66ff5",
   "metadata": {},
   "source": [
    "### Resultados sin simplificar"
   ]
  },
  {
   "cell_type": "code",
   "execution_count": 10,
   "id": "bf957723-a046-4fcc-bb0f-95fe73be1965",
   "metadata": {},
   "outputs": [
    {
     "data": {
      "text/latex": [
       "$\\displaystyle - a \\left(- c + d\\right) + b \\left(- c + d\\right)$"
      ],
      "text/plain": [
       "-a⋅(-c + d) + b⋅(-c + d)"
      ]
     },
     "execution_count": 10,
     "metadata": {},
     "output_type": "execute_result"
    }
   ],
   "source": [
    "integrate(i, (x,a_x,b_x))"
   ]
  },
  {
   "cell_type": "markdown",
   "id": "f6373d5d-3b2b-4819-8459-8fb584181ca8",
   "metadata": {},
   "source": [
    "### Resultados simplificados"
   ]
  },
  {
   "cell_type": "code",
   "execution_count": 11,
   "id": "9f9b0ad6-178c-483e-9d21-4b971f460e89",
   "metadata": {},
   "outputs": [
    {
     "data": {
      "text/latex": [
       "$\\displaystyle \\left(a - b\\right) \\left(c - d\\right)$"
      ],
      "text/plain": [
       "(a - b)⋅(c - d)"
      ]
     },
     "execution_count": 11,
     "metadata": {},
     "output_type": "execute_result"
    }
   ],
   "source": [
    "simplify(integrate(i, (x,a_x,b_x)))"
   ]
  }
 ],
 "metadata": {
  "kernelspec": {
   "display_name": "Python 3 (ipykernel)",
   "language": "python",
   "name": "python3"
  },
  "language_info": {
   "codemirror_mode": {
    "name": "ipython",
    "version": 3
   },
   "file_extension": ".py",
   "mimetype": "text/x-python",
   "name": "python",
   "nbconvert_exporter": "python",
   "pygments_lexer": "ipython3",
   "version": "3.11.4"
  }
 },
 "nbformat": 4,
 "nbformat_minor": 5
}
