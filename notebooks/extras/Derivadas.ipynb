{
 "cells": [
  {
   "cell_type": "markdown",
   "id": "dc1b33f3-5792-4537-b856-a396f70fc8e1",
   "metadata": {},
   "source": [
    "<a href=\"https://colab.research.google.com/github/LilyRosa/Matematica-Numerica-Google-Colab/blob/main/notebooks/extras/Derivadas.ipynb\" target=\"_parent\"><img src=\"https://colab.research.google.com/assets/colab-badge.svg\" alt=\"Open In Colab\"/></a>"
   ]
  },
  {
   "cell_type": "code",
   "execution_count": 1,
   "id": "75020e4d-1171-4360-9a5e-574b0437a5e1",
   "metadata": {},
   "outputs": [],
   "source": [
    "from sympy import *\n",
    "from sympy.abc import *\n",
    "init_printing(use_latex=\"mathjax\")"
   ]
  },
  {
   "cell_type": "markdown",
   "id": "718faa7c-6136-4495-bc77-7639ea91852e",
   "metadata": {},
   "source": [
    "# Calculadora de derivadas con Sympy"
   ]
  },
  {
   "cell_type": "markdown",
   "id": "e6171f85-27e9-4eb0-b575-c7186b58611a",
   "metadata": {},
   "source": [
    "Permite calcular derivadas usando la biblioteca de `sympy`\n",
    "\n",
    "> **Nota**: La documentación de la creación de funciones en simpy se encuentra en [este enlace](https://colab.research.google.com/github/LilyRosa/Matematica-Numerica-Google-Colab/blob/main/notebooks/tutoriales-generales/Sympy%20Funciones.ipynb)"
   ]
  },
  {
   "cell_type": "markdown",
   "id": "f7775de0-c250-44d0-92de-af853239af27",
   "metadata": {},
   "source": [
    "## Primera derivada $f'(x)$"
   ]
  },
  {
   "cell_type": "markdown",
   "id": "3c05e476-282e-455c-ad0b-79612c66fb49",
   "metadata": {},
   "source": [
    "### Insertar datos"
   ]
  },
  {
   "cell_type": "code",
   "execution_count": 11,
   "id": "5d77f2d9-a138-4ba6-b312-2fea0aac59a9",
   "metadata": {},
   "outputs": [
    {
     "data": {
      "text/latex": [
       "$\\displaystyle e^{- x} x$"
      ],
      "text/plain": [
       " -x  \n",
       "e  ⋅x"
      ]
     },
     "execution_count": 11,
     "metadata": {},
     "output_type": "execute_result"
    }
   ],
   "source": [
    "# Insertar funcion aqui\n",
    "f = x*pow(e,-x)\n",
    "f"
   ]
  },
  {
   "cell_type": "markdown",
   "id": "feab1204-3b7f-4f9a-ac05-6a39ae8ed298",
   "metadata": {},
   "source": [
    "### Resultados"
   ]
  },
  {
   "cell_type": "code",
   "execution_count": 12,
   "id": "32206309-d378-4492-bd5e-4bd7921a9b6f",
   "metadata": {},
   "outputs": [
    {
     "data": {
      "text/latex": [
       "$\\displaystyle e^{- x} \\left(- x \\log{\\left(e \\right)} + 1\\right)$"
      ],
      "text/plain": [
       " -x                \n",
       "e  ⋅(-x⋅log(e) + 1)"
      ]
     },
     "execution_count": 12,
     "metadata": {},
     "output_type": "execute_result"
    }
   ],
   "source": [
    "simplify(diff(f,x))"
   ]
  },
  {
   "cell_type": "markdown",
   "id": "42fbb343-47ab-4d71-ba43-cf0e3f4c573f",
   "metadata": {},
   "source": [
    "## N-ésima derivada $f^{(n)}(x)$"
   ]
  },
  {
   "cell_type": "markdown",
   "id": "b803f292-938b-4072-b412-74eb7104b867",
   "metadata": {},
   "source": [
    "### Insertar datos"
   ]
  },
  {
   "cell_type": "code",
   "execution_count": 4,
   "id": "55c16123-92da-474e-b596-42068cb13ed7",
   "metadata": {},
   "outputs": [
    {
     "data": {
      "text/latex": [
       "$\\displaystyle \\cos{\\left(x \\right)}$"
      ],
      "text/plain": [
       "cos(x)"
      ]
     },
     "execution_count": 4,
     "metadata": {},
     "output_type": "execute_result"
    }
   ],
   "source": [
    "# Insertar n-esimo termino\n",
    "n = 2\n",
    "\n",
    "# Insertar funcion aqui\n",
    "f = cos(x)\n",
    "f"
   ]
  },
  {
   "cell_type": "markdown",
   "id": "f075b069-39d1-49ad-990d-67f13a4a85c4",
   "metadata": {},
   "source": [
    "### Resultados"
   ]
  },
  {
   "cell_type": "code",
   "execution_count": 5,
   "id": "d9033474-8c85-4948-8ba0-904022c2499f",
   "metadata": {},
   "outputs": [
    {
     "data": {
      "text/latex": [
       "$\\displaystyle - \\cos{\\left(x \\right)}$"
      ],
      "text/plain": [
       "-cos(x)"
      ]
     },
     "execution_count": 5,
     "metadata": {},
     "output_type": "execute_result"
    }
   ],
   "source": [
    "simplify(diff(f,x,n))"
   ]
  },
  {
   "cell_type": "markdown",
   "id": "a8549356-c3f0-46df-b59f-6f778b3877c8",
   "metadata": {},
   "source": [
    "## Derivada parcial $\\frac{\\partial y}{\\partial x}$"
   ]
  },
  {
   "cell_type": "markdown",
   "id": "dfaad9dd-e2b0-4440-b0ce-4820fbd11ef8",
   "metadata": {},
   "source": [
    "### Insertar datos"
   ]
  },
  {
   "cell_type": "code",
   "execution_count": 6,
   "id": "001468a4-f666-4d42-a28a-b709f61b1079",
   "metadata": {},
   "outputs": [
    {
     "data": {
      "text/latex": [
       "$\\displaystyle a^{2} - a \\cos{\\left(c \\right)} + 5 a^{x} b + b c^{8}$"
      ],
      "text/plain": [
       " 2                 x        8\n",
       "a  - a⋅cos(c) + 5⋅a ⋅b + b⋅c "
      ]
     },
     "execution_count": 6,
     "metadata": {},
     "output_type": "execute_result"
    }
   ],
   "source": [
    "# Insertar funcion con mas de una variable aqui\n",
    "f = 5 * a ** x * b - a * cos(c) + a ** 2 + c ** 8 * b\n",
    "f"
   ]
  },
  {
   "cell_type": "markdown",
   "id": "9d210bb3-5913-4298-8d04-6cd00ceecb8f",
   "metadata": {},
   "source": [
    "### Resultados"
   ]
  },
  {
   "cell_type": "code",
   "execution_count": 7,
   "id": "6406d1e5-db34-46a0-b3c1-6b8628aff013",
   "metadata": {},
   "outputs": [
    {
     "data": {
      "text/latex": [
       "$\\displaystyle 5 a^{x} b \\log{\\left(a \\right)}$"
      ],
      "text/plain": [
       "   x         \n",
       "5⋅a ⋅b⋅log(a)"
      ]
     },
     "execution_count": 7,
     "metadata": {},
     "output_type": "execute_result"
    }
   ],
   "source": [
    "simplify(diff(f,x))"
   ]
  }
 ],
 "metadata": {
  "kernelspec": {
   "display_name": "Python 3 (ipykernel)",
   "language": "python",
   "name": "python3"
  },
  "language_info": {
   "codemirror_mode": {
    "name": "ipython",
    "version": 3
   },
   "file_extension": ".py",
   "mimetype": "text/x-python",
   "name": "python",
   "nbconvert_exporter": "python",
   "pygments_lexer": "ipython3",
   "version": "3.11.4"
  }
 },
 "nbformat": 4,
 "nbformat_minor": 5
}
