{
 "cells": [
  {
   "cell_type": "markdown",
   "id": "5ed226cb-2ad8-40d8-89b2-1400fa86ca2a",
   "metadata": {},
   "source": [
    "<a href=\"https://colab.research.google.com/github/LilyRosa/Matematica-Numerica-Google-Colab/blob/main/notebooks/extras/Playground.ipynb\" target=\"_parent\"><img src=\"https://colab.research.google.com/assets/colab-badge.svg\" alt=\"Open In Colab\"/></a>"
   ]
  },
  {
   "cell_type": "markdown",
   "id": "956fceda-fe39-4976-99d0-4659cd912057",
   "metadata": {},
   "source": [
    "# Playground"
   ]
  },
  {
   "cell_type": "markdown",
   "id": "85b3da5b-9302-4c0a-b52b-faa229abe60f",
   "metadata": {},
   "source": [
    "Esta sección permite probar las potencialidades que ofrecen los `Jupyter Notebooks`"
   ]
  },
  {
   "cell_type": "markdown",
   "id": "92a0b821-212b-4e80-8998-aefa577f50fc",
   "metadata": {},
   "source": [
    "## Importaciones de todas las bibliotecas usadas"
   ]
  },
  {
   "cell_type": "code",
   "execution_count": 1,
   "id": "0e538fb5-56cd-4b69-a72c-9d32dccde90a",
   "metadata": {},
   "outputs": [],
   "source": [
    "import numpy as np\n",
    "import matplotlib as matplot\n",
    "import scipy as sc\n",
    "import simpy as sp\n",
    "import pandas as pd"
   ]
  },
  {
   "cell_type": "markdown",
   "id": "f6de73f6-de27-4038-be05-e351ad9812d1",
   "metadata": {},
   "source": [
    "## Sección 1"
   ]
  },
  {
   "cell_type": "code",
   "execution_count": 2,
   "id": "14e9c776-3a45-4502-b6dc-4d32e3b6fd37",
   "metadata": {},
   "outputs": [],
   "source": [
    "# Experimentar aquí"
   ]
  },
  {
   "cell_type": "markdown",
   "id": "ae0194df-705f-4696-8c69-be9bb21cac28",
   "metadata": {},
   "source": [
    "## Sección 2"
   ]
  },
  {
   "cell_type": "code",
   "execution_count": 3,
   "id": "81dfa63f-ffb3-4377-b0b4-a837b76a0c66",
   "metadata": {},
   "outputs": [],
   "source": [
    "# Experimentar aquí"
   ]
  },
  {
   "cell_type": "markdown",
   "id": "257ee5e4-a75b-4357-abc2-4bf91acd0fc1",
   "metadata": {},
   "source": [
    "## Sección 3"
   ]
  },
  {
   "cell_type": "code",
   "execution_count": 4,
   "id": "92995c67-fb0e-4a7c-a620-a772573dd16e",
   "metadata": {},
   "outputs": [],
   "source": [
    "# Experimentar aquí"
   ]
  },
  {
   "cell_type": "markdown",
   "id": "62e5ed5e-165c-408b-b833-72288e131a30",
   "metadata": {},
   "source": [
    "## Sección 4"
   ]
  },
  {
   "cell_type": "code",
   "execution_count": 5,
   "id": "7c23f90b-8327-4ca4-9855-f55b5374889b",
   "metadata": {},
   "outputs": [],
   "source": [
    "# Experimentar aquí"
   ]
  },
  {
   "cell_type": "markdown",
   "id": "ff6de505-dd09-4566-a541-725f51c9e611",
   "metadata": {},
   "source": [
    "## Sección 5"
   ]
  },
  {
   "cell_type": "code",
   "execution_count": 6,
   "id": "ce890375-50aa-462a-a131-f7d3adfa3906",
   "metadata": {},
   "outputs": [],
   "source": [
    "# Experimentar aqui"
   ]
  }
 ],
 "metadata": {
  "kernelspec": {
   "display_name": "Python 3 (ipykernel)",
   "language": "python",
   "name": "python3"
  },
  "language_info": {
   "codemirror_mode": {
    "name": "ipython",
    "version": 3
   },
   "file_extension": ".py",
   "mimetype": "text/x-python",
   "name": "python",
   "nbconvert_exporter": "python",
   "pygments_lexer": "ipython3",
   "version": "3.11.4"
  }
 },
 "nbformat": 4,
 "nbformat_minor": 5
}
