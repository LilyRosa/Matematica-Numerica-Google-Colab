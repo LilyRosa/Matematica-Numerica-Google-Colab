{
 "cells": [
  {
   "cell_type": "markdown",
   "id": "fada2a6a-e4ba-4866-b640-83af2e29864a",
   "metadata": {},
   "source": [
    "<a href=\"https://colab.research.google.com/github/LilyRosa/Matematica-Numerica-Google-Colab/blob/main/notebooks/cap1/Cifras_Dec.ipynb\" target=\"_parent\"><img src=\"https://colab.research.google.com/assets/colab-badge.svg\" alt=\"Open In Colab\"/></a>"
   ]
  },
  {
   "cell_type": "markdown",
   "id": "fd8c8b67-2fe6-4076-bff4-d6da0ada01e3",
   "metadata": {},
   "source": [
    "# Cifras Decimales"
   ]
  },
  {
   "cell_type": "markdown",
   "id": "7d68b9a4-c0c8-46d0-b89b-18ee632bf0a6",
   "metadata": {},
   "source": [
    "## Implementación \n",
    "`cifras_dec(x)`: Permite contar la cantidad de cifras decimales de un valor $x$\n",
    "\n",
    "Parámetros:\n",
    "- `x`: valor $x$"
   ]
  },
  {
   "cell_type": "code",
   "execution_count": 1,
   "id": "36bdc931-b809-40d4-92e7-7ffacc2c2220",
   "metadata": {},
   "outputs": [],
   "source": [
    "def cifras_dec(x):\n",
    "    a = str(x)\n",
    "    cont = 0\n",
    "    contar = False\n",
    "    for i in a:\n",
    "        if contar:\n",
    "            cont += 1\n",
    "        if i == '.' or i == ',':\n",
    "            contar = True\n",
    "    return cont"
   ]
  },
  {
   "cell_type": "markdown",
   "id": "926355a9-c02b-4027-aefa-13cffba33337",
   "metadata": {},
   "source": [
    "# Inserción de datos"
   ]
  },
  {
   "cell_type": "code",
   "execution_count": 2,
   "id": "030d17f2-a117-452e-ab47-3004ecfd6341",
   "metadata": {},
   "outputs": [],
   "source": [
    "x = '12.3344'"
   ]
  },
  {
   "cell_type": "markdown",
   "id": "7a8f2729-3d85-4a4e-aacc-6ce8cbca6758",
   "metadata": {},
   "source": [
    "# Salida de datos"
   ]
  },
  {
   "cell_type": "code",
   "execution_count": 3,
   "id": "9b84c728-5adc-4185-90ad-2edfcf8a5d2c",
   "metadata": {},
   "outputs": [
    {
     "name": "stdout",
     "output_type": "stream",
     "text": [
      "Tiene 4 cifras decimales\n"
     ]
    }
   ],
   "source": [
    "print(f'Tiene {cifras_dec(x)} cifras decimales')"
   ]
  }
 ],
 "metadata": {
  "kernelspec": {
   "display_name": "Python 3 (ipykernel)",
   "language": "python",
   "name": "python3"
  },
  "language_info": {
   "codemirror_mode": {
    "name": "ipython",
    "version": 3
   },
   "file_extension": ".py",
   "mimetype": "text/x-python",
   "name": "python",
   "nbconvert_exporter": "python",
   "pygments_lexer": "ipython3",
   "version": "3.11.4"
  }
 },
 "nbformat": 4,
 "nbformat_minor": 5
}
