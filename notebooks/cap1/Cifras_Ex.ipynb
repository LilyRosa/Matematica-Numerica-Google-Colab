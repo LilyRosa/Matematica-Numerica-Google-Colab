{
 "cells": [
  {
   "cell_type": "markdown",
   "id": "9d80026d-0bd9-4c41-9a6d-e0045c3edb0e",
   "metadata": {},
   "source": [
    "<a href=\"https://colab.research.google.com/github/LilyRosa/Matematica-Numerica-Google-Colab/blob/main/notebooks/cap1/Cifras_Ex.ipynb\" target=\"_parent\"><img src=\"https://colab.research.google.com/assets/colab-badge.svg\" alt=\"Open In Colab\"/></a>"
   ]
  },
  {
   "cell_type": "code",
   "execution_count": 1,
   "id": "cab1254a-ca4e-4af0-8f3b-798dc54f08e9",
   "metadata": {},
   "outputs": [],
   "source": [
    "import pandas as pd"
   ]
  },
  {
   "cell_type": "markdown",
   "id": "cf1e6c10-a4c9-4c18-9288-de21a2c194ca",
   "metadata": {},
   "source": [
    "# Cifras exactas"
   ]
  },
  {
   "cell_type": "markdown",
   "id": "85e43827-9bbe-4d70-8a30-31b702b2f34d",
   "metadata": {},
   "source": [
    "## Implementación"
   ]
  },
  {
   "cell_type": "markdown",
   "id": "8f1b1e6f-d8b5-4a7f-9de9-4691839a19f1",
   "metadata": {},
   "source": [
    "### Clases auxiliares necesarias"
   ]
  },
  {
   "cell_type": "code",
   "execution_count": 2,
   "id": "a3bc9870-b8e6-4875-bfaa-ef1f6906722e",
   "metadata": {},
   "outputs": [],
   "source": [
    "class ResultadoCifrasExactas:\n",
    "    def __init__(self, lista, valor):\n",
    "        self.lista_filas_proc = lista\n",
    "        self.valor_cifras_exactas = valor\n",
    "\n",
    "class FilaProcCifrasExactas:\n",
    "    def __init__(self, dig, pos, valor, exacto):\n",
    "        self.digito = dig\n",
    "        self.pos_k = pos\n",
    "        self.valor_pos = valor\n",
    "        self.dig_exacto = exacto"
   ]
  },
  {
   "cell_type": "markdown",
   "id": "8f4ae685-876f-4c1f-87ad-308d56229a24",
   "metadata": {},
   "source": [
    "### Cifras exactas\n",
    "\n",
    "`cifras_exactas(xa, error_abs)`: Determina las cifras exactas de un valor $x$ dado (mostrando el procedimiento), así como contar la cantidad de cifras exactas y la cantidad de cifras decimales exactas\n",
    "\n",
    "Parámetros:\n",
    "- `xa`: valor aproximado $xa$ ($x^*$)\n",
    "- `error_abs`: error absoluto $E(x)$"
   ]
  },
  {
   "cell_type": "code",
   "execution_count": 3,
   "id": "5a1f2f31-a978-4132-8047-535c9cf42688",
   "metadata": {},
   "outputs": [],
   "source": [
    "def cifras_exactas(xa, error_abs):\n",
    "    cont = 0\n",
    "    lista = []\n",
    "    parar = False\n",
    "    for i in str(xa):\n",
    "        if i != '.' and i != ',':\n",
    "            cont += 1\n",
    "        else:\n",
    "            break\n",
    "\n",
    "    pos = cont-1\n",
    "    j = 0\n",
    "    comp = False\n",
    "    exacta = False\n",
    "    valorExacto = ''\n",
    "\n",
    "    while not parar and j < len(str(xa)):\n",
    "        cifra = str(xa)[j]\n",
    "        if cifra != '.' and cifra != ',':\n",
    "            p = pos\n",
    "            c = cifra\n",
    "            v = 0.5 * pow(10,pos)\n",
    "            comp = error_abs <= 0.5 * pow(10,pos)\n",
    "            pos -= 1\n",
    "            if not comp:\n",
    "                parar = True\n",
    "                exacta = False\n",
    "            else:\n",
    "                exacta = True\n",
    "            lista.append(FilaProcCifrasExactas(c, p, v, exacta))\n",
    "        if exacta:\n",
    "            valorExacto += str(cifra)\n",
    "        j += 1\n",
    "\n",
    "    \n",
    "    return ResultadoCifrasExactas(lista, valorExacto)"
   ]
  },
  {
   "cell_type": "markdown",
   "id": "e4586a4a-3aeb-4f2b-a00f-d9522c968cde",
   "metadata": {},
   "source": [
    "### Métodos Auxiliares"
   ]
  },
  {
   "cell_type": "code",
   "execution_count": 4,
   "id": "5b621194-4385-4a74-8828-4a4050f3fd05",
   "metadata": {},
   "outputs": [],
   "source": [
    "def convertir_resultados(lista_resultados):\n",
    "    lista = []\n",
    "    for r in lista_resultados:\n",
    "        l = []\n",
    "        l.append(r.pos_k)\n",
    "        a = '≤' if r.dig_exacto else '>'\n",
    "        l.append(f\"E(x) {a} {r.valor_pos}\")\n",
    "        l.append(r.digito)\n",
    "        l.append('NO es exacta' if not r.dig_exacto else 'SÍ es exacta')\n",
    "        lista.append(l)\n",
    "\n",
    "    df = pd.DataFrame(data=lista, columns=['Posición k', 'E(x) ≤ 0.5*10^k', 'Cifra o dígito', 'Exacta'])\n",
    "    df = df.reset_index(drop=True)\n",
    "    df.index = df.index + 1\n",
    "    df.index.name = 'Iteración'\n",
    "    return df"
   ]
  },
  {
   "cell_type": "markdown",
   "id": "b49208e2-99ea-4bf1-9da7-4a23176b5e5b",
   "metadata": {},
   "source": [
    "# Inserción de datos"
   ]
  },
  {
   "cell_type": "code",
   "execution_count": 5,
   "id": "04810949-9e7a-4663-932a-b070a2c5ee3f",
   "metadata": {},
   "outputs": [],
   "source": [
    "xa = 3.1416\n",
    "error_abs = 0.002"
   ]
  },
  {
   "cell_type": "markdown",
   "id": "f55fa86d-cc91-471f-b618-587acfd50552",
   "metadata": {},
   "source": [
    "# Salida de datos"
   ]
  },
  {
   "cell_type": "code",
   "execution_count": 6,
   "id": "082abfee-f728-4db0-b1a0-88e8a1211a0b",
   "metadata": {},
   "outputs": [
    {
     "data": {
      "text/html": [
       "<div>\n",
       "<style scoped>\n",
       "    .dataframe tbody tr th:only-of-type {\n",
       "        vertical-align: middle;\n",
       "    }\n",
       "\n",
       "    .dataframe tbody tr th {\n",
       "        vertical-align: top;\n",
       "    }\n",
       "\n",
       "    .dataframe thead th {\n",
       "        text-align: right;\n",
       "    }\n",
       "</style>\n",
       "<table border=\"1\" class=\"dataframe\">\n",
       "  <thead>\n",
       "    <tr style=\"text-align: right;\">\n",
       "      <th></th>\n",
       "      <th>Posición k</th>\n",
       "      <th>E(x) ≤ 0.5*10^k</th>\n",
       "      <th>Cifra o dígito</th>\n",
       "      <th>Exacta</th>\n",
       "    </tr>\n",
       "    <tr>\n",
       "      <th>Iteración</th>\n",
       "      <th></th>\n",
       "      <th></th>\n",
       "      <th></th>\n",
       "      <th></th>\n",
       "    </tr>\n",
       "  </thead>\n",
       "  <tbody>\n",
       "    <tr>\n",
       "      <th>1</th>\n",
       "      <td>0</td>\n",
       "      <td>E(x) ≤ 0.5</td>\n",
       "      <td>3</td>\n",
       "      <td>SÍ es exacta</td>\n",
       "    </tr>\n",
       "    <tr>\n",
       "      <th>2</th>\n",
       "      <td>-1</td>\n",
       "      <td>E(x) ≤ 0.05</td>\n",
       "      <td>1</td>\n",
       "      <td>SÍ es exacta</td>\n",
       "    </tr>\n",
       "    <tr>\n",
       "      <th>3</th>\n",
       "      <td>-2</td>\n",
       "      <td>E(x) ≤ 0.005</td>\n",
       "      <td>4</td>\n",
       "      <td>SÍ es exacta</td>\n",
       "    </tr>\n",
       "    <tr>\n",
       "      <th>4</th>\n",
       "      <td>-3</td>\n",
       "      <td>E(x) &gt; 0.0005</td>\n",
       "      <td>1</td>\n",
       "      <td>NO es exacta</td>\n",
       "    </tr>\n",
       "  </tbody>\n",
       "</table>\n",
       "</div>"
      ],
      "text/plain": [
       "           Posición k E(x) ≤ 0.5*10^k Cifra o dígito        Exacta\n",
       "Iteración                                                         \n",
       "1                   0      E(x) ≤ 0.5              3  SÍ es exacta\n",
       "2                  -1     E(x) ≤ 0.05              1  SÍ es exacta\n",
       "3                  -2    E(x) ≤ 0.005              4  SÍ es exacta\n",
       "4                  -3   E(x) > 0.0005              1  NO es exacta"
      ]
     },
     "execution_count": 6,
     "metadata": {},
     "output_type": "execute_result"
    }
   ],
   "source": [
    "r = cifras_exactas(xa, error_abs)\n",
    "convertir_resultados(r.lista_filas_proc)"
   ]
  },
  {
   "cell_type": "code",
   "execution_count": 7,
   "id": "cbcf6039-dacf-4875-85ae-05b483f2b3d2",
   "metadata": {},
   "outputs": [
    {
     "name": "stdout",
     "output_type": "stream",
     "text": [
      "El valor exacto es: 3.14\n"
     ]
    }
   ],
   "source": [
    "print('El valor exacto es: '+str(r.valor_cifras_exactas))"
   ]
  }
 ],
 "metadata": {
  "kernelspec": {
   "display_name": "Python 3 (ipykernel)",
   "language": "python",
   "name": "python3"
  },
  "language_info": {
   "codemirror_mode": {
    "name": "ipython",
    "version": 3
   },
   "file_extension": ".py",
   "mimetype": "text/x-python",
   "name": "python",
   "nbconvert_exporter": "python",
   "pygments_lexer": "ipython3",
   "version": "3.11.4"
  }
 },
 "nbformat": 4,
 "nbformat_minor": 5
}
