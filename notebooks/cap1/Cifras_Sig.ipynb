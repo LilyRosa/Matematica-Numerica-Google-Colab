{
 "cells": [
  {
   "cell_type": "markdown",
   "id": "d733d285-f377-411e-a635-5643d908f549",
   "metadata": {},
   "source": [
    "<a href=\"https://colab.research.google.com/github/LilyRosa/Matematica-Numerica-Google-Colab/blob/main/notebooks/cap1/Cifras_Sig.ipynb\" target=\"_parent\"><img src=\"https://colab.research.google.com/assets/colab-badge.svg\" alt=\"Open In Colab\"/></a>"
   ]
  },
  {
   "cell_type": "markdown",
   "id": "c09a729e-56a8-447f-93b4-f4548060c4ec",
   "metadata": {},
   "source": [
    "# Cifras Significativas"
   ]
  },
  {
   "cell_type": "markdown",
   "id": "486321aa-01d2-4432-acec-6bae2680e5c6",
   "metadata": {},
   "source": [
    "## Implementación\n",
    "`cifras_sig(x)`: Permite contar la cantidad de cifras significativas de un valor $x$\n",
    "\n",
    "Parámetros:\n",
    "- `x`: valor $x$"
   ]
  },
  {
   "cell_type": "code",
   "execution_count": 1,
   "id": "f98c36b1-29f5-45a0-9552-8ae530cd75ad",
   "metadata": {},
   "outputs": [],
   "source": [
    "def cifras_sig(x):\n",
    "    a = str(x)\n",
    "    cont = 0\n",
    "    if float(x)>=1:\n",
    "        cont = len(str(x))\n",
    "        if a.count('.') == 1 or a.count(',') == 1:\n",
    "            cont -= 1\n",
    "        return cont\n",
    "    \n",
    "    contar1 = False\n",
    "    contar2 = False\n",
    "    for i in a:\n",
    "        if i != '0' and i != ',' and i != '.':\n",
    "            contar1 = True\n",
    "        if contar1 and contar2:\n",
    "            cont += 1\n",
    "        if i == ',' or i == '.':\n",
    "            contar2 = True\n",
    "    return cont"
   ]
  },
  {
   "cell_type": "markdown",
   "id": "01c9c217-176d-4257-bfed-bfab9745da85",
   "metadata": {},
   "source": [
    "# Inserción de datos"
   ]
  },
  {
   "cell_type": "code",
   "execution_count": 2,
   "id": "c2eef310-a4bd-4a7a-97b8-f445b30e1a79",
   "metadata": {},
   "outputs": [],
   "source": [
    "x = '0.002030'"
   ]
  },
  {
   "cell_type": "markdown",
   "id": "9342e406-f9cf-4661-8404-f22392cdc8e9",
   "metadata": {},
   "source": [
    "# Salida de datos"
   ]
  },
  {
   "cell_type": "code",
   "execution_count": 3,
   "id": "54ba8866-fde9-4b0a-937a-5734e8cfa812",
   "metadata": {},
   "outputs": [
    {
     "name": "stdout",
     "output_type": "stream",
     "text": [
      "Tiene 4 cifras significativas\n"
     ]
    }
   ],
   "source": [
    "print(f'Tiene {cifras_sig(x)} cifras significativas')"
   ]
  }
 ],
 "metadata": {
  "kernelspec": {
   "display_name": "Python 3 (ipykernel)",
   "language": "python",
   "name": "python3"
  },
  "language_info": {
   "codemirror_mode": {
    "name": "ipython",
    "version": 3
   },
   "file_extension": ".py",
   "mimetype": "text/x-python",
   "name": "python",
   "nbconvert_exporter": "python",
   "pygments_lexer": "ipython3",
   "version": "3.11.4"
  }
 },
 "nbformat": 4,
 "nbformat_minor": 5
}
