{
 "cells": [
  {
   "cell_type": "markdown",
   "id": "ea093253-2ab6-4c17-bc9d-3e55c368b6ce",
   "metadata": {},
   "source": [
    "<a href=\"https://colab.research.google.com/github/LilyRosa/Matematica-Numerica-Google-Colab/blob/main/notebooks/cap1/Medidas_del_error.ipynb\" target=\"_parent\"><img src=\"https://colab.research.google.com/assets/colab-badge.svg\" alt=\"Open In Colab\"/></a>"
   ]
  },
  {
   "cell_type": "markdown",
   "id": "b4ec9079-66f6-4380-a602-70753b7f39a9",
   "metadata": {},
   "source": [
    "# Medidas del error"
   ]
  },
  {
   "cell_type": "markdown",
   "id": "18a0e8b2-1b9f-48a5-b27c-d25a7a79b8c1",
   "metadata": {},
   "source": [
    "## Error"
   ]
  },
  {
   "cell_type": "markdown",
   "id": "6d0ab992-e492-425b-bf1d-af8e378792e7",
   "metadata": {},
   "source": [
    "### Fórmula\n",
    "$error(x)=x-xa$"
   ]
  },
  {
   "cell_type": "markdown",
   "id": "fb6f813c-b633-4d18-acce-75d033eae3b7",
   "metadata": {},
   "source": [
    "### Implementación\n",
    "`error(x, xa)`: Calcular el error de $xa$ en relación con el valor exacto $x$\n",
    "\n",
    "Parámetros:\n",
    "- `x`: valor exacto $x$\n",
    "- `xa`: valor aproximado $xa$\n",
    "\n",
    "> Otra notación posible es $error(x)=x^*-x$, siendo $x^*$ el valor exacto y $x$ el valor aproximado"
   ]
  },
  {
   "cell_type": "code",
   "execution_count": 1,
   "id": "24f44a5a-fd18-45a8-a422-0951104aeb1b",
   "metadata": {},
   "outputs": [],
   "source": [
    "def error(x, xa):\n",
    "    return x - xa"
   ]
  },
  {
   "cell_type": "markdown",
   "id": "7ea92686-78cb-4c56-a285-dc680df310ca",
   "metadata": {},
   "source": [
    "## Error Absoluto"
   ]
  },
  {
   "cell_type": "markdown",
   "id": "f8430d14-e708-4b40-9eeb-95712dccc8e6",
   "metadata": {},
   "source": [
    "### Fórmula\n",
    "$E(x)=|error(x)|$"
   ]
  },
  {
   "cell_type": "markdown",
   "id": "c90a1afe-e7b9-4bb9-ba76-77358c2d57de",
   "metadata": {},
   "source": [
    "### Implementación\n",
    "`error_abs(error)`: Calcular el error absoluto $E(x)$ dado el error\n",
    "\n",
    "Parámetros:\n",
    "- `error`: error de $xa$"
   ]
  },
  {
   "cell_type": "code",
   "execution_count": 2,
   "id": "df3b5d3c-58d7-4664-bda8-46001863f0fe",
   "metadata": {},
   "outputs": [],
   "source": [
    "def error_abs(error):\n",
    "    return abs(error)"
   ]
  },
  {
   "cell_type": "markdown",
   "id": "7d5a1481-20e0-4bad-9976-ed1d1c473675",
   "metadata": {},
   "source": [
    "## Error relativo"
   ]
  },
  {
   "cell_type": "markdown",
   "id": "7da9ec5a-39bb-4c1c-ac9b-7161a8fe822c",
   "metadata": {},
   "source": [
    "### Fórmula\n",
    "$e(x)=\\frac{E(x)}{|x^*|}$"
   ]
  },
  {
   "cell_type": "markdown",
   "id": "566b06ad-9811-4f93-aa7e-f512c4ea1d34",
   "metadata": {},
   "source": [
    "### Implementación\n",
    "`error_rel(error_abs, x)`: Calcular el error relativo $e(x)$ dado el error absoluto y el valor exacto $x$\n",
    "\n",
    "Parámetros:\n",
    "- `error_abs`: error absoluto\n",
    "- `x`: valor exacto $x$\n",
    "\n",
    "> El valor exacto $x$ en ocasiones no se conoce, en cuyo caso puede ser empleado el valor aproximado $xa$"
   ]
  },
  {
   "cell_type": "code",
   "execution_count": 3,
   "id": "c749fe49-b31a-46e8-94fc-952abfee3fb7",
   "metadata": {},
   "outputs": [],
   "source": [
    "def error_rel(error_abs, x):\n",
    "    return error_abs/abs(x)"
   ]
  },
  {
   "cell_type": "markdown",
   "id": "b43150bc-beb0-4dd1-aafb-0a52b1836b22",
   "metadata": {},
   "source": [
    "## Mínimo error absoluto máximo"
   ]
  },
  {
   "cell_type": "markdown",
   "id": "781bedb6-cd6d-4323-8e0c-88e53af91033",
   "metadata": {},
   "source": [
    "### Implementación\n",
    "`min_error_abs_max(a, b)`: Obtener el mínimo error absoluto máximo $E_m(x)$ en el intervalo dado $[a,b]$.\n",
    "\n",
    "Parámetros:\n",
    "- `a`: punto inicial del intervalo $[a,b]$\n",
    "- `b`: punto final del intervalo $[a,b]$"
   ]
  },
  {
   "cell_type": "code",
   "execution_count": 4,
   "id": "29f37c2e-67d8-45a3-adf8-f204391fabe4",
   "metadata": {},
   "outputs": [],
   "source": [
    "def min_error_abs_max(a, b):\n",
    "    return (a+b)/2"
   ]
  },
  {
   "cell_type": "markdown",
   "id": "913e0e20-14af-4a4d-a867-5b0dd388ba9a",
   "metadata": {},
   "source": [
    "# Inserción de datos"
   ]
  },
  {
   "cell_type": "code",
   "execution_count": 5,
   "id": "95d0b3e7-7bde-440d-9a20-49981f354eca",
   "metadata": {},
   "outputs": [],
   "source": [
    "# Error\n",
    "x_1 = 10.2\n",
    "xa_1 = 11.9\n",
    "\n",
    "# Error absoluto\n",
    "error_2 = -0.9\n",
    "\n",
    "# Error relativo\n",
    "error_abs_3 = 0.9\n",
    "x_3 = 12.2\n",
    "\n",
    "# Mínimo error absoluto máximo\n",
    "a = 6.23\n",
    "b = 9.67\n"
   ]
  },
  {
   "cell_type": "markdown",
   "id": "2c4aedda-820b-4ed9-ab06-2595a52431d6",
   "metadata": {},
   "source": [
    "# Salida de datos "
   ]
  },
  {
   "cell_type": "markdown",
   "id": "0af14fb5-ab35-4451-b4e4-0d70ee3d0cfe",
   "metadata": {},
   "source": [
    "## Error"
   ]
  },
  {
   "cell_type": "code",
   "execution_count": 6,
   "id": "d22c79fc-1f32-41d6-9774-f961192e7a31",
   "metadata": {},
   "outputs": [
    {
     "name": "stdout",
     "output_type": "stream",
     "text": [
      "El error es -1.700000000000001\n"
     ]
    }
   ],
   "source": [
    "print(f'El error es {error(x_1,xa_1)}')"
   ]
  },
  {
   "cell_type": "markdown",
   "id": "62bd6677-c999-48b5-8d5b-f275916a2727",
   "metadata": {},
   "source": [
    "## Error absoluto"
   ]
  },
  {
   "cell_type": "code",
   "execution_count": 7,
   "id": "f4a19f5f-0fda-4334-81c5-d5bb7fe3a1ef",
   "metadata": {},
   "outputs": [
    {
     "name": "stdout",
     "output_type": "stream",
     "text": [
      "El error absoluto es 0.9\n"
     ]
    }
   ],
   "source": [
    "print(f'El error absoluto es {error_abs(error_2)}')"
   ]
  },
  {
   "cell_type": "markdown",
   "id": "d5a5f0e7-b67e-444e-a800-1b9b7c3c2197",
   "metadata": {},
   "source": [
    "## Error relativo"
   ]
  },
  {
   "cell_type": "code",
   "execution_count": 8,
   "id": "8a5d72a1-db2a-457e-b551-865c2c897922",
   "metadata": {},
   "outputs": [
    {
     "name": "stdout",
     "output_type": "stream",
     "text": [
      "El error relativo es 0.0737704918032787\n"
     ]
    }
   ],
   "source": [
    "print(f'El error relativo es {error_rel(error_abs_3, x_3)}')"
   ]
  },
  {
   "cell_type": "markdown",
   "id": "2ac2247f-4589-4848-bea1-c6a1d626985e",
   "metadata": {},
   "source": [
    "## Mínimo error absoluto máximo"
   ]
  },
  {
   "cell_type": "code",
   "execution_count": 9,
   "id": "6bb875be-3f83-4c54-8a74-131fd6b02e99",
   "metadata": {},
   "outputs": [
    {
     "name": "stdout",
     "output_type": "stream",
     "text": [
      "El mínimo error absoluto máximo en el intervalo [6.23, 9.67], es 7.95\n"
     ]
    }
   ],
   "source": [
    "print(f'El mínimo error absoluto máximo en el intervalo [{a}, {b}], es {min_error_abs_max(a, b)}')"
   ]
  }
 ],
 "metadata": {
  "kernelspec": {
   "display_name": "Python 3 (ipykernel)",
   "language": "python",
   "name": "python3"
  },
  "language_info": {
   "codemirror_mode": {
    "name": "ipython",
    "version": 3
   },
   "file_extension": ".py",
   "mimetype": "text/x-python",
   "name": "python",
   "nbconvert_exporter": "python",
   "pygments_lexer": "ipython3",
   "version": "3.11.4"
  }
 },
 "nbformat": 4,
 "nbformat_minor": 5
}
