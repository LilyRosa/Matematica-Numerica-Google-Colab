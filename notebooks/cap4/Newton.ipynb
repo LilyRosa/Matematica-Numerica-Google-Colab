{
 "cells": [
  {
   "cell_type": "markdown",
   "id": "8a7fea92-2c8b-474f-afd4-1ba72f41e0ce",
   "metadata": {},
   "source": [
    "<a href=\"https://colab.research.google.com/github/LilyRosa/Matematica-Numerica-Google-Colab/blob/main/notebooks/cap4/Newton.ipynb\" target=\"_parent\"><img src=\"https://colab.research.google.com/assets/colab-badge.svg\" alt=\"Open In Colab\"/></a>"
   ]
  },
  {
   "cell_type": "code",
   "execution_count": 1,
   "id": "671380b7",
   "metadata": {},
   "outputs": [],
   "source": [
    "import pandas as pd\n",
    "from numpy import array, zeros"
   ]
  },
  {
   "cell_type": "markdown",
   "id": "bb8926a8",
   "metadata": {},
   "source": [
    "# Método de Newton o Diferencias Divididas\n",
    "La idea fundamental del método de Newton es realizar la interpolación en un punto de forma sucesiva: partiendo de dos nodos ir agregando los demás, uno por uno, en el orden que se desee, de tal manera que en cada paso solo se requiera agregar un nuevo término a los cálculos precedentes. El método permite, sin realizar ninguna operación adicional, ir obteniendo en cada paso del proceso una estimación del error de interpolación, de manera que el proceso iterativo se pueda detener si se alcanza un error suficientemente pequeño. \n",
    "\n",
    "Este método es útil para situaciones que requieran un número bajo de puntos para interpolar, ya que a medida que crece el número de puntos, también lo hace el grado del polinomio.\n",
    "\n",
    "### Definición de pendiente de orden n\n",
    "El primer paso para hallar la fórmula de la interpolación es definir la pendiente de orden $n$  de manera recursiva:\n",
    "\n",
    "- $f_0(x_i)$ : término i-ésimo de la secuencia\n",
    "\n",
    "- $f_1(x_0, x_1) = \\frac{f_0(x_1) - f_0(x_0)}{x_1 - x_0}$\n",
    "\n",
    "- $f_2(x_0, x_1, x_2) = \\frac{f_1(x_1,x_2) - f_1(x_0,x_1)}{x_2 - x_0}$ \n",
    "\n",
    "En general: <br>\n",
    "- $f_i(x_0, x_1, ..., x_{i-1}, x_i) = \\frac{f_{i-1}(x_1,...,x_{i-1},x_i) - f_{i-1}(x_0,x_1,...,x_{i-1})}{x_i - x_0}$\n",
    "\n",
    "### Definición del polinomio\n",
    "Una vez conocemos la pendiente, ya es posible definir el polinomio de grado $n$ de manera también recursiva:\n",
    "\n",
    "- $p_0(x) = f_0(x_0) = x_0$. Se define así ya que este es el único valor que se ajusta a la secuencia original para el primer término.\n",
    "\n",
    "- $p_1(x) = p_0(x) + f_1(x_0,x_1) * (x - x_0)$\n",
    "- $p_2(x) = p_1(x) + f_2(x_0, x_1, x_2) * (x - x_0) * (x - x_1)$\n",
    "\n",
    "En general<br>\n",
    "\n",
    "- $p_i(x) = p_{i-1}(v) + f_i(x_0,x_1,...,x_{i-1},x_i) \\prod_{j = 0}^{i - 1}(x - x_j)$ "
   ]
  },
  {
   "cell_type": "markdown",
   "id": "8b3aa6b1",
   "metadata": {},
   "source": [
    "## Implementación"
   ]
  },
  {
   "cell_type": "markdown",
   "id": "c0e0180a-bb53-4a5d-ade3-01b6e7d880dc",
   "metadata": {},
   "source": [
    "### Diferencias divididas"
   ]
  },
  {
   "cell_type": "markdown",
   "id": "f23f6769",
   "metadata": {},
   "source": [
    "```diferencias_divididas(xi, yi):``` Función para calcular la tabla de las diferencias divididas\n",
    "\n",
    "Entrada:\n",
    "- ```xi``` = arreglo que contiene los coeficientes de $x_i$\n",
    "- ```yi``` = arreglo que contiene los valores de $y_i$ para cada $x_i$\n",
    "\n",
    "Salida:\n",
    "\n",
    "- ```coef``` = tabla de diferencias divididas"
   ]
  },
  {
   "cell_type": "code",
   "execution_count": 2,
   "id": "5e4c36fc",
   "metadata": {},
   "outputs": [],
   "source": [
    "def diferencias_divididas(xi, yi):\n",
    "    n = len(yi)\n",
    "    coef = zeros([n, n])\n",
    "    coef[:, 0] = yi\n",
    "\n",
    "    for j in range(1, n):\n",
    "        for i in range(n - j):\n",
    "            coef[i][j] = (coef[i + 1][j - 1] - coef[i][j - 1]) / (xi[i + j] - xi[i])\n",
    "    return coef"
   ]
  },
  {
   "cell_type": "markdown",
   "id": "a6daf594-0482-4de2-8cdd-ce924de8bf2a",
   "metadata": {},
   "source": [
    "### Métodos auxiliares"
   ]
  },
  {
   "cell_type": "code",
   "execution_count": 3,
   "id": "28908e42-42b5-4013-aa97-c6922cbc4882",
   "metadata": {},
   "outputs": [],
   "source": [
    "def convertir_resultados(xi, yi, diferencias_divididas):\n",
    "    lista = []\n",
    "    n = len(diferencias_divididas[0])\n",
    "    for i, r in enumerate(diferencias_divididas):\n",
    "        l = ['{:.7f}'.format(xi[i]), '{:.7f}'.format(yi[i])]\n",
    "        for j, diff in enumerate(r):\n",
    "            if j != 0 and j < n - i:\n",
    "                l.append('{:.7f}'.format(diff))\n",
    "            elif j != 0:\n",
    "                l.append('---------')\n",
    "        lista.append(l)\n",
    "\n",
    "    cols = ['xi', 'f(x)']\n",
    "    for i in range(1, n):\n",
    "        cols.append('diff ' + str(i))\n",
    "\n",
    "    df = pd.DataFrame(data=lista, columns=cols)\n",
    "    df.index.name = 'Iteración'\n",
    "    return df"
   ]
  },
  {
   "cell_type": "markdown",
   "id": "2e73a061",
   "metadata": {},
   "source": [
    "## Inserción de datos:"
   ]
  },
  {
   "cell_type": "code",
   "execution_count": 4,
   "id": "3052d481",
   "metadata": {},
   "outputs": [],
   "source": [
    "xi = array([1.15, 1.20, 1.10, 1.25, 1.05, 1.30])\n",
    "yi = array([0.93304, 0.91817, 0.95135, 0.90640, 0.97350, 0.89747])"
   ]
  },
  {
   "cell_type": "markdown",
   "id": "0b85e338",
   "metadata": {},
   "source": [
    "## Salida de datos:\n",
    "**Nota**: "
   ]
  },
  {
   "cell_type": "code",
   "execution_count": 5,
   "id": "1f807258",
   "metadata": {},
   "outputs": [
    {
     "data": {
      "text/html": [
       "<div>\n",
       "<style scoped>\n",
       "    .dataframe tbody tr th:only-of-type {\n",
       "        vertical-align: middle;\n",
       "    }\n",
       "\n",
       "    .dataframe tbody tr th {\n",
       "        vertical-align: top;\n",
       "    }\n",
       "\n",
       "    .dataframe thead th {\n",
       "        text-align: right;\n",
       "    }\n",
       "</style>\n",
       "<table border=\"1\" class=\"dataframe\">\n",
       "  <thead>\n",
       "    <tr style=\"text-align: right;\">\n",
       "      <th></th>\n",
       "      <th>xi</th>\n",
       "      <th>f(x)</th>\n",
       "      <th>diff 1</th>\n",
       "      <th>diff 2</th>\n",
       "      <th>diff 3</th>\n",
       "      <th>diff 4</th>\n",
       "      <th>diff 5</th>\n",
       "    </tr>\n",
       "    <tr>\n",
       "      <th>Iteración</th>\n",
       "      <th></th>\n",
       "      <th></th>\n",
       "      <th></th>\n",
       "      <th></th>\n",
       "      <th></th>\n",
       "      <th></th>\n",
       "      <th></th>\n",
       "    </tr>\n",
       "  </thead>\n",
       "  <tbody>\n",
       "    <tr>\n",
       "      <th>0</th>\n",
       "      <td>1.1500000</td>\n",
       "      <td>0.9330400</td>\n",
       "      <td>-0.2974000</td>\n",
       "      <td>0.6880000</td>\n",
       "      <td>-0.4533333</td>\n",
       "      <td>0.4000000</td>\n",
       "      <td>0.5333333</td>\n",
       "    </tr>\n",
       "    <tr>\n",
       "      <th>1</th>\n",
       "      <td>1.2000000</td>\n",
       "      <td>0.9181700</td>\n",
       "      <td>-0.3318000</td>\n",
       "      <td>0.6426667</td>\n",
       "      <td>-0.4933333</td>\n",
       "      <td>0.4800000</td>\n",
       "      <td>---------</td>\n",
       "    </tr>\n",
       "    <tr>\n",
       "      <th>2</th>\n",
       "      <td>1.1000000</td>\n",
       "      <td>0.9513500</td>\n",
       "      <td>-0.2996667</td>\n",
       "      <td>0.7166667</td>\n",
       "      <td>-0.4453333</td>\n",
       "      <td>---------</td>\n",
       "      <td>---------</td>\n",
       "    </tr>\n",
       "    <tr>\n",
       "      <th>3</th>\n",
       "      <td>1.2500000</td>\n",
       "      <td>0.9064000</td>\n",
       "      <td>-0.3355000</td>\n",
       "      <td>0.6276000</td>\n",
       "      <td>---------</td>\n",
       "      <td>---------</td>\n",
       "      <td>---------</td>\n",
       "    </tr>\n",
       "    <tr>\n",
       "      <th>4</th>\n",
       "      <td>1.0500000</td>\n",
       "      <td>0.9735000</td>\n",
       "      <td>-0.3041200</td>\n",
       "      <td>---------</td>\n",
       "      <td>---------</td>\n",
       "      <td>---------</td>\n",
       "      <td>---------</td>\n",
       "    </tr>\n",
       "    <tr>\n",
       "      <th>5</th>\n",
       "      <td>1.3000000</td>\n",
       "      <td>0.8974700</td>\n",
       "      <td>---------</td>\n",
       "      <td>---------</td>\n",
       "      <td>---------</td>\n",
       "      <td>---------</td>\n",
       "      <td>---------</td>\n",
       "    </tr>\n",
       "  </tbody>\n",
       "</table>\n",
       "</div>"
      ],
      "text/plain": [
       "                  xi       f(x)      diff 1     diff 2      diff 3     diff 4  \\\n",
       "Iteración                                                                       \n",
       "0          1.1500000  0.9330400  -0.2974000  0.6880000  -0.4533333  0.4000000   \n",
       "1          1.2000000  0.9181700  -0.3318000  0.6426667  -0.4933333  0.4800000   \n",
       "2          1.1000000  0.9513500  -0.2996667  0.7166667  -0.4453333  ---------   \n",
       "3          1.2500000  0.9064000  -0.3355000  0.6276000   ---------  ---------   \n",
       "4          1.0500000  0.9735000  -0.3041200  ---------   ---------  ---------   \n",
       "5          1.3000000  0.8974700   ---------  ---------   ---------  ---------   \n",
       "\n",
       "              diff 5  \n",
       "Iteración             \n",
       "0          0.5333333  \n",
       "1          ---------  \n",
       "2          ---------  \n",
       "3          ---------  \n",
       "4          ---------  \n",
       "5          ---------  "
      ]
     },
     "execution_count": 5,
     "metadata": {},
     "output_type": "execute_result"
    }
   ],
   "source": [
    "diffs = diferencias_divididas(xi, yi)\n",
    "convertir_resultados(xi, yi, diffs)"
   ]
  }
 ],
 "metadata": {
  "interpreter": {
   "hash": "50a1c7f7f999c358e0b5259763df47a04f976b7989cc44fe344baf2ec3d120ee"
  },
  "kernelspec": {
   "display_name": "Python 3 (ipykernel)",
   "language": "python",
   "name": "python3"
  },
  "language_info": {
   "codemirror_mode": {
    "name": "ipython",
    "version": 3
   },
   "file_extension": ".py",
   "mimetype": "text/x-python",
   "name": "python",
   "nbconvert_exporter": "python",
   "pygments_lexer": "ipython3",
   "version": "3.11.4"
  }
 },
 "nbformat": 4,
 "nbformat_minor": 5
}
