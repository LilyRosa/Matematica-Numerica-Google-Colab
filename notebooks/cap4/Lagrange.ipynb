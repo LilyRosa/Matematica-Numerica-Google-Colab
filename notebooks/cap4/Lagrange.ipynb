{
 "cells": [
  {
   "cell_type": "markdown",
   "metadata": {},
   "source": [
    "<a href=\"https://colab.research.google.com/github/LilyRosa/Matematica-Numerica-Google-Colab/blob/main/notebooks/cap4/Lagrange.ipynb\" target=\"_parent\"><img src=\"https://colab.research.google.com/assets/colab-badge.svg\" alt=\"Open In Colab\"/></a>"
   ]
  },
  {
   "cell_type": "code",
   "execution_count": 1,
   "metadata": {},
   "outputs": [],
   "source": [
    "from sympy.abc import x\n",
    "from sympy import simplify"
   ]
  },
  {
   "cell_type": "markdown",
   "metadata": {},
   "source": [
    "# Método de Lagrange"
   ]
  },
  {
   "cell_type": "markdown",
   "metadata": {},
   "source": [
    "Sean $x_0, x_1, ..., x_n$, $n+1$ nodos de interpolación diferentes y $f(x)$ la función a interpolar. Sean \n",
    "$y_i=f(x_i)$  $i=0,1,2,...,n$ los valores de $f$ en los nodos. El método de Lagrange consiste en encontrar $n+1$ polinomios básicos de grado $n$: $L_0(x), L_1(x), ..., L_n(x)$ que satisfagan las siguientes condiciones:\n",
    "\n",
    "$L_0(x_0)=1 | L_1(x_0)=0 | L_2(x_0)=0 ... L_n(x_0)=0$\n",
    "\n",
    "$L_0(x_1)=0 | L_1(x_1)=1 | L_2(x_1)=0 ... L_n(x_1)=0$\n",
    "\n",
    "$L_0(x_2)=0 | L_1(x_2)=0 | L_2(x_2)=1 ... L_n(x_2)=0$\n",
    "\n",
    "$...............................................$\n",
    "\n",
    "$L_0(x_n)=0 | L_1(x_n)=0 | L_2(x_n)=0 ... L_n(x_n)=1$"
   ]
  },
  {
   "cell_type": "markdown",
   "metadata": {},
   "source": [
    "## Implementación"
   ]
  },
  {
   "cell_type": "markdown",
   "metadata": {},
   "source": [
    "### Lagrange $p(x_0)$"
   ]
  },
  {
   "cell_type": "markdown",
   "metadata": {},
   "source": [
    "``` lagrange_interpol(xi, yi, x0, simbolico): ``` Implementación del método de LaGrange para interpolación polinómica.\n",
    "\n",
    "#### Parámetros\n",
    "- ``` xi ``` : conjunto de puntos $x_i$\n",
    "- ``` yi ``` : conjunto de puntos $y_i$\n",
    "- ``` x0 ``` : aproximación de la función en un punto determinado $x_0$\n",
    "- ``` simbolico ``` : Determina si se realizará por calculo simbólico o no"
   ]
  },
  {
   "cell_type": "code",
   "execution_count": 2,
   "metadata": {},
   "outputs": [],
   "source": [
    "def lagrange_interpol(xi, yi, x0, simbolico):\n",
    "    if len(xi) != len(yi):\n",
    "        raise ValueError(\"Conjuntos de puntos de diferentes tamaños\")\n",
    "    resultado = 0\n",
    "    a = x\n",
    "    if not simbolico:\n",
    "        a = x0\n",
    "\n",
    "    for i in range(len(xi) ):\n",
    "        l = 1\n",
    "\n",
    "        for j in range(len(xi) ):\n",
    "            if j != i:\n",
    "                l = l * ( (a - xi[j] ) / (xi[i] - xi[j] ) )\n",
    "\n",
    "        resultado = resultado + l * yi[i]\n",
    "\n",
    "    return resultado"
   ]
  },
  {
   "cell_type": "markdown",
   "metadata": {},
   "source": [
    "## Inserción de datos"
   ]
  },
  {
   "cell_type": "code",
   "execution_count": 3,
   "metadata": {},
   "outputs": [],
   "source": [
    "xi = [1, 2, 4]\n",
    "yi = [2, 3, 1]\n",
    "x0 = 2.5"
   ]
  },
  {
   "cell_type": "markdown",
   "metadata": {},
   "source": [
    "## Salida de datos"
   ]
  },
  {
   "cell_type": "markdown",
   "metadata": {},
   "source": [
    "### Polinomio Interpolador $p(x)$ simbólico"
   ]
  },
  {
   "cell_type": "code",
   "execution_count": 4,
   "metadata": {},
   "outputs": [
    {
     "data": {
      "text/latex": [
       "$\\displaystyle 2 \\cdot \\left(\\frac{4}{3} - \\frac{x}{3}\\right) \\left(2 - x\\right) + 3 \\cdot \\left(2 - \\frac{x}{2}\\right) \\left(x - 1\\right) + \\left(\\frac{x}{3} - \\frac{1}{3}\\right) \\left(\\frac{x}{2} - 1\\right)$"
      ],
      "text/plain": [
       "2*(4/3 - x/3)*(2 - x) + 3*(2 - x/2)*(x - 1) + (x/3 - 1/3)*(x/2 - 1)"
      ]
     },
     "execution_count": 4,
     "metadata": {},
     "output_type": "execute_result"
    }
   ],
   "source": [
    "lagrange_interpol(xi, yi, x0, True)"
   ]
  },
  {
   "cell_type": "markdown",
   "metadata": {},
   "source": [
    "### Polinomio Interpolador $p(x)$ simbólico desarrollado"
   ]
  },
  {
   "cell_type": "code",
   "execution_count": 5,
   "metadata": {},
   "outputs": [
    {
     "data": {
      "text/latex": [
       "$\\displaystyle - \\frac{2 x^{2}}{3} + 3 x - \\frac{1}{3}$"
      ],
      "text/plain": [
       "-2*x**2/3 + 3*x - 1/3"
      ]
     },
     "execution_count": 5,
     "metadata": {},
     "output_type": "execute_result"
    }
   ],
   "source": [
    "simplify(lagrange_interpol(xi, yi, x0, True))"
   ]
  },
  {
   "cell_type": "markdown",
   "metadata": {},
   "source": [
    "### Polinomio interpolador en un punto $p(x_0)$"
   ]
  },
  {
   "cell_type": "code",
   "execution_count": 6,
   "metadata": {},
   "outputs": [
    {
     "data": {
      "text/plain": [
       "3.0"
      ]
     },
     "execution_count": 6,
     "metadata": {},
     "output_type": "execute_result"
    }
   ],
   "source": [
    "lagrange_interpol(xi, yi, x0, False)"
   ]
  }
 ],
 "metadata": {
  "interpreter": {
   "hash": "5f1e2b7debabb81cfddc515bc2208cf2c521bebfebb13da0ee988ea546d02c25"
  },
  "kernelspec": {
   "display_name": "Python 3 (ipykernel)",
   "language": "python",
   "name": "python3"
  },
  "language_info": {
   "codemirror_mode": {
    "name": "ipython",
    "version": 3
   },
   "file_extension": ".py",
   "mimetype": "text/x-python",
   "name": "python",
   "nbconvert_exporter": "python",
   "pygments_lexer": "ipython3",
   "version": "3.11.4"
  }
 },
 "nbformat": 4,
 "nbformat_minor": 4
}
