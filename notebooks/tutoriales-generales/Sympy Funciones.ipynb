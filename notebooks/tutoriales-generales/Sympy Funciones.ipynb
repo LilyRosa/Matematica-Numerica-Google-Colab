{
 "cells": [
  {
   "cell_type": "markdown",
   "id": "f8344a09-4a29-4747-bf73-7cd8ca4838b7",
   "metadata": {},
   "source": [
    "<a href=\"https://colab.research.google.com/github/LilyRosa/Matematica-Numerica-Google-Colab/blob/main/notebooks/tutoriales-generales/Sympy%20Funciones.ipynb\" target=\"_parent\"><img src=\"https://colab.research.google.com/assets/colab-badge.svg\" alt=\"Open In Colab\"/></a>"
   ]
  },
  {
   "cell_type": "code",
   "execution_count": 1,
   "id": "31e87f2f-2128-4acb-bc3e-96945ec00157",
   "metadata": {},
   "outputs": [],
   "source": [
    "from sympy import *"
   ]
  },
  {
   "cell_type": "markdown",
   "id": "b6526a94-c529-40e4-bc03-c3bf5623c633",
   "metadata": {},
   "source": [
    "# Creación de Funciones con sympy"
   ]
  },
  {
   "cell_type": "markdown",
   "id": "4769f512-28f3-49d0-8d09-912b86aac901",
   "metadata": {},
   "source": [
    "| Descripción | Función matemática   | Función sympy   |\n",
    "|:-|:-|:-|\n",
    "| seno | $sen(x)$ | `sin(x)` |\n",
    "| coseno | $cos(x)$ | `cos(x)` |\n",
    "| tangente | $tan(x)$ | `tan(x)` |\n",
    "| cotangente | $cot(x)$ | `cot(x)` |\n",
    "| secante | $sec(x)$ | `sec(x)` |\n",
    "| cosecante | $csc(x)$ | `csc(x)` |\n",
    "||||\n",
    "| arcoseno | $arcsen(x)$ | `asin(x)` |\n",
    "| arcocoseno | $arccos(x)$ | `acos(x)` |\n",
    "| arcotangente | $arctan(x)$ | `atan(x)` |\n",
    "| arcocotangente | $arccot(x)$ | `acot(x)` |\n",
    "| arcosecante | $arcsec(x)$ | `asec(x)` |\n",
    "| arcocosecante | $acsc(x)$ | `acsc(x)` |\n",
    "||||\n",
    "| seno hiperbólico | $senh(x)$ | `sinh(x)` |\n",
    "| coseno hiperbólico | $cosh(x)$ | `cosh(x)` |\n",
    "| tangente hiperbólico | $tanh(x)$ | `tanh(x)` |\n",
    "| cotangente hiperbólico| $coth(x)$ | `coth(x)` |\n",
    "| secante hiperbólico| $sech(x)$ | `sech(x)` |\n",
    "| cosecante hiperbólico| $csch(x)$ | `csch(x)` |\n",
    "||||\n",
    "| arcoseno hiperbólico | $arcsenh(x)$ | `asinh(x)` |\n",
    "| arcocoseno hiperbólico | $arccosh(x)$ | `acosh(x)` |\n",
    "| arcotangente hiperbólico | $arctanh(x)$ | `atanh(x)` |\n",
    "| arcocotangente | $arccoth(x)$ | `acoth(x)` |\n",
    "| arcosecante | $arcsech(x)$ | `asech(x)` |\n",
    "| arcocosecante | $acsch(x)$ | `acsch(x)` |\n",
    "||||\n",
    "| euler | $e$ | `exp(1)` |\n",
    "| pi | $\\pi$ | `pi` |\n",
    "||||\n",
    "| euler a la x | $e^x$ | `exp(x)` |\n",
    "| exponencial | $a^b$ | `a**b` |\n",
    "| raíz cuadrada | $\\sqrt{x}$ | `sqrt(x)` |\n",
    "| raíz n-ésima | $\\sqrt[n]{x}$ | `x**(1/n)` |\n",
    "| logaritmo natural (base $e$) | $ln(x)$ | `log(x)`\n",
    "| logaritmo base 10 | $log(x)$ | `log(x,10)` |\n",
    "| logaritmo base 2 | $log_{2}(x)$ | `log(x,2)` |\n",
    "| logaritmo base n | $log_{n}(x)$ | `log(x,n)` |\n",
    "| Infinito | $\\infty$ | `oo` (Son 2 o's minúsculas) |\n",
    "| -Infinito | $-\\infty$ | `-oo` (Son 2 o's minúsculas) |"
   ]
  },
  {
   "cell_type": "markdown",
   "id": "b84f8b9e-439f-4c7c-9347-65ec5ba3b8d4",
   "metadata": {},
   "source": [
    "## Ejemplo de funciones complejas"
   ]
  },
  {
   "cell_type": "markdown",
   "id": "3877203e-0eb6-4275-b2cf-c2200cd98367",
   "metadata": {},
   "source": [
    ">  **Nota**: La llamada a estos métodos de la forma ilustrada solo aplica si se importa como:\n",
    "> `from sympy import *`.\n",
    "> Si se importa como `import sympy`, se deben llamar como `python sympy.arg`"
   ]
  },
  {
   "cell_type": "markdown",
   "id": "1d18b05d-0a7f-4d6f-87f8-04a1f0d68fe8",
   "metadata": {},
   "source": [
    "|Función | Código en python con sympy |\n",
    "|:-|:-|\n",
    "|$\\sqrt{5 - x^3}$|  `sqrt(5 - x**3) ` |\n",
    "|ln ($\\sqrt[3]{x + 3}$)| `log((x + 3)**(1/3)) `|\n",
    "|$a^{arcsen(x) * log(x)}$| `a ** (asin(x) * log(x,10)) `|\n",
    "|$sech(x) + arccsch(x) - arccot(x)$| `sech(x) + acsch(x) - acot(x) `|"
   ]
  }
 ],
 "metadata": {
  "kernelspec": {
   "display_name": "Python 3 (ipykernel)",
   "language": "python",
   "name": "python3"
  },
  "language_info": {
   "codemirror_mode": {
    "name": "ipython",
    "version": 3
   },
   "file_extension": ".py",
   "mimetype": "text/x-python",
   "name": "python",
   "nbconvert_exporter": "python",
   "pygments_lexer": "ipython3",
   "version": "3.11.4"
  }
 },
 "nbformat": 4,
 "nbformat_minor": 5
}
