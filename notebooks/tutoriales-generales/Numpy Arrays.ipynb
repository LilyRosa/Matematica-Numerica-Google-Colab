{
 "cells": [
  {
   "cell_type": "markdown",
   "metadata": {
    "id": "view-in-github",
    "colab_type": "text"
   },
   "source": [
    "<a href=\"https://colab.research.google.com/github/LilyRosa/Matematica-Numerica-Google-Colab/blob/main/notebooks/tutoriales-generales/Numpy%20Arrays.ipynb\" target=\"_parent\"><img src=\"https://colab.research.google.com/assets/colab-badge.svg\" alt=\"Open In Colab\"/></a>"
   ],
   "id": "74b2706c7ec1bc68"
  },
  {
   "cell_type": "code",
   "execution_count": 1,
   "id": "4777f991",
   "metadata": {
    "id": "4777f991"
   },
   "outputs": [],
   "source": [
    "import numpy as np"
   ]
  },
  {
   "cell_type": "markdown",
   "id": "ae55f4ab",
   "metadata": {
    "id": "ae55f4ab"
   },
   "source": [
    "## Creación de un array"
   ]
  },
  {
   "cell_type": "code",
   "execution_count": 2,
   "id": "d471d4fe",
   "metadata": {
    "colab": {
     "base_uri": "https://localhost:8080/"
    },
    "id": "d471d4fe",
    "outputId": "a0fe4324-1225-4185-b0bd-452d5fc2f9ef"
   },
   "outputs": [
    {
     "output_type": "execute_result",
     "data": {
      "text/plain": [
       "array([1, 4, 3])"
      ]
     },
     "metadata": {},
     "execution_count": 2
    }
   ],
   "source": [
    "x = np.array ( [1, 4, 3] )\n",
    "x"
   ]
  },
  {
   "cell_type": "markdown",
   "id": "9df56e38",
   "metadata": {
    "id": "9df56e38"
   },
   "source": [
    "## Array multidimensional\n",
    "Es expresado como una lista de listas que contienen las filas."
   ]
  },
  {
   "cell_type": "code",
   "execution_count": 3,
   "id": "212c4bd7",
   "metadata": {
    "colab": {
     "base_uri": "https://localhost:8080/"
    },
    "id": "212c4bd7",
    "outputId": "616a8bab-582b-4b91-b4e6-fd11f421d032"
   },
   "outputs": [
    {
     "output_type": "execute_result",
     "data": {
      "text/plain": [
       "array([[1, 4, 3],\n",
       "       [9, 2, 7]])"
      ]
     },
     "metadata": {},
     "execution_count": 3
    }
   ],
   "source": [
    "y = np.array ( [ [1, 4, 3],\n",
    "                 [9, 2, 7] ] )\n",
    "y"
   ]
  },
  {
   "cell_type": "markdown",
   "source": [
    "### Orden de la matriz"
   ],
   "metadata": {
    "id": "tWI7aj-T657b"
   },
   "id": "tWI7aj-T657b"
  },
  {
   "cell_type": "code",
   "execution_count": 4,
   "id": "944ba9cc",
   "metadata": {
    "colab": {
     "base_uri": "https://localhost:8080/"
    },
    "id": "944ba9cc",
    "outputId": "86e8a6be-7f36-4a46-ba2b-6eb1bd267bed"
   },
   "outputs": [
    {
     "output_type": "execute_result",
     "data": {
      "text/plain": [
       "(2, 3)"
      ]
     },
     "metadata": {},
     "execution_count": 4
    }
   ],
   "source": [
    "y.shape"
   ]
  },
  {
   "cell_type": "markdown",
   "id": "b84b3fc2",
   "metadata": {
    "id": "b84b3fc2"
   },
   "source": [
    "### Crear elementos en un cierto rango"
   ]
  },
  {
   "cell_type": "code",
   "execution_count": 5,
   "id": "a3ba2ecf",
   "metadata": {
    "colab": {
     "base_uri": "https://localhost:8080/"
    },
    "id": "a3ba2ecf",
    "outputId": "db3b6954-bf7e-462c-ca2a-418282241134"
   },
   "outputs": [
    {
     "output_type": "stream",
     "name": "stdout",
     "text": [
      "[   1    2    3 ... 1997 1998 1999]\n"
     ]
    },
    {
     "output_type": "execute_result",
     "data": {
      "text/plain": [
       "numpy.ndarray"
      ]
     },
     "metadata": {},
     "execution_count": 5
    }
   ],
   "source": [
    "z = np.arange (1, 2000, 1)\n",
    "print (z)\n",
    "type (z)"
   ]
  },
  {
   "cell_type": "code",
   "execution_count": 6,
   "id": "a2b13642",
   "metadata": {
    "colab": {
     "base_uri": "https://localhost:8080/"
    },
    "id": "a2b13642",
    "outputId": "71c1a473-374f-442f-afad-97943b07856b"
   },
   "outputs": [
    {
     "output_type": "execute_result",
     "data": {
      "text/plain": [
       "array([3.        , 3.66666667, 4.33333333, 5.        , 5.66666667,\n",
       "       6.33333333, 7.        , 7.66666667, 8.33333333, 9.        ])"
      ]
     },
     "metadata": {},
     "execution_count": 6
    }
   ],
   "source": [
    "np.linspace(3, 9, 10)"
   ]
  },
  {
   "cell_type": "markdown",
   "id": "df9ae347",
   "metadata": {
    "id": "df9ae347"
   },
   "source": [
    "### Indexing"
   ]
  },
  {
   "cell_type": "code",
   "execution_count": 7,
   "id": "016c62b5",
   "metadata": {
    "colab": {
     "base_uri": "https://localhost:8080/"
    },
    "id": "016c62b5",
    "outputId": "38fc8331-a013-456a-be5c-04f9dd237ae4"
   },
   "outputs": [
    {
     "output_type": "execute_result",
     "data": {
      "text/plain": [
       "array([[1, 3],\n",
       "       [9, 7]])"
      ]
     },
     "metadata": {},
     "execution_count": 7
    }
   ],
   "source": [
    "y [:, [0, 2] ] #Obtener las 2 primeras columnas"
   ]
  },
  {
   "cell_type": "markdown",
   "id": "987bc42d",
   "metadata": {
    "id": "987bc42d"
   },
   "source": [
    "### Operaciones escalares con arrays"
   ]
  },
  {
   "cell_type": "code",
   "execution_count": 8,
   "id": "7bb0a659",
   "metadata": {
    "id": "7bb0a659"
   },
   "outputs": [],
   "source": [
    "b = np.array ( [ [1, 2],\n",
    "                 [3, 4] ] )"
   ]
  },
  {
   "cell_type": "code",
   "execution_count": 9,
   "id": "5098b891",
   "metadata": {
    "colab": {
     "base_uri": "https://localhost:8080/"
    },
    "id": "5098b891",
    "outputId": "06cc4a4a-fd64-4a4e-9d46-6d75e9915509"
   },
   "outputs": [
    {
     "output_type": "execute_result",
     "data": {
      "text/plain": [
       "array([[3, 4],\n",
       "       [5, 6]])"
      ]
     },
     "metadata": {},
     "execution_count": 9
    }
   ],
   "source": [
    "b + 2"
   ]
  },
  {
   "cell_type": "code",
   "execution_count": 10,
   "id": "afeaaf2c",
   "metadata": {
    "colab": {
     "base_uri": "https://localhost:8080/"
    },
    "id": "afeaaf2c",
    "outputId": "2d53c804-596d-4077-a31a-b5139096e6dd"
   },
   "outputs": [
    {
     "output_type": "execute_result",
     "data": {
      "text/plain": [
       "array([[-1,  0],\n",
       "       [ 1,  2]])"
      ]
     },
     "metadata": {},
     "execution_count": 10
    }
   ],
   "source": [
    "b - 2"
   ]
  },
  {
   "cell_type": "code",
   "execution_count": 11,
   "id": "ce2100b6",
   "metadata": {
    "colab": {
     "base_uri": "https://localhost:8080/"
    },
    "id": "ce2100b6",
    "outputId": "c0a57b48-f172-4959-98fe-e1d2b76ea255"
   },
   "outputs": [
    {
     "output_type": "execute_result",
     "data": {
      "text/plain": [
       "array([[2, 4],\n",
       "       [6, 8]])"
      ]
     },
     "metadata": {},
     "execution_count": 11
    }
   ],
   "source": [
    "b * 2"
   ]
  },
  {
   "cell_type": "code",
   "execution_count": 12,
   "id": "fa3a8086",
   "metadata": {
    "colab": {
     "base_uri": "https://localhost:8080/"
    },
    "id": "fa3a8086",
    "outputId": "9ecaad2a-32b5-4f4e-d1fc-98e36df44305"
   },
   "outputs": [
    {
     "output_type": "execute_result",
     "data": {
      "text/plain": [
       "array([[0.5, 1. ],\n",
       "       [1.5, 2. ]])"
      ]
     },
     "metadata": {},
     "execution_count": 12
    }
   ],
   "source": [
    "b / 2"
   ]
  },
  {
   "cell_type": "code",
   "execution_count": 13,
   "id": "15170b94",
   "metadata": {
    "colab": {
     "base_uri": "https://localhost:8080/"
    },
    "id": "15170b94",
    "outputId": "6f165a1d-6036-48b1-ab81-f72b2e11c3d5"
   },
   "outputs": [
    {
     "output_type": "execute_result",
     "data": {
      "text/plain": [
       "array([[ 1,  4],\n",
       "       [ 9, 16]])"
      ]
     },
     "metadata": {},
     "execution_count": 13
    }
   ],
   "source": [
    "b ** 2"
   ]
  },
  {
   "cell_type": "markdown",
   "id": "9f4aa851",
   "metadata": {
    "id": "9f4aa851"
   },
   "source": [
    "### Operaciones entre arrays"
   ]
  },
  {
   "cell_type": "code",
   "execution_count": 14,
   "id": "41201f5b",
   "metadata": {
    "id": "41201f5b"
   },
   "outputs": [],
   "source": [
    "d = np.array ( [ [3, 4],\n",
    "                 [5, 6] ] )"
   ]
  },
  {
   "cell_type": "code",
   "execution_count": 15,
   "id": "df842572",
   "metadata": {
    "colab": {
     "base_uri": "https://localhost:8080/"
    },
    "id": "df842572",
    "outputId": "8dbb1208-df15-4519-a899-8e7ac623bca1"
   },
   "outputs": [
    {
     "output_type": "execute_result",
     "data": {
      "text/plain": [
       "array([[ 4,  6],\n",
       "       [ 8, 10]])"
      ]
     },
     "metadata": {},
     "execution_count": 15
    }
   ],
   "source": [
    "b + d"
   ]
  },
  {
   "cell_type": "code",
   "execution_count": 16,
   "id": "80e530ac",
   "metadata": {
    "colab": {
     "base_uri": "https://localhost:8080/"
    },
    "id": "80e530ac",
    "outputId": "0fbb9eae-92f2-46bd-c346-cc42320f2d0f"
   },
   "outputs": [
    {
     "output_type": "execute_result",
     "data": {
      "text/plain": [
       "array([[-2, -2],\n",
       "       [-2, -2]])"
      ]
     },
     "metadata": {},
     "execution_count": 16
    }
   ],
   "source": [
    "b - d"
   ]
  },
  {
   "cell_type": "code",
   "execution_count": 17,
   "id": "30641ea6",
   "metadata": {
    "colab": {
     "base_uri": "https://localhost:8080/"
    },
    "id": "30641ea6",
    "outputId": "e5dfb28a-cf04-4d13-8caa-9e85add5eb89"
   },
   "outputs": [
    {
     "output_type": "execute_result",
     "data": {
      "text/plain": [
       "array([[ 3,  8],\n",
       "       [15, 24]])"
      ]
     },
     "metadata": {},
     "execution_count": 17
    }
   ],
   "source": [
    "b * d"
   ]
  },
  {
   "cell_type": "code",
   "execution_count": 18,
   "id": "76d52dd6",
   "metadata": {
    "colab": {
     "base_uri": "https://localhost:8080/"
    },
    "id": "76d52dd6",
    "outputId": "a52c8661-3f4d-4bdf-fa39-31464fa9d4a6"
   },
   "outputs": [
    {
     "output_type": "execute_result",
     "data": {
      "text/plain": [
       "array([[0.33333333, 0.5       ],\n",
       "       [0.6       , 0.66666667]])"
      ]
     },
     "metadata": {},
     "execution_count": 18
    }
   ],
   "source": [
    "b / d"
   ]
  },
  {
   "cell_type": "code",
   "execution_count": 19,
   "id": "e25d4d45",
   "metadata": {
    "colab": {
     "base_uri": "https://localhost:8080/"
    },
    "id": "e25d4d45",
    "outputId": "707e4c26-3d6a-4c73-f99d-97ad3929c0c3"
   },
   "outputs": [
    {
     "output_type": "execute_result",
     "data": {
      "text/plain": [
       "array([[   1,   16],\n",
       "       [ 243, 4096]])"
      ]
     },
     "metadata": {},
     "execution_count": 19
    }
   ],
   "source": [
    "b ** d"
   ]
  },
  {
   "cell_type": "markdown",
   "id": "ee4d0b4c",
   "metadata": {
    "id": "ee4d0b4c"
   },
   "source": [
    "### Transposición"
   ]
  },
  {
   "cell_type": "code",
   "execution_count": 20,
   "id": "4d52b756",
   "metadata": {
    "colab": {
     "base_uri": "https://localhost:8080/"
    },
    "id": "4d52b756",
    "outputId": "2ca0979f-8960-435c-c16e-6c206649807f"
   },
   "outputs": [
    {
     "output_type": "execute_result",
     "data": {
      "text/plain": [
       "array([[1, 3],\n",
       "       [2, 4]])"
      ]
     },
     "metadata": {},
     "execution_count": 20
    }
   ],
   "source": [
    "b.T"
   ]
  },
  {
   "cell_type": "markdown",
   "id": "39418f4e",
   "metadata": {
    "id": "39418f4e"
   },
   "source": [
    "### Operaciones lógicas"
   ]
  },
  {
   "cell_type": "code",
   "execution_count": 21,
   "id": "1206c1ce",
   "metadata": {
    "colab": {
     "base_uri": "https://localhost:8080/"
    },
    "id": "1206c1ce",
    "outputId": "f792c99e-caa9-4adb-bd8d-3fe8d5b3f200"
   },
   "outputs": [
    {
     "output_type": "execute_result",
     "data": {
      "text/plain": [
       "array([[False, False],\n",
       "       [False,  True]])"
      ]
     },
     "metadata": {},
     "execution_count": 21
    }
   ],
   "source": [
    "b > 3"
   ]
  },
  {
   "cell_type": "code",
   "execution_count": 22,
   "id": "bfb89ffe",
   "metadata": {
    "colab": {
     "base_uri": "https://localhost:8080/"
    },
    "id": "bfb89ffe",
    "outputId": "e691802c-fb7e-40ac-d672-24226092d611"
   },
   "outputs": [
    {
     "output_type": "execute_result",
     "data": {
      "text/plain": [
       "array([[False, False],\n",
       "       [False, False]])"
      ]
     },
     "metadata": {},
     "execution_count": 22
    }
   ],
   "source": [
    "b > d"
   ]
  },
  {
   "cell_type": "markdown",
   "id": "d29a2568",
   "metadata": {
    "id": "d29a2568"
   },
   "source": [
    "### Indexado de un array de acuerdo a una condición"
   ]
  },
  {
   "cell_type": "code",
   "execution_count": 23,
   "id": "bb823a2a",
   "metadata": {
    "colab": {
     "base_uri": "https://localhost:8080/"
    },
    "id": "bb823a2a",
    "outputId": "abe29d40-9ef6-42ba-ed57-1e159f05e684"
   },
   "outputs": [
    {
     "output_type": "execute_result",
     "data": {
      "text/plain": [
       "array([4])"
      ]
     },
     "metadata": {},
     "execution_count": 23
    }
   ],
   "source": [
    "bmay3 = b [b > 3]\n",
    "bmay3"
   ]
  },
  {
   "cell_type": "code",
   "execution_count": 24,
   "id": "49effaec",
   "metadata": {
    "pycharm": {
     "name": "#%%\n"
    },
    "colab": {
     "base_uri": "https://localhost:8080/"
    },
    "id": "49effaec",
    "outputId": "cfcfdf53-6eaa-4fe5-c69d-42dd69dc4ee3"
   },
   "outputs": [
    {
     "output_type": "execute_result",
     "data": {
      "text/plain": [
       "array([3, 4])"
      ]
     },
     "metadata": {},
     "execution_count": 24
    }
   ],
   "source": [
    "dmen5 = d [d < 5]\n",
    "dmen5"
   ]
  }
 ],
 "metadata": {
  "kernelspec": {
   "display_name": "Python 3 (ipykernel)",
   "language": "python",
   "name": "python3"
  },
  "language_info": {
   "codemirror_mode": {
    "name": "ipython",
    "version": 3
   },
   "file_extension": ".py",
   "mimetype": "text/x-python",
   "name": "python",
   "nbconvert_exporter": "python",
   "pygments_lexer": "ipython3",
   "version": "3.11.4"
  },
  "colab": {
   "provenance": [],
   "include_colab_link": true
  }
 },
 "nbformat": 4,
 "nbformat_minor": 5
}
