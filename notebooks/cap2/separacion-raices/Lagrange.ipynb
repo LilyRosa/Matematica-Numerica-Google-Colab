{
 "cells": [
  {
   "cell_type": "markdown",
   "metadata": {},
   "source": [
    "<a href=\"https://colab.research.google.com/github/LilyRosa/Matematica-Numerica-Google-Colab/blob/main/notebooks/cap2/separacion-raices/Lagrange.ipynb\" target=\"_parent\"><img src=\"https://colab.research.google.com/assets/colab-badge.svg\" alt=\"Open In Colab\"/></a>"
   ]
  },
  {
   "cell_type": "code",
   "execution_count": 1,
   "metadata": {},
   "outputs": [],
   "source": [
    "import re\n",
    "import math"
   ]
  },
  {
   "cell_type": "markdown",
   "metadata": {},
   "source": [
    "# Fórmula de Lagrange"
   ]
  },
  {
   "cell_type": "markdown",
   "metadata": {},
   "source": [
    "Sea la ecuación \n",
    "$$a_{0} x^{n} + a_{1} x^{n-1} + ... + a_{n-1} x + a_{n} = 0$$\n",
    "\n",
    "Aplica la regla de Lagrange para acotar la raíz de un polinomio.\n",
    "\n",
    "En la ecuación:\n",
    "\n",
    "$$ a_0x^n + a_1x^{n-1} + ... + a_n = 0 $$\n",
    "\n",
    "todas las raíces reales positivas (si existen) son menores que:\n",
    "\n",
    "$$ R = 1 + \\sqrt[k] {\\frac{B}{a_0}} $$\n",
    "\n",
    "**Donde**:\n",
    "\n",
    "- $a_0 > 0$\n",
    "- $a_k$ Primer coeficiente negativo\n",
    "- $B$ Mayor valor absoluto de los coeficientes negativos"
   ]
  },
  {
   "cell_type": "markdown",
   "metadata": {},
   "source": [
    "## Implementación:"
   ]
  },
  {
   "cell_type": "markdown",
   "metadata": {},
   "source": [
    "### Métodos Auxiliares"
   ]
  },
  {
   "cell_type": "code",
   "execution_count": 2,
   "metadata": {},
   "outputs": [],
   "source": [
    "def coeficientes_polinomio(polinomio):\n",
    "    regexp = r\"(-?\\d*)(x?)(?:(?:\\^|\\*\\*)(\\d))?\"\n",
    "    c = {}\n",
    "\n",
    "    for coef, x, exp in re.findall(regexp, polinomio):\n",
    "        if not coef and not x:\n",
    "            continue\n",
    "        if x and not coef:\n",
    "            coef = '1'\n",
    "        if x and coef == \"-\":\n",
    "            coef = \"-1\"\n",
    "        if x and not exp:\n",
    "            exp = '1'\n",
    "        if coef and not x:\n",
    "            exp = '0'\n",
    "\n",
    "        try:\n",
    "            c[int(exp)] = c[int(exp)] + float(coef)\n",
    "        except KeyError:\n",
    "            c[int (exp)] = float(coef)\n",
    "\n",
    "    grado = max(c)\n",
    "    coeficientes = [0.0] * (grado + 1)\n",
    "\n",
    "    for g, v in c.items():\n",
    "        coeficientes[g] = v\n",
    "    coeficientes.reverse()\n",
    "\n",
    "    if coeficientes[0] < 0:\n",
    "        coeficientes = max_grado_positivo(coeficientes)\n",
    "\n",
    "    return coeficientes\n",
    "\n",
    "\n",
    "def max_grado_positivo(valores):\n",
    "    coeficientes = [i * (-1) for i in valores]\n",
    "    return coeficientes\n",
    "\n",
    "def intervalo_negativo(valores):\n",
    "    resultado = list.copy(valores)\n",
    "\n",
    "    if len(valores) % 2 == 0:  # si tiene una cantidad par de coeficientes significa que el grado es impar\n",
    "        i = 0\n",
    "        resultado = max_grado_positivo(valores)\n",
    "    else:\n",
    "        i = 1\n",
    "\n",
    "    for v in range(i, len(resultado) - 1, 2):\n",
    "        resultado[v] = resultado[v] * (-1)\n",
    "\n",
    "    return resultado\n",
    "    \n",
    "def encontrar_k(valores):\n",
    "    for i in range(len(valores)):\n",
    "        if valores[i] < 0:\n",
    "            return i"
   ]
  },
  {
   "cell_type": "markdown",
   "metadata": {},
   "source": [
    "### Algoritmo de Lagrange"
   ]
  },
  {
   "cell_type": "markdown",
   "metadata": {},
   "source": [
    "` aux_lagrange(valores): ` Implementación del método de Lagrange para aproximar la raíz en un polinomio"
   ]
  },
  {
   "cell_type": "code",
   "execution_count": 3,
   "metadata": {},
   "outputs": [],
   "source": [
    "def aux_lagrange(valores):\n",
    "    b = min(valores)\n",
    "    \n",
    "    if b>0:\n",
    "        raise Exception('No existen coeficientes negativos')\n",
    "    \n",
    "    b = abs(b)\n",
    "    k = encontrar_k(valores)\n",
    "\n",
    "    if k is None:\n",
    "        raise Exception('No existen coeficientes negativos')\n",
    "        \n",
    "    return 1 + math.pow(b / valores[0], 1 / k)"
   ]
  },
  {
   "cell_type": "markdown",
   "metadata": {},
   "source": [
    "` lagrange(valores) ` Método auxiliar de Lagrange para aproximar la raíz tanto en el intervalo negativo como en el intervalo positivo"
   ]
  },
  {
   "cell_type": "code",
   "execution_count": 4,
   "metadata": {},
   "outputs": [],
   "source": [
    "def lagrange(valores):\n",
    "    result_neg = aux_lagrange(intervalo_negativo(valores) )\n",
    "    result_pos = aux_lagrange(valores)\n",
    "\n",
    "    return result_pos, result_neg"
   ]
  },
  {
   "cell_type": "markdown",
   "metadata": {},
   "source": [
    "## Inserción de datos:"
   ]
  },
  {
   "cell_type": "markdown",
   "metadata": {},
   "source": [
    "Insertar la funcion siguiendo la nomenclatura dada"
   ]
  },
  {
   "cell_type": "code",
   "execution_count": 5,
   "metadata": {},
   "outputs": [],
   "source": [
    "f = \"4x^3-6x^2+1\""
   ]
  },
  {
   "cell_type": "markdown",
   "metadata": {},
   "source": [
    "## Salida:"
   ]
  },
  {
   "cell_type": "code",
   "execution_count": 6,
   "metadata": {
    "tags": []
   },
   "outputs": [
    {
     "name": "stdout",
     "output_type": "stream",
     "text": [
      "Lagrange aplicado en intervalo positivo: [0, 2.5]\n",
      "Lagrange aplicado en intervalo negativo: [-1.6299605249474367, 0]\n"
     ]
    }
   ],
   "source": [
    "f_coeficientes = coeficientes_polinomio(f)\n",
    "\n",
    "pos_interval, neg_interval = lagrange(f_coeficientes)\n",
    "\n",
    "print('Lagrange aplicado en intervalo positivo: [0, {}]'.format(pos_interval) )\n",
    "print('Lagrange aplicado en intervalo negativo: [-{}, 0]'.format(neg_interval) )"
   ]
  }
 ],
 "metadata": {
  "interpreter": {
   "hash": "50a1c7f7f999c358e0b5259763df47a04f976b7989cc44fe344baf2ec3d120ee"
  },
  "kernelspec": {
   "display_name": "Python 3 (ipykernel)",
   "language": "python",
   "name": "python3"
  },
  "language_info": {
   "codemirror_mode": {
    "name": "ipython",
    "version": 3
   },
   "file_extension": ".py",
   "mimetype": "text/x-python",
   "name": "python",
   "nbconvert_exporter": "python",
   "pygments_lexer": "ipython3",
   "version": "3.11.4"
  }
 },
 "nbformat": 4,
 "nbformat_minor": 4
}
