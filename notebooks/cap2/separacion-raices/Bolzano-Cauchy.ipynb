{
 "cells": [
  {
   "cell_type": "markdown",
   "id": "be27d600-8c84-4ddd-9c64-ad2be5987b9f",
   "metadata": {},
   "source": [
    "<a href=\"https://colab.research.google.com/github/LilyRosa/Matematica-Numerica-Google-Colab/blob/main/notebooks/cap2/separacion-raices/Bolzano-Cauchy.ipynb\" target=\"_parent\"><img src=\"https://colab.research.google.com/assets/colab-badge.svg\" alt=\"Open In Colab\"/></a>"
   ]
  },
  {
   "cell_type": "markdown",
   "id": "be88cf21-d9ca-48ef-a5c2-930ed7deb1c6",
   "metadata": {},
   "source": [
    "# Teorema de Bolzano-Cauchy"
   ]
  },
  {
   "cell_type": "markdown",
   "id": "e2e6b5b9-a2fc-419e-b0eb-a4ecaa0fab65",
   "metadata": {},
   "source": [
    "## Teorema:\n",
    "Toda función continua en un intervalo $[a,b]$ y que satisfaga la desigualdad $f(a)*f(b)<0$ tiene **al menos una raíz** en el intervalo $[a,b]$"
   ]
  },
  {
   "cell_type": "markdown",
   "id": "f2703435-8f52-46b4-975f-93b850d0c2cc",
   "metadata": {},
   "source": [
    "## Implementación:\n",
    "`bolzano_cauchy(f, a, b)`: Permite conocer si la función $f$ en el intervalo $[a,b]$ tiene al menos una raíz\n",
    "\n",
    "Parámetros:\n",
    "- `f`: función lambda $f(x)$ de la ecuación en la forma $f(x)=0$\n",
    "- `a`: Extremo inferior del intervalo $[a,b]$\n",
    "- `b`: Extremo superior del intervalo $[a,b]$"
   ]
  },
  {
   "cell_type": "code",
   "execution_count": 1,
   "id": "71488bc8-08bd-4a48-8e6d-4da9ade783ab",
   "metadata": {},
   "outputs": [],
   "source": [
    "def bolzano_cauchy(f, a, b):\n",
    "    return f(a)*f(b)<0"
   ]
  },
  {
   "cell_type": "markdown",
   "id": "5bbb6372-7e1e-4f23-b09c-33c270459a8b",
   "metadata": {},
   "source": [
    "# Inserción de datos"
   ]
  },
  {
   "cell_type": "code",
   "execution_count": 2,
   "id": "bd77f70b-5427-4b76-9ba0-4c714b56c1a4",
   "metadata": {},
   "outputs": [],
   "source": [
    "# Importaciones\n",
    "import math\n",
    "\n",
    "# Datos\n",
    "f = lambda x: (math.e**-x)-x # Modificar esta parte con la función deseada\n",
    "a = 0\n",
    "b = 1"
   ]
  },
  {
   "cell_type": "markdown",
   "id": "610a83ca-75e4-4834-90ef-f7fcbc2a8e09",
   "metadata": {},
   "source": [
    "# Salida de datos"
   ]
  },
  {
   "cell_type": "code",
   "execution_count": 3,
   "id": "d7cfd0b2-725b-44da-984f-91a4d2755207",
   "metadata": {},
   "outputs": [
    {
     "name": "stdout",
     "output_type": "stream",
     "text": [
      "Tiene al menos una raíz\n"
     ]
    }
   ],
   "source": [
    "r = 'Tiene' if bolzano_cauchy(f, a, b) else 'No tiene'\n",
    "print(f'{r} al menos una raíz')"
   ]
  }
 ],
 "metadata": {
  "kernelspec": {
   "display_name": "Python 3 (ipykernel)",
   "language": "python",
   "name": "python3"
  },
  "language_info": {
   "codemirror_mode": {
    "name": "ipython",
    "version": 3
   },
   "file_extension": ".py",
   "mimetype": "text/x-python",
   "name": "python",
   "nbconvert_exporter": "python",
   "pygments_lexer": "ipython3",
   "version": "3.11.4"
  }
 },
 "nbformat": 4,
 "nbformat_minor": 5
}
