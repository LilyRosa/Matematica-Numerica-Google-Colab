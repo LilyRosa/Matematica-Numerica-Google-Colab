{
 "cells": [
  {
   "cell_type": "markdown",
   "metadata": {},
   "source": [
    "<a href=\"https://colab.research.google.com/github/LilyRosa/Matematica-Numerica-Google-Colab/blob/main/notebooks/cap2/separacion-raices/Descartes.ipynb\" target=\"_parent\"><img src=\"https://colab.research.google.com/assets/colab-badge.svg\" alt=\"Open In Colab\"/></a>"
   ]
  },
  {
   "cell_type": "code",
   "execution_count": 1,
   "metadata": {},
   "outputs": [],
   "source": [
    "import sympy as sp\n",
    "import re"
   ]
  },
  {
   "cell_type": "markdown",
   "metadata": {},
   "source": [
    "# Regla de Descartes"
   ]
  },
  {
   "cell_type": "markdown",
   "metadata": {},
   "source": [
    "## Teorema\n",
    "Sea $m$ el número de cambios de signo que se presentan en la sucesión de coeficientes de la ecuación: \n",
    "$$a_{0} x^{n} + a_{1} x^{n-1} + ... + a_{n-1} x + a_{n} = 0$$\n",
    "Entonces el número de raíces positivas de la ecuación es menor o igual que $m$ y tiene su misma paridad."
   ]
  },
  {
   "cell_type": "markdown",
   "metadata": {},
   "source": [
    "## Implementación:"
   ]
  },
  {
   "cell_type": "markdown",
   "metadata": {},
   "source": [
    "La implementación devuelve 2 valores de $m$ tanto para raíces positivas como negativas.\n",
    "Dicho valor es el número de cambios de signo en la sucesión de coeficientes. El número de raíces, \n",
    "tanto positivas como negativas se determina según su paridad:\n",
    "\n",
    "|m|Raíces positivas/negativas|\n",
    "|:-:|:-:|\n",
    "| 10 | 0, 2, 4, 6, 8 ó 10|\n",
    "| 9 | 1, 3, 5, 7 ó 9|\n",
    "| 8 | 0, 2, 4, 6 ó 8|\n",
    "| 7 | 1, 3, 5 ó 7|\n",
    "| 6 | 0, 2, 4 ó 6|\n",
    "| 5 | 1, 3 ó 5 |\n",
    "| 4 | 0, 2 ó 4 |\n",
    "| 3 | 1 ó 3 |\n",
    "| 2 | 0 ó 2 |\n",
    "| 1 | 1 |\n",
    "| 0 | 0 |\n"
   ]
  },
  {
   "cell_type": "markdown",
   "metadata": {},
   "source": [
    "### Métodos Auxiliares"
   ]
  },
  {
   "cell_type": "code",
   "execution_count": 2,
   "metadata": {},
   "outputs": [],
   "source": [
    "def coeficientes_polinomio(polinomio):\n",
    "    regexp = r\"(-?\\d*)(x?)(?:(?:\\^|\\*\\*)(\\d))?\"\n",
    "    c = {}\n",
    "\n",
    "    for coef, x, exp in re.findall(regexp, polinomio):\n",
    "        if not coef and not x:\n",
    "            continue\n",
    "        if x and not coef:\n",
    "            coef = '1'\n",
    "        if x and coef == \"-\":\n",
    "            coef = \"-1\"\n",
    "        if x and not exp:\n",
    "            exp = '1'\n",
    "        if coef and not x:\n",
    "            exp = '0'\n",
    "\n",
    "        try:\n",
    "            c[int(exp)] = c[int(exp)] + float(coef)\n",
    "        except KeyError:\n",
    "            c[int (exp)] = float(coef)\n",
    "\n",
    "    grado = max(c)\n",
    "    coeficientes = [0.0] * (grado + 1)\n",
    "\n",
    "    for g, v in c.items():\n",
    "        coeficientes[g] = v\n",
    "    coeficientes.reverse()\n",
    "\n",
    "    if coeficientes[0] < 0:\n",
    "        coeficientes = max_grado_positivo(coeficientes)\n",
    "\n",
    "    return coeficientes\n",
    "\n",
    "\n",
    "def max_grado_positivo(valores):\n",
    "    coeficientes = [i * (-1) for i in valores]\n",
    "    return coeficientes\n",
    "\n",
    "def intervalo_negativo(valores):\n",
    "    resultado = list.copy(valores)\n",
    "\n",
    "    if len(valores) % 2 == 0:  # si tiene una cantidad par de coeficientes significa que el grado es impar\n",
    "        i = 0\n",
    "        resultado = max_grado_positivo(valores)\n",
    "    else:\n",
    "        i = 1\n",
    "\n",
    "    for v in range(i, len(resultado) - 1, 2):\n",
    "        resultado[v] = resultado[v] * (-1)\n",
    "\n",
    "    return resultado"
   ]
  },
  {
   "cell_type": "markdown",
   "metadata": {},
   "source": [
    "### Algoritmo de Descartes"
   ]
  },
  {
   "cell_type": "markdown",
   "metadata": {},
   "source": [
    "` aux_descartes (valores): ` Implementación del método de descartes para buscar máximo número de raíces"
   ]
  },
  {
   "cell_type": "code",
   "execution_count": 3,
   "metadata": {},
   "outputs": [],
   "source": [
    "def aux_descartes(valores):\n",
    "    valor = valores[0]\n",
    "    contador = 0\n",
    "\n",
    "    for n in valores[1:]:\n",
    "        if valor * n < 0:\n",
    "            valor = n\n",
    "            contador = contador + 1\n",
    "\n",
    "    return contador"
   ]
  },
  {
   "cell_type": "markdown",
   "metadata": {},
   "source": [
    "` descartes(valores) ` Método auxiliar de Descartes para calcular la cantidad de raíces tanto en el intervalo positivo como en el negativo"
   ]
  },
  {
   "cell_type": "code",
   "execution_count": 4,
   "metadata": {},
   "outputs": [],
   "source": [
    "def descartes (valores):\n",
    "    result_pos = aux_descartes(valores)\n",
    "    result_neg = aux_descartes(intervalo_negativo(valores))\n",
    "\n",
    "    return ( [i for i in range(result_pos, 0, -2) ] ), ( [i for i in range(result_neg, 0, -2) ] ) "
   ]
  },
  {
   "cell_type": "markdown",
   "metadata": {},
   "source": [
    "# Inserción de datos:"
   ]
  },
  {
   "cell_type": "markdown",
   "metadata": {},
   "source": [
    "Insertar la función siguiendo la nomenclatura dada"
   ]
  },
  {
   "cell_type": "code",
   "execution_count": 5,
   "metadata": {},
   "outputs": [],
   "source": [
    "f = \"4x^3-6x^2+1\""
   ]
  },
  {
   "cell_type": "markdown",
   "metadata": {},
   "source": [
    "# Salida de datos:"
   ]
  },
  {
   "cell_type": "code",
   "execution_count": 6,
   "metadata": {},
   "outputs": [
    {
     "name": "stdout",
     "output_type": "stream",
     "text": [
      "Descartes aplicado en intervalo positivo -> m=2\n",
      "Descartes aplicado en intervalo negativo -> m=1\n"
     ]
    }
   ],
   "source": [
    "f_coeficientes = coeficientes_polinomio(f)\n",
    "\n",
    "pos_interval, neg_interval = descartes(f_coeficientes)\n",
    "\n",
    "print(f'Descartes aplicado en intervalo positivo -> m={pos_interval[0]}')\n",
    "print(f'Descartes aplicado en intervalo negativo -> m={neg_interval[0]}')"
   ]
  }
 ],
 "metadata": {
  "interpreter": {
   "hash": "50a1c7f7f999c358e0b5259763df47a04f976b7989cc44fe344baf2ec3d120ee"
  },
  "kernelspec": {
   "display_name": "Python 3 (ipykernel)",
   "language": "python",
   "name": "python3"
  },
  "language_info": {
   "codemirror_mode": {
    "name": "ipython",
    "version": 3
   },
   "file_extension": ".py",
   "mimetype": "text/x-python",
   "name": "python",
   "nbconvert_exporter": "python",
   "pygments_lexer": "ipython3",
   "version": "3.11.4"
  }
 },
 "nbformat": 4,
 "nbformat_minor": 4
}
