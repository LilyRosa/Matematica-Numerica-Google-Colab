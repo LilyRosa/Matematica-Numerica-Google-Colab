{
 "cells": [
  {
   "cell_type": "markdown",
   "metadata": {},
   "source": [
    "<a href=\"https://colab.research.google.com/github/LilyRosa/Matematica-Numerica-Google-Colab/blob/main/notebooks/cap2/resolucion-ecuaciones-algebraicas/Biseccion.ipynb\" target=\"_parent\"><img src=\"https://colab.research.google.com/assets/colab-badge.svg\" alt=\"Open In Colab\"/></a>"
   ]
  },
  {
   "cell_type": "code",
   "execution_count": 1,
   "metadata": {},
   "outputs": [],
   "source": [
    "import pandas as pd\n",
    "import math"
   ]
  },
  {
   "cell_type": "markdown",
   "metadata": {},
   "source": [
    "# Método de Bisección"
   ]
  },
  {
   "cell_type": "markdown",
   "metadata": {},
   "source": [
    "Método iterativo de división de intervalos. El método consiste en aproximar la raíz de la ecuación como el punto intermedio del intervalo $[a,b]$\n",
    "\n",
    "**Hipótesis**:\n",
    "- En $[a ,b]$ la ecuación posee raíz única\n",
    "- $f(x)$ es continua en $[a, b]$\n",
    "- $f(a) * f(b) < 0$"
   ]
  },
  {
   "cell_type": "markdown",
   "metadata": {},
   "source": [
    "## Implementación"
   ]
  },
  {
   "cell_type": "markdown",
   "metadata": {},
   "source": [
    "### Clase Auxiliar de Resultado de Bisección"
   ]
  },
  {
   "cell_type": "code",
   "execution_count": 2,
   "metadata": {},
   "outputs": [],
   "source": [
    "class ResultadoBiseccion:\n",
    "    def __init__(self, a, b, x, fx, fa, fb, error):\n",
    "        self.a = a\n",
    "        self.b = b\n",
    "        self.x = x\n",
    "        self.fx = fx\n",
    "        self.fa = fa\n",
    "        self.fb = fb\n",
    "        self.error = error"
   ]
  },
  {
   "cell_type": "markdown",
   "metadata": {},
   "source": [
    "### Algoritmo de Bisección"
   ]
  },
  {
   "cell_type": "markdown",
   "metadata": {},
   "source": [
    "` biseccion(f, a, b, tol): ` Implementación del método de bisección para aproximar raíces en un intervalo dado\n",
    "\n",
    "**Parámetros**:\n",
    "\n",
    "- ` f ` : función $f(x)$ a evaluar\n",
    "- ` a ` : define el extremo inferior $a$ del intervalo $[a,b]$\n",
    "- ` b ` : define el extremo superior $b$ del intervalo $[a,b]$\n",
    "- ` tol ` : cota para el error absoluto"
   ]
  },
  {
   "cell_type": "code",
   "execution_count": 3,
   "metadata": {},
   "outputs": [],
   "source": [
    "def biseccion(f, a, b, tol):\n",
    "    if a > b:\n",
    "        raise ValueError(\"Intervalo mal definido\")\n",
    "    if f(a) * f(b) >= 0.0:\n",
    "        raise ValueError(\"La función debe cambiar de signo en el intervalo\")\n",
    "    if tol <= 0:\n",
    "        raise ValueError(\"La cota de error debe ser un número positivo\")\n",
    "\n",
    "    retorno = [[]]\n",
    "    mitad = (a + b) / 2\n",
    "    condicion = True\n",
    "\n",
    "    while condicion:\n",
    "        f_a = f(a)\n",
    "        f_b = f(b)\n",
    "        f_mitad = f(mitad)\n",
    "        error = (b - a) / 2\n",
    "\n",
    "        retorno[0].append(ResultadoBiseccion(a, b, mitad, f_mitad, f_a, f_b, error))\n",
    "\n",
    "        if error < tol:\n",
    "            retorno.append(mitad)\n",
    "            condicion = False\n",
    "        elif f_a * f_mitad > 0:\n",
    "            a = mitad\n",
    "        elif f_a * f_mitad < 0:\n",
    "            b = mitad\n",
    "        mitad = (a + b) / 2\n",
    "\n",
    "    return retorno"
   ]
  },
  {
   "cell_type": "markdown",
   "metadata": {},
   "source": [
    "### Métodos Auxiliares"
   ]
  },
  {
   "cell_type": "code",
   "execution_count": 4,
   "metadata": {},
   "outputs": [],
   "source": [
    "def convertir_resultados(lista_resultados_biseccion):\n",
    "    lista = []\n",
    "    for r in lista_resultados_biseccion:\n",
    "        l = []\n",
    "        l.append('{:.7f}'.format(r.a))\n",
    "        l.append('{:.7f}'.format(r.x))\n",
    "        l.append('{:.7f}'.format(r.b))\n",
    "        l.append('{:.7f}'.format(r.fa))\n",
    "        l.append('{:.7f}'.format(r.fx))\n",
    "        l.append('{:.7f}'.format(r.fb))\n",
    "        l.append('{:.7f}'.format(r.error))\n",
    "        lista.append(l)\n",
    "\n",
    "    df = pd.DataFrame(data=lista, columns=['a', 'x', 'b', 'f(a)', 'f(x)', 'f(b)', 'Em(x)'])\n",
    "    df = df.reset_index(drop=True)\n",
    "    df.index = df.index + 1\n",
    "    df.index.name = 'Iteración'\n",
    "    return df"
   ]
  },
  {
   "cell_type": "markdown",
   "metadata": {},
   "source": [
    "# Inserción de datos"
   ]
  },
  {
   "cell_type": "code",
   "execution_count": 5,
   "metadata": {},
   "outputs": [],
   "source": [
    "f = lambda x : x**2 - math.e**x\n",
    "\n",
    "a = -1\n",
    "\n",
    "b = 0\n",
    "\n",
    "tol = 0.0005 "
   ]
  },
  {
   "cell_type": "markdown",
   "metadata": {},
   "source": [
    "# Salida de datos"
   ]
  },
  {
   "cell_type": "markdown",
   "metadata": {},
   "source": [
    "## Raíz hallada"
   ]
  },
  {
   "cell_type": "code",
   "execution_count": 8,
   "metadata": {},
   "outputs": [
    {
     "name": "stdout",
     "output_type": "stream",
     "text": [
      "Raíz hallada con método de Bisección: -0.7036133\n"
     ]
    }
   ],
   "source": [
    "r = biseccion(f, a, b, tol)\n",
    "print('Raíz hallada con método de Bisección: {:.7f}'.format(r[1]))"
   ]
  },
  {
   "cell_type": "markdown",
   "metadata": {},
   "source": [
    "## Procedimiento del algoritmo de Bisección"
   ]
  },
  {
   "cell_type": "code",
   "execution_count": 7,
   "metadata": {},
   "outputs": [
    {
     "data": {
      "text/html": [
       "<div>\n",
       "<style scoped>\n",
       "    .dataframe tbody tr th:only-of-type {\n",
       "        vertical-align: middle;\n",
       "    }\n",
       "\n",
       "    .dataframe tbody tr th {\n",
       "        vertical-align: top;\n",
       "    }\n",
       "\n",
       "    .dataframe thead th {\n",
       "        text-align: right;\n",
       "    }\n",
       "</style>\n",
       "<table border=\"1\" class=\"dataframe\">\n",
       "  <thead>\n",
       "    <tr style=\"text-align: right;\">\n",
       "      <th></th>\n",
       "      <th>a</th>\n",
       "      <th>x</th>\n",
       "      <th>b</th>\n",
       "      <th>f(a)</th>\n",
       "      <th>f(x)</th>\n",
       "      <th>f(b)</th>\n",
       "      <th>Em(x)</th>\n",
       "    </tr>\n",
       "    <tr>\n",
       "      <th>Iteración</th>\n",
       "      <th></th>\n",
       "      <th></th>\n",
       "      <th></th>\n",
       "      <th></th>\n",
       "      <th></th>\n",
       "      <th></th>\n",
       "      <th></th>\n",
       "    </tr>\n",
       "  </thead>\n",
       "  <tbody>\n",
       "    <tr>\n",
       "      <th>1</th>\n",
       "      <td>-1.0000000</td>\n",
       "      <td>-0.5000000</td>\n",
       "      <td>0.0000000</td>\n",
       "      <td>0.6321206</td>\n",
       "      <td>-0.3565307</td>\n",
       "      <td>-1.0000000</td>\n",
       "      <td>0.5000000</td>\n",
       "    </tr>\n",
       "    <tr>\n",
       "      <th>2</th>\n",
       "      <td>-1.0000000</td>\n",
       "      <td>-0.7500000</td>\n",
       "      <td>-0.5000000</td>\n",
       "      <td>0.6321206</td>\n",
       "      <td>0.0901334</td>\n",
       "      <td>-0.3565307</td>\n",
       "      <td>0.2500000</td>\n",
       "    </tr>\n",
       "    <tr>\n",
       "      <th>3</th>\n",
       "      <td>-0.7500000</td>\n",
       "      <td>-0.6250000</td>\n",
       "      <td>-0.5000000</td>\n",
       "      <td>0.0901334</td>\n",
       "      <td>-0.1446364</td>\n",
       "      <td>-0.3565307</td>\n",
       "      <td>0.1250000</td>\n",
       "    </tr>\n",
       "    <tr>\n",
       "      <th>4</th>\n",
       "      <td>-0.7500000</td>\n",
       "      <td>-0.6875000</td>\n",
       "      <td>-0.6250000</td>\n",
       "      <td>0.0901334</td>\n",
       "      <td>-0.0301753</td>\n",
       "      <td>-0.1446364</td>\n",
       "      <td>0.0625000</td>\n",
       "    </tr>\n",
       "    <tr>\n",
       "      <th>5</th>\n",
       "      <td>-0.7500000</td>\n",
       "      <td>-0.7187500</td>\n",
       "      <td>-0.6875000</td>\n",
       "      <td>0.0901334</td>\n",
       "      <td>0.0292405</td>\n",
       "      <td>-0.0301753</td>\n",
       "      <td>0.0312500</td>\n",
       "    </tr>\n",
       "    <tr>\n",
       "      <th>6</th>\n",
       "      <td>-0.7187500</td>\n",
       "      <td>-0.7031250</td>\n",
       "      <td>-0.6875000</td>\n",
       "      <td>0.0292405</td>\n",
       "      <td>-0.0006511</td>\n",
       "      <td>-0.0301753</td>\n",
       "      <td>0.0156250</td>\n",
       "    </tr>\n",
       "    <tr>\n",
       "      <th>7</th>\n",
       "      <td>-0.7187500</td>\n",
       "      <td>-0.7109375</td>\n",
       "      <td>-0.7031250</td>\n",
       "      <td>0.0292405</td>\n",
       "      <td>0.0142486</td>\n",
       "      <td>-0.0006511</td>\n",
       "      <td>0.0078125</td>\n",
       "    </tr>\n",
       "    <tr>\n",
       "      <th>8</th>\n",
       "      <td>-0.7109375</td>\n",
       "      <td>-0.7070312</td>\n",
       "      <td>-0.7031250</td>\n",
       "      <td>0.0142486</td>\n",
       "      <td>0.0067873</td>\n",
       "      <td>-0.0006511</td>\n",
       "      <td>0.0039062</td>\n",
       "    </tr>\n",
       "    <tr>\n",
       "      <th>9</th>\n",
       "      <td>-0.7070312</td>\n",
       "      <td>-0.7050781</td>\n",
       "      <td>-0.7031250</td>\n",
       "      <td>0.0067873</td>\n",
       "      <td>0.0030652</td>\n",
       "      <td>-0.0006511</td>\n",
       "      <td>0.0019531</td>\n",
       "    </tr>\n",
       "    <tr>\n",
       "      <th>10</th>\n",
       "      <td>-0.7050781</td>\n",
       "      <td>-0.7041016</td>\n",
       "      <td>-0.7031250</td>\n",
       "      <td>0.0030652</td>\n",
       "      <td>0.0012063</td>\n",
       "      <td>-0.0006511</td>\n",
       "      <td>0.0009766</td>\n",
       "    </tr>\n",
       "    <tr>\n",
       "      <th>11</th>\n",
       "      <td>-0.7041016</td>\n",
       "      <td>-0.7036133</td>\n",
       "      <td>-0.7031250</td>\n",
       "      <td>0.0012063</td>\n",
       "      <td>0.0002774</td>\n",
       "      <td>-0.0006511</td>\n",
       "      <td>0.0004883</td>\n",
       "    </tr>\n",
       "  </tbody>\n",
       "</table>\n",
       "</div>"
      ],
      "text/plain": [
       "                    a           x           b       f(a)        f(x)  \\\n",
       "Iteración                                                              \n",
       "1          -1.0000000  -0.5000000   0.0000000  0.6321206  -0.3565307   \n",
       "2          -1.0000000  -0.7500000  -0.5000000  0.6321206   0.0901334   \n",
       "3          -0.7500000  -0.6250000  -0.5000000  0.0901334  -0.1446364   \n",
       "4          -0.7500000  -0.6875000  -0.6250000  0.0901334  -0.0301753   \n",
       "5          -0.7500000  -0.7187500  -0.6875000  0.0901334   0.0292405   \n",
       "6          -0.7187500  -0.7031250  -0.6875000  0.0292405  -0.0006511   \n",
       "7          -0.7187500  -0.7109375  -0.7031250  0.0292405   0.0142486   \n",
       "8          -0.7109375  -0.7070312  -0.7031250  0.0142486   0.0067873   \n",
       "9          -0.7070312  -0.7050781  -0.7031250  0.0067873   0.0030652   \n",
       "10         -0.7050781  -0.7041016  -0.7031250  0.0030652   0.0012063   \n",
       "11         -0.7041016  -0.7036133  -0.7031250  0.0012063   0.0002774   \n",
       "\n",
       "                 f(b)      Em(x)  \n",
       "Iteración                         \n",
       "1          -1.0000000  0.5000000  \n",
       "2          -0.3565307  0.2500000  \n",
       "3          -0.3565307  0.1250000  \n",
       "4          -0.1446364  0.0625000  \n",
       "5          -0.0301753  0.0312500  \n",
       "6          -0.0301753  0.0156250  \n",
       "7          -0.0006511  0.0078125  \n",
       "8          -0.0006511  0.0039062  \n",
       "9          -0.0006511  0.0019531  \n",
       "10         -0.0006511  0.0009766  \n",
       "11         -0.0006511  0.0004883  "
      ]
     },
     "execution_count": 7,
     "metadata": {},
     "output_type": "execute_result"
    }
   ],
   "source": [
    "convertir_resultados(r[0])"
   ]
  }
 ],
 "metadata": {
  "interpreter": {
   "hash": "50a1c7f7f999c358e0b5259763df47a04f976b7989cc44fe344baf2ec3d120ee"
  },
  "kernelspec": {
   "display_name": "Python 3 (ipykernel)",
   "language": "python",
   "name": "python3"
  },
  "language_info": {
   "codemirror_mode": {
    "name": "ipython",
    "version": 3
   },
   "file_extension": ".py",
   "mimetype": "text/x-python",
   "name": "python",
   "nbconvert_exporter": "python",
   "pygments_lexer": "ipython3",
   "version": "3.11.4"
  }
 },
 "nbformat": 4,
 "nbformat_minor": 4
}
