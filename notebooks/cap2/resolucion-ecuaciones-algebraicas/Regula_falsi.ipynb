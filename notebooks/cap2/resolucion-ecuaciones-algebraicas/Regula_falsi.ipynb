{
 "cells": [
  {
   "cell_type": "markdown",
   "metadata": {},
   "source": [
    "<a href=\"https://colab.research.google.com/github/LilyRosa/Matematica-Numerica-Google-Colab/blob/main/notebooks/cap2/resolucion-ecuaciones-algebraicas/Regula_falsi.ipynb\" target=\"_parent\"><img src=\"https://colab.research.google.com/assets/colab-badge.svg\" alt=\"Open In Colab\"/></a>"
   ]
  },
  {
   "cell_type": "code",
   "execution_count": 1,
   "metadata": {},
   "outputs": [],
   "source": [
    "import math\n",
    "import pandas as pd"
   ]
  },
  {
   "cell_type": "markdown",
   "metadata": {},
   "source": [
    "# Método de Regula-Falsi"
   ]
  },
  {
   "cell_type": "markdown",
   "metadata": {},
   "source": [
    "Método iterativo de división de intervalos. El método consiste en aproximar la raíz de la ecuación como el punto de intersección del segmento $AB$ con el eje $x$.\n",
    "\n",
    "**Hipótesis**:\n",
    "- En $[a ,b]$ la ecuación posee una raíz\n",
    "- $f(x)$ es continua en $[a, b]$\n",
    "- $f(a) * f(b) < 0$"
   ]
  },
  {
   "cell_type": "markdown",
   "metadata": {},
   "source": [
    "## Implementación"
   ]
  },
  {
   "cell_type": "markdown",
   "metadata": {},
   "source": [
    "### Clase Auxiliar de Resultado de Regula Falsi"
   ]
  },
  {
   "cell_type": "code",
   "execution_count": 2,
   "metadata": {},
   "outputs": [],
   "source": [
    "class ResultadoRegulaFalsi:\n",
    "    def __init__(self, a, b, x, fx, fa, fb, error, primera_iter):\n",
    "        self.a = a\n",
    "        self.b = b\n",
    "        self.x = x\n",
    "        self.fx = fx\n",
    "        self.fa = fa\n",
    "        self.fb = fb\n",
    "        self.error = error\n",
    "        self.primera_iter = primera_iter"
   ]
  },
  {
   "cell_type": "markdown",
   "metadata": {},
   "source": [
    "### Algoritmo de Regula Falsi"
   ]
  },
  {
   "cell_type": "markdown",
   "metadata": {},
   "source": [
    "` regula_falsi(f, a, b, tol): ` Implementación del método de Regula Falsi para aproximar raíces en un intervalo\n",
    "dado\n",
    "\n",
    "**Parámetros**:\n",
    "\n",
    "- ` f ` : función $f(x)$ a evaluar\n",
    "- ` a ` : define el extremo inferior $a$ del intervalo $[a,b]$\n",
    "- ` b ` : define el extremo superior $b$ del intervalo $[a,b]$\n",
    "- ` tol ` : cota para el error absoluto"
   ]
  },
  {
   "cell_type": "code",
   "execution_count": 3,
   "metadata": {},
   "outputs": [],
   "source": [
    "def regula_falsi(f, a, b, tol):\n",
    "    if a > b:\n",
    "        raise ValueError(\"Intervalo mal definido\")\n",
    "    if f(a) * f(b) >= 0.0:\n",
    "        raise ValueError(\"La función debe cambiar de signo en el intervalo\")\n",
    "    if tol <= 0:\n",
    "        raise ValueError(\"La cota de error debe ser un número positivo\")\n",
    "\n",
    "    retorno = [[]]\n",
    "    primera_iter = True\n",
    "    ultimo_x = 0\n",
    "    x = 0.0\n",
    "    condicion = True\n",
    "\n",
    "    while condicion:\n",
    "        f_a = f(a)\n",
    "        f_b = f(b)\n",
    "\n",
    "        x = a - (b - a) * f_a / (f_b - f_a)\n",
    "        f_x = f(x)\n",
    "        error = abs(x - ultimo_x)\n",
    "\n",
    "        retorno[0].append(ResultadoRegulaFalsi(a, b, x, f_x, f_a, f_b, error, primera_iter))\n",
    "\n",
    "        if f_a * f_x < 0:\n",
    "            b = x\n",
    "        elif f_a * f_x > 0:\n",
    "            a = x\n",
    "\n",
    "        ultimo_x = x\n",
    "        condicion = error > tol\n",
    "        primera_iter = False\n",
    "\n",
    "    retorno.append(x)\n",
    "    return retorno"
   ]
  },
  {
   "cell_type": "markdown",
   "metadata": {},
   "source": [
    "### Métodos Auxiliares"
   ]
  },
  {
   "cell_type": "code",
   "execution_count": 4,
   "metadata": {},
   "outputs": [],
   "source": [
    "def convertir_resultados(lista_resultados_regula_falsi):\n",
    "    lista = []\n",
    "    for r in lista_resultados_regula_falsi:\n",
    "        l = ['{:.7f}'.format(r.a), '{:.7f}'.format(r.x), '{:.7f}'.format(r.b), '{:.7f}'.format(r.fa),\n",
    "             '{:.7f}'.format(r.fx), '{:.7f}'.format(r.fb)]\n",
    "        if r.primera_iter:\n",
    "            l.append('-------')\n",
    "        else:\n",
    "            l.append('{:.7f}'.format(r.error))\n",
    "        lista.append(l)\n",
    "\n",
    "    df = pd.DataFrame(data=lista, columns=['a', 'x', 'b', 'f(a)', 'f(x)', 'f(b)', 'Em(x)'])\n",
    "    df = df.reset_index(drop=True)\n",
    "    df.index = df.index + 1\n",
    "    df.index.name = 'Iteración'\n",
    "    return df"
   ]
  },
  {
   "cell_type": "markdown",
   "metadata": {},
   "source": [
    "# Inserción de datos"
   ]
  },
  {
   "cell_type": "markdown",
   "metadata": {},
   "source": [
    "**Parámetros**:\n",
    "\n",
    "- ` f ` : función $f(x)$ a evaluar\n",
    "- ` a ` : define el extremo inferior $a$ del intervalo $[a,b]$\n",
    "- ` b ` : define el extremo superior $b$ del intervalo $[a,b]$\n",
    "- ` tol ` : cota para el error absoluto"
   ]
  },
  {
   "cell_type": "code",
   "execution_count": 5,
   "metadata": {},
   "outputs": [],
   "source": [
    "f = lambda x : x**2 - math.e**x\n",
    "\n",
    "a = -1\n",
    "\n",
    "b = 0\n",
    "\n",
    "tol = 0.0005"
   ]
  },
  {
   "cell_type": "markdown",
   "metadata": {},
   "source": [
    "# Salida de datos"
   ]
  },
  {
   "cell_type": "markdown",
   "metadata": {},
   "source": [
    "## Raíz hallada"
   ]
  },
  {
   "cell_type": "code",
   "execution_count": 6,
   "metadata": {},
   "outputs": [
    {
     "name": "stdout",
     "output_type": "stream",
     "text": [
      "Raíz hallada con método de Regula Falsi: -0.7034548\n"
     ]
    }
   ],
   "source": [
    "r = regula_falsi(f, a, b, tol)\n",
    "print('Raíz hallada con método de Regula Falsi: {:.7f}'.format(r[1]))"
   ]
  },
  {
   "cell_type": "markdown",
   "metadata": {},
   "source": [
    "## Procedimiento del algoritmo de Regula Falsi"
   ]
  },
  {
   "cell_type": "code",
   "execution_count": 7,
   "metadata": {},
   "outputs": [
    {
     "data": {
      "text/html": [
       "<div>\n",
       "<style scoped>\n",
       "    .dataframe tbody tr th:only-of-type {\n",
       "        vertical-align: middle;\n",
       "    }\n",
       "\n",
       "    .dataframe tbody tr th {\n",
       "        vertical-align: top;\n",
       "    }\n",
       "\n",
       "    .dataframe thead th {\n",
       "        text-align: right;\n",
       "    }\n",
       "</style>\n",
       "<table border=\"1\" class=\"dataframe\">\n",
       "  <thead>\n",
       "    <tr style=\"text-align: right;\">\n",
       "      <th></th>\n",
       "      <th>a</th>\n",
       "      <th>x</th>\n",
       "      <th>b</th>\n",
       "      <th>f(a)</th>\n",
       "      <th>f(x)</th>\n",
       "      <th>f(b)</th>\n",
       "      <th>Em(x)</th>\n",
       "    </tr>\n",
       "    <tr>\n",
       "      <th>Iteración</th>\n",
       "      <th></th>\n",
       "      <th></th>\n",
       "      <th></th>\n",
       "      <th></th>\n",
       "      <th></th>\n",
       "      <th></th>\n",
       "      <th></th>\n",
       "    </tr>\n",
       "  </thead>\n",
       "  <tbody>\n",
       "    <tr>\n",
       "      <th>1</th>\n",
       "      <td>-1.0000000</td>\n",
       "      <td>-0.6126998</td>\n",
       "      <td>0.0000000</td>\n",
       "      <td>0.6321206</td>\n",
       "      <td>-0.1664848</td>\n",
       "      <td>-1.0000000</td>\n",
       "      <td>-------</td>\n",
       "    </tr>\n",
       "    <tr>\n",
       "      <th>2</th>\n",
       "      <td>-1.0000000</td>\n",
       "      <td>-0.6934401</td>\n",
       "      <td>-0.6126998</td>\n",
       "      <td>0.6321206</td>\n",
       "      <td>-0.0189944</td>\n",
       "      <td>-0.1664848</td>\n",
       "      <td>0.0807402</td>\n",
       "    </tr>\n",
       "    <tr>\n",
       "      <th>3</th>\n",
       "      <td>-1.0000000</td>\n",
       "      <td>-0.7023831</td>\n",
       "      <td>-0.6934401</td>\n",
       "      <td>0.6321206</td>\n",
       "      <td>-0.0020613</td>\n",
       "      <td>-0.0189944</td>\n",
       "      <td>0.0089430</td>\n",
       "    </tr>\n",
       "    <tr>\n",
       "      <th>4</th>\n",
       "      <td>-1.0000000</td>\n",
       "      <td>-0.7033504</td>\n",
       "      <td>-0.7023831</td>\n",
       "      <td>0.6321206</td>\n",
       "      <td>-0.0002225</td>\n",
       "      <td>-0.0020613</td>\n",
       "      <td>0.0009674</td>\n",
       "    </tr>\n",
       "    <tr>\n",
       "      <th>5</th>\n",
       "      <td>-1.0000000</td>\n",
       "      <td>-0.7034548</td>\n",
       "      <td>-0.7033504</td>\n",
       "      <td>0.6321206</td>\n",
       "      <td>-0.0000240</td>\n",
       "      <td>-0.0002225</td>\n",
       "      <td>0.0001044</td>\n",
       "    </tr>\n",
       "  </tbody>\n",
       "</table>\n",
       "</div>"
      ],
      "text/plain": [
       "                    a           x           b       f(a)        f(x)  \\\n",
       "Iteración                                                              \n",
       "1          -1.0000000  -0.6126998   0.0000000  0.6321206  -0.1664848   \n",
       "2          -1.0000000  -0.6934401  -0.6126998  0.6321206  -0.0189944   \n",
       "3          -1.0000000  -0.7023831  -0.6934401  0.6321206  -0.0020613   \n",
       "4          -1.0000000  -0.7033504  -0.7023831  0.6321206  -0.0002225   \n",
       "5          -1.0000000  -0.7034548  -0.7033504  0.6321206  -0.0000240   \n",
       "\n",
       "                 f(b)      Em(x)  \n",
       "Iteración                         \n",
       "1          -1.0000000    -------  \n",
       "2          -0.1664848  0.0807402  \n",
       "3          -0.0189944  0.0089430  \n",
       "4          -0.0020613  0.0009674  \n",
       "5          -0.0002225  0.0001044  "
      ]
     },
     "execution_count": 7,
     "metadata": {},
     "output_type": "execute_result"
    }
   ],
   "source": [
    "convertir_resultados(r[0])"
   ]
  }
 ],
 "metadata": {
  "interpreter": {
   "hash": "50a1c7f7f999c358e0b5259763df47a04f976b7989cc44fe344baf2ec3d120ee"
  },
  "kernelspec": {
   "display_name": "Python 3 (ipykernel)",
   "language": "python",
   "name": "python3"
  },
  "language_info": {
   "codemirror_mode": {
    "name": "ipython",
    "version": 3
   },
   "file_extension": ".py",
   "mimetype": "text/x-python",
   "name": "python",
   "nbconvert_exporter": "python",
   "pygments_lexer": "ipython3",
   "version": "3.11.4"
  }
 },
 "nbformat": 4,
 "nbformat_minor": 4
}
