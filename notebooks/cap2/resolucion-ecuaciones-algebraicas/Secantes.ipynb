{
 "cells": [
  {
   "cell_type": "markdown",
   "metadata": {},
   "source": [
    "<a href=\"https://colab.research.google.com/github/LilyRosa/Matematica-Numerica-Google-Colab/blob/main/notebooks/cap2/resolucion-ecuaciones-algebraicas/Secantes.ipynb\" target=\"_parent\"><img src=\"https://colab.research.google.com/assets/colab-badge.svg\" alt=\"Open In Colab\"/></a>"
   ]
  },
  {
   "cell_type": "code",
   "execution_count": 1,
   "metadata": {},
   "outputs": [],
   "source": [
    "import pandas as pd\n",
    "import math"
   ]
  },
  {
   "cell_type": "markdown",
   "metadata": {},
   "source": [
    "# Método de Secantes"
   ]
  },
  {
   "cell_type": "markdown",
   "metadata": {},
   "source": [
    "Método iterativo de puntos. El método es una modificación de Newton-Raphson para eliminar la necesidad de utilizar la función derivada, sustituyendo la pendiente de una tangente por la pendiente de una secante. Las aproximaciones no hay que tomarlas obligatoriamente a un mismo lado de la raíz, ni en un orden específico.\n",
    "\n",
    "**Hipótesis**:\n",
    "- En $[a ,b]$ la ecuación posee raíz única\n",
    "- $f(x)$ es continua en $[a, b]$\n",
    "- $f(a) * f(b) < 0$\n",
    "- $f'(x)$ y $f''(x)$ son continuas y no nulas en $[a,b]$"
   ]
  },
  {
   "cell_type": "markdown",
   "metadata": {},
   "source": [
    "## Implementación"
   ]
  },
  {
   "cell_type": "markdown",
   "metadata": {},
   "source": [
    "### Clase Auxiliar de Resultado de Secantes"
   ]
  },
  {
   "cell_type": "code",
   "execution_count": 2,
   "metadata": {},
   "outputs": [],
   "source": [
    "class ResultadoSecantes:\n",
    "    def __init__(self, x, fx, error, primera_iter):\n",
    "        self.x = x\n",
    "        self.fx = fx\n",
    "        self.error = error\n",
    "        self.primera_iter = primera_iter"
   ]
  },
  {
   "cell_type": "markdown",
   "metadata": {},
   "source": [
    "### Algoritmo de Secantes"
   ]
  },
  {
   "cell_type": "markdown",
   "metadata": {},
   "source": [
    "` secantes(f, x0, x1, tol): ` Implementación del método Secantes para aproximar raíces con dos valores iniciales.\n",
    "\n",
    "**Parámetros**:\n",
    "\n",
    "- ` f ` : función $f(x)$ a evaluar\n",
    "- ` x0 ` : define uno de los extremos $x_0$ del intervalo\n",
    "- ` x1 ` : define uno de los extremos $x_1$ del intervalo\n",
    "- ` tol ` : cota para el error absoluto"
   ]
  },
  {
   "cell_type": "code",
   "execution_count": 3,
   "metadata": {},
   "outputs": [],
   "source": [
    "def secantes(f, x0, x1, tol):\n",
    "    if f(x0) * f(x1) >= 0.0:\n",
    "        raise ValueError(\"La función debe cambiar de signo en el intervalo\")\n",
    "    if tol <= 0:\n",
    "        raise ValueError(\"La cota de error debe ser un número positivo\")\n",
    "\n",
    "    f_x0 = f(x0)\n",
    "    f_x1 = f(x1)\n",
    "    error = tol + 1\n",
    "    xr = 0.0\n",
    "    retorno = [[]]\n",
    "    retorno[0].append(ResultadoSecantes(x0, f_x0, 0, True))\n",
    "    retorno[0].append(ResultadoSecantes(x1, f_x1, 0, True))\n",
    "\n",
    "    while error > tol:\n",
    "        xr = x1 - ((x1 - x0) / (f_x1 - f_x0)) * f_x1\n",
    "        f_xr = f(xr)\n",
    "        error = abs(xr - x1)\n",
    "        retorno[0].append(ResultadoSecantes(xr, f_xr, error, False))\n",
    "\n",
    "        x0 = x1\n",
    "        f_x0 = f(x0)\n",
    "        x1 = xr\n",
    "        f_x1 = f(x1)\n",
    "\n",
    "    retorno.append(xr)\n",
    "    return retorno"
   ]
  },
  {
   "cell_type": "markdown",
   "metadata": {},
   "source": [
    "### Métodos Auxiliares"
   ]
  },
  {
   "cell_type": "code",
   "execution_count": 4,
   "metadata": {},
   "outputs": [],
   "source": [
    "def convertir_resultados(lista_resultados_secantes):\n",
    "    lista = []\n",
    "    for r in lista_resultados_secantes:\n",
    "        l = ['{:.7f}'.format(r.x), '{:.7f}'.format(r.fx)]\n",
    "        if r.primera_iter:\n",
    "            l.append('---------')\n",
    "        else:\n",
    "            l.append('{:.7f}'.format(r.error))\n",
    "        lista.append(l)\n",
    "\n",
    "    df = pd.DataFrame(data=lista, columns=['xi', 'f(x)', 'Em(x)'])\n",
    "    df.index.name = 'Iteración'\n",
    "    return df"
   ]
  },
  {
   "cell_type": "markdown",
   "metadata": {},
   "source": [
    "# Inserción de datos"
   ]
  },
  {
   "cell_type": "code",
   "execution_count": 5,
   "metadata": {},
   "outputs": [],
   "source": [
    "f = lambda x : x*math.e**x-2\n",
    "\n",
    "x0 = 1\n",
    "\n",
    "x1 = 0\n",
    "\n",
    "tol = 0.0005"
   ]
  },
  {
   "cell_type": "markdown",
   "metadata": {},
   "source": [
    "# Salida de datos"
   ]
  },
  {
   "cell_type": "markdown",
   "metadata": {},
   "source": [
    "## Raíz hallada"
   ]
  },
  {
   "cell_type": "code",
   "execution_count": 6,
   "metadata": {},
   "outputs": [
    {
     "name": "stdout",
     "output_type": "stream",
     "text": [
      "Raíz hallada con método de Secantes: 0.8526055\n"
     ]
    }
   ],
   "source": [
    "r = secantes(f, x0, x1, tol)\n",
    "print('Raíz hallada con método de Secantes: {:.7f}'.format(r[1]))"
   ]
  },
  {
   "cell_type": "markdown",
   "metadata": {},
   "source": [
    "## Procedimiento del algoritmo de Secantes"
   ]
  },
  {
   "cell_type": "code",
   "execution_count": 7,
   "metadata": {},
   "outputs": [
    {
     "data": {
      "text/html": [
       "<div>\n",
       "<style scoped>\n",
       "    .dataframe tbody tr th:only-of-type {\n",
       "        vertical-align: middle;\n",
       "    }\n",
       "\n",
       "    .dataframe tbody tr th {\n",
       "        vertical-align: top;\n",
       "    }\n",
       "\n",
       "    .dataframe thead th {\n",
       "        text-align: right;\n",
       "    }\n",
       "</style>\n",
       "<table border=\"1\" class=\"dataframe\">\n",
       "  <thead>\n",
       "    <tr style=\"text-align: right;\">\n",
       "      <th></th>\n",
       "      <th>xi</th>\n",
       "      <th>f(x)</th>\n",
       "      <th>Em(x)</th>\n",
       "    </tr>\n",
       "    <tr>\n",
       "      <th>Iteración</th>\n",
       "      <th></th>\n",
       "      <th></th>\n",
       "      <th></th>\n",
       "    </tr>\n",
       "  </thead>\n",
       "  <tbody>\n",
       "    <tr>\n",
       "      <th>0</th>\n",
       "      <td>1.0000000</td>\n",
       "      <td>0.7182818</td>\n",
       "      <td>---------</td>\n",
       "    </tr>\n",
       "    <tr>\n",
       "      <th>1</th>\n",
       "      <td>0.0000000</td>\n",
       "      <td>-2.0000000</td>\n",
       "      <td>---------</td>\n",
       "    </tr>\n",
       "    <tr>\n",
       "      <th>2</th>\n",
       "      <td>0.7357589</td>\n",
       "      <td>-0.4644232</td>\n",
       "      <td>0.7357589</td>\n",
       "    </tr>\n",
       "    <tr>\n",
       "      <th>3</th>\n",
       "      <td>0.9582834</td>\n",
       "      <td>0.4984529</td>\n",
       "      <td>0.2225245</td>\n",
       "    </tr>\n",
       "    <tr>\n",
       "      <th>4</th>\n",
       "      <td>0.8430889</td>\n",
       "      <td>-0.0410549</td>\n",
       "      <td>0.1151945</td>\n",
       "    </tr>\n",
       "    <tr>\n",
       "      <th>5</th>\n",
       "      <td>0.8518549</td>\n",
       "      <td>-0.0032601</td>\n",
       "      <td>0.0087659</td>\n",
       "    </tr>\n",
       "    <tr>\n",
       "      <th>6</th>\n",
       "      <td>0.8526110</td>\n",
       "      <td>0.0000240</td>\n",
       "      <td>0.0007561</td>\n",
       "    </tr>\n",
       "    <tr>\n",
       "      <th>7</th>\n",
       "      <td>0.8526055</td>\n",
       "      <td>-0.0000000</td>\n",
       "      <td>0.0000055</td>\n",
       "    </tr>\n",
       "  </tbody>\n",
       "</table>\n",
       "</div>"
      ],
      "text/plain": [
       "                  xi        f(x)      Em(x)\n",
       "Iteración                                  \n",
       "0          1.0000000   0.7182818  ---------\n",
       "1          0.0000000  -2.0000000  ---------\n",
       "2          0.7357589  -0.4644232  0.7357589\n",
       "3          0.9582834   0.4984529  0.2225245\n",
       "4          0.8430889  -0.0410549  0.1151945\n",
       "5          0.8518549  -0.0032601  0.0087659\n",
       "6          0.8526110   0.0000240  0.0007561\n",
       "7          0.8526055  -0.0000000  0.0000055"
      ]
     },
     "execution_count": 7,
     "metadata": {},
     "output_type": "execute_result"
    }
   ],
   "source": [
    "convertir_resultados(r[0])"
   ]
  }
 ],
 "metadata": {
  "interpreter": {
   "hash": "50a1c7f7f999c358e0b5259763df47a04f976b7989cc44fe344baf2ec3d120ee"
  },
  "kernelspec": {
   "display_name": "Python 3 (ipykernel)",
   "language": "python",
   "name": "python3"
  },
  "language_info": {
   "codemirror_mode": {
    "name": "ipython",
    "version": 3
   },
   "file_extension": ".py",
   "mimetype": "text/x-python",
   "name": "python",
   "nbconvert_exporter": "python",
   "pygments_lexer": "ipython3",
   "version": "3.11.4"
  }
 },
 "nbformat": 4,
 "nbformat_minor": 4
}
