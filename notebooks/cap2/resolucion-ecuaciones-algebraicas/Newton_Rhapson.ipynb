{
 "cells": [
  {
   "cell_type": "markdown",
   "metadata": {},
   "source": [
    "<a href=\"https://colab.research.google.com/github/LilyRosa/Matematica-Numerica-Google-Colab/blob/main/notebooks/cap2/resolucion-ecuaciones-algebraicas/Newton_Rhapson.ipynb\" target=\"_parent\"><img src=\"https://colab.research.google.com/assets/colab-badge.svg\" alt=\"Open In Colab\"/></a>"
   ]
  },
  {
   "cell_type": "code",
   "execution_count": 1,
   "metadata": {},
   "outputs": [],
   "source": [
    "import pandas as pd\n",
    "from sympy import *\n",
    "from sympy.abc import x\n",
    "init_printing(use_latex=\"mathjax\")"
   ]
  },
  {
   "cell_type": "markdown",
   "metadata": {},
   "source": [
    "# Método de Newton-Raphson"
   ]
  },
  {
   "cell_type": "markdown",
   "metadata": {},
   "source": [
    "Método iterativo de puntos. El método consiste en aproximar la raíz de la ecuación como el punto de intersección con el eje $x$, de la recta tangente a la función $x_0$\n",
    "\n",
    "**Hipótesis**:\n",
    "- En $[a ,b]$ la ecuación posee raíz única\n",
    "- $f(x)$ es continua en $[a, b]$\n",
    "- $f(a) * f(b) < 0$\n",
    "- $f'(x)$ y $f''(x)$ son continuas y no nulas en $[a,b]$\n",
    "- $x_0 \\in [a,b]: f(x_0)f''(x_0)>0$"
   ]
  },
  {
   "cell_type": "markdown",
   "metadata": {},
   "source": [
    "## Implementación"
   ]
  },
  {
   "cell_type": "markdown",
   "metadata": {},
   "source": [
    "### Clase Auxiliar de Resultado de Newton-Raphson"
   ]
  },
  {
   "cell_type": "code",
   "execution_count": 2,
   "metadata": {},
   "outputs": [],
   "source": [
    "class ResultadoNewtonRaphson:\n",
    "    def __init__(self, x, fx, dxfx, error, primera_iter):\n",
    "        self.x = x\n",
    "        self.fx = fx\n",
    "        self.dxfx = dxfx\n",
    "        self.error = error\n",
    "        self.primera_iter = primera_iter"
   ]
  },
  {
   "cell_type": "markdown",
   "metadata": {},
   "source": [
    "### Algoritmo de Newton-Raphson"
   ]
  },
  {
   "cell_type": "markdown",
   "metadata": {},
   "source": [
    "` newton_raphson(f, x0, tol): ` Implementación del método Newton-Raphson para aproximar raíces\n",
    "\n",
    "**Parámetros**:\n",
    "\n",
    "- ` f ` : función $f(x)$ a evaluar\n",
    "- ` x0 ` : define el punto de partida $x_0$ del método\n",
    "- ` tol ` : cota para el error absoluto"
   ]
  },
  {
   "cell_type": "code",
   "execution_count": 3,
   "metadata": {},
   "outputs": [],
   "source": [
    "def newton_raphson(f, x_0, tol):\n",
    "    x_anterior = x_0\n",
    "    condition = True\n",
    "    x_r = 0.0\n",
    "    f1 = lambdify(x, f)\n",
    "    f_dx = lambdify(x, diff(f, x))\n",
    "    f = f1\n",
    "    retorno = [[ResultadoNewtonRaphson(x_0, f(x_0), f_dx(x_0), 0, True)]]\n",
    "\n",
    "    while condition:\n",
    "        x_r = x_anterior - f(x_anterior) / f_dx(x_anterior)\n",
    "        error = abs(x_r - x_anterior)\n",
    "\n",
    "        retorno[0].append(ResultadoNewtonRaphson(x_r, f(x_r), f_dx(x_r), error, False))\n",
    "        x_anterior = x_r\n",
    "        condition = error > tol\n",
    "\n",
    "    retorno.append(x_r)\n",
    "    return retorno"
   ]
  },
  {
   "cell_type": "markdown",
   "metadata": {},
   "source": [
    "### Métodos Auxiliares"
   ]
  },
  {
   "cell_type": "code",
   "execution_count": 4,
   "metadata": {},
   "outputs": [],
   "source": [
    "def convertir_resultados(lista_resultados_nr):\n",
    "    lista = []\n",
    "    for r in lista_resultados_nr:\n",
    "        l = ['{:.7f}'.format(r.x), '{:.7f}'.format(r.fx), '{:.7f}'.format(r.dxfx)]\n",
    "        if r.primera_iter:\n",
    "            l.append('---------')\n",
    "        else:\n",
    "            l.append('{:.7f}'.format(r.error))\n",
    "        lista.append(l)\n",
    "\n",
    "    df = pd.DataFrame(data=lista, columns=['xi', 'f(x)', 'f\\'(x)', 'Em(x)'])\n",
    "    df.index.name = 'Iteración'\n",
    "    return df"
   ]
  },
  {
   "cell_type": "markdown",
   "metadata": {},
   "source": [
    "# Inserción de datos"
   ]
  },
  {
   "cell_type": "markdown",
   "metadata": {},
   "source": [
    "**Parámetros**:\n",
    "\n",
    "- ` f ` : función $f(x)$ a evaluar\n",
    "- ` x0 ` : define el punto de partida $x_0$ del método\n",
    "- ` tol ` : cota para el error absoluto\n",
    "\n",
    "**Nota**: La documentación de la creación de funciones en simpy se encuentra en [este enlace](https://colab.research.google.com/github/LilyRosa/Matematica-Numerica-Google-Colab/blob/main/notebooks/tutoriales-generales/Sympy%20Funciones.ipynb)"
   ]
  },
  {
   "cell_type": "code",
   "execution_count": 5,
   "metadata": {},
   "outputs": [],
   "source": [
    "f = x*exp(x)-2\n",
    "x0 = 1\n",
    "tol = 0.0005"
   ]
  },
  {
   "cell_type": "markdown",
   "metadata": {},
   "source": [
    "# Salida de datos"
   ]
  },
  {
   "cell_type": "markdown",
   "metadata": {},
   "source": [
    "## Función introducida $f(x)$"
   ]
  },
  {
   "cell_type": "code",
   "execution_count": 6,
   "metadata": {},
   "outputs": [
    {
     "data": {
      "text/latex": [
       "$\\displaystyle x e^{x} - 2$"
      ],
      "text/plain": [
       "   x    \n",
       "x⋅ℯ  - 2"
      ]
     },
     "execution_count": 6,
     "metadata": {},
     "output_type": "execute_result"
    }
   ],
   "source": [
    "f"
   ]
  },
  {
   "cell_type": "markdown",
   "metadata": {},
   "source": [
    "## Derivada de la función introducida $f'(x)$"
   ]
  },
  {
   "cell_type": "code",
   "execution_count": 7,
   "metadata": {},
   "outputs": [
    {
     "data": {
      "text/latex": [
       "$\\displaystyle x e^{x} + e^{x}$"
      ],
      "text/plain": [
       "   x    x\n",
       "x⋅ℯ  + ℯ "
      ]
     },
     "execution_count": 7,
     "metadata": {},
     "output_type": "execute_result"
    }
   ],
   "source": [
    "f_dx = diff(f,x)\n",
    "f_dx"
   ]
  },
  {
   "cell_type": "code",
   "execution_count": 8,
   "metadata": {},
   "outputs": [
    {
     "data": {
      "text/latex": [
       "$\\displaystyle \\left(x + 1\\right) e^{x}$"
      ],
      "text/plain": [
       "         x\n",
       "(x + 1)⋅ℯ "
      ]
     },
     "execution_count": 8,
     "metadata": {},
     "output_type": "execute_result"
    }
   ],
   "source": [
    "f_dx = simplify(f_dx)\n",
    "f_dx"
   ]
  },
  {
   "cell_type": "markdown",
   "metadata": {},
   "source": [
    "## Raíz hallada"
   ]
  },
  {
   "cell_type": "code",
   "execution_count": 9,
   "metadata": {},
   "outputs": [
    {
     "name": "stdout",
     "output_type": "stream",
     "text": [
      "Raíz hallada con método de Newton-Raphson: 0.8526055\n"
     ]
    }
   ],
   "source": [
    "r = newton_raphson(f, x0, tol)\n",
    "print('Raíz hallada con método de Newton-Raphson: {:.7f}'.format(r[1]))"
   ]
  },
  {
   "cell_type": "markdown",
   "metadata": {},
   "source": [
    "## Procedimiento del algoritmo de Newton-Raphson"
   ]
  },
  {
   "cell_type": "code",
   "execution_count": 10,
   "metadata": {},
   "outputs": [
    {
     "data": {
      "text/html": [
       "<div>\n",
       "<style scoped>\n",
       "    .dataframe tbody tr th:only-of-type {\n",
       "        vertical-align: middle;\n",
       "    }\n",
       "\n",
       "    .dataframe tbody tr th {\n",
       "        vertical-align: top;\n",
       "    }\n",
       "\n",
       "    .dataframe thead th {\n",
       "        text-align: right;\n",
       "    }\n",
       "</style>\n",
       "<table border=\"1\" class=\"dataframe\">\n",
       "  <thead>\n",
       "    <tr style=\"text-align: right;\">\n",
       "      <th></th>\n",
       "      <th>xi</th>\n",
       "      <th>f(x)</th>\n",
       "      <th>f'(x)</th>\n",
       "      <th>Em(x)</th>\n",
       "    </tr>\n",
       "    <tr>\n",
       "      <th>Iteración</th>\n",
       "      <th></th>\n",
       "      <th></th>\n",
       "      <th></th>\n",
       "      <th></th>\n",
       "    </tr>\n",
       "  </thead>\n",
       "  <tbody>\n",
       "    <tr>\n",
       "      <th>0</th>\n",
       "      <td>1.0000000</td>\n",
       "      <td>0.7182818</td>\n",
       "      <td>5.4365637</td>\n",
       "      <td>---------</td>\n",
       "    </tr>\n",
       "    <tr>\n",
       "      <th>1</th>\n",
       "      <td>0.8678794</td>\n",
       "      <td>0.0671627</td>\n",
       "      <td>4.4490173</td>\n",
       "      <td>0.1321206</td>\n",
       "    </tr>\n",
       "    <tr>\n",
       "      <th>2</th>\n",
       "      <td>0.8527834</td>\n",
       "      <td>0.0007731</td>\n",
       "      <td>4.3469411</td>\n",
       "      <td>0.0150961</td>\n",
       "    </tr>\n",
       "    <tr>\n",
       "      <th>3</th>\n",
       "      <td>0.8526055</td>\n",
       "      <td>0.0000001</td>\n",
       "      <td>4.3457509</td>\n",
       "      <td>0.0001778</td>\n",
       "    </tr>\n",
       "  </tbody>\n",
       "</table>\n",
       "</div>"
      ],
      "text/plain": [
       "                  xi       f(x)      f'(x)      Em(x)\n",
       "Iteración                                            \n",
       "0          1.0000000  0.7182818  5.4365637  ---------\n",
       "1          0.8678794  0.0671627  4.4490173  0.1321206\n",
       "2          0.8527834  0.0007731  4.3469411  0.0150961\n",
       "3          0.8526055  0.0000001  4.3457509  0.0001778"
      ]
     },
     "execution_count": 10,
     "metadata": {},
     "output_type": "execute_result"
    }
   ],
   "source": [
    "convertir_resultados(r[0])"
   ]
  }
 ],
 "metadata": {
  "interpreter": {
   "hash": "50a1c7f7f999c358e0b5259763df47a04f976b7989cc44fe344baf2ec3d120ee"
  },
  "kernelspec": {
   "display_name": "Python 3 (ipykernel)",
   "language": "python",
   "name": "python3"
  },
  "language_info": {
   "codemirror_mode": {
    "name": "ipython",
    "version": 3
   },
   "file_extension": ".py",
   "mimetype": "text/x-python",
   "name": "python",
   "nbconvert_exporter": "python",
   "pygments_lexer": "ipython3",
   "version": "3.11.4"
  }
 },
 "nbformat": 4,
 "nbformat_minor": 4
}
