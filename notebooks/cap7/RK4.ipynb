{
 "cells": [
  {
   "cell_type": "markdown",
   "metadata": {},
   "source": [
    "<a href=\"https://colab.research.google.com/github/LilyRosa/Matematica-Numerica-Google-Colab/blob/main/notebooks/cap7/RK4.ipynb\" target=\"_parent\"><img src=\"https://colab.research.google.com/assets/colab-badge.svg\" alt=\"Open In Colab\"/></a>"
   ]
  },
  {
   "cell_type": "code",
   "execution_count": 1,
   "metadata": {},
   "outputs": [],
   "source": [
    "import pandas as pd\n",
    "from numpy import *"
   ]
  },
  {
   "cell_type": "markdown",
   "metadata": {},
   "source": [
    "# Método de Runge-Kutta de orden 4 (RK4)"
   ]
  },
  {
   "cell_type": "markdown",
   "metadata": {},
   "source": [
    "El algoritmo obtiene la solución aproximada del problema de Cauchy:\n",
    "$$\\frac{dy}{dx} = f(x, y)$$ \n",
    "$$y(x_{0} ) = y_{0}$$\n",
    "En un intervalo $x_{0} \\leq x \\leq x_{F} $ con paso $h > 0$"
   ]
  },
  {
   "cell_type": "markdown",
   "metadata": {},
   "source": [
    "## Implementación"
   ]
  },
  {
   "cell_type": "markdown",
   "metadata": {},
   "source": [
    "### Clases Auxiliares de Resultado de RK4"
   ]
  },
  {
   "cell_type": "code",
   "execution_count": 2,
   "metadata": {},
   "outputs": [],
   "source": [
    "class ResultadoRK4:\n",
    "    def __init__(self, resultado, lista):\n",
    "        self.lista = lista\n",
    "        self.resultado = resultado\n",
    "\n",
    "class FilaRK4:\n",
    "    def __init__(self, xn, yn, k1, k2, k3, k4):\n",
    "        self.xn = xn\n",
    "        self.yn = yn\n",
    "        self.k1 = k1\n",
    "        self.k2 = k2\n",
    "        self.k3 = k3\n",
    "        self.k4 = k4"
   ]
  },
  {
   "cell_type": "markdown",
   "metadata": {},
   "source": [
    "### Algoritmo de RK4"
   ]
  },
  {
   "cell_type": "markdown",
   "metadata": {},
   "source": [
    "``` rk4(f, x0, y0, xf, h): ``` Implementación del método de runge-kutta de orden 4 para la resolución de ecuaciones diferenciales ordinarias\n",
    "\n",
    "### Parámetros\n",
    "\n",
    "- ``` f ``` : define la función $f(x,y)$\n",
    "- ``` x0 ``` : condición inicial $x_0$\n",
    "- ``` y0 ``` : condición inicial $y_0$\n",
    "- ``` xf ``` : valor final $x_F$\n",
    "- ``` h ``` : paso(x<sub>n</sub>  - x<sub>n - 1</sub>)"
   ]
  },
  {
   "cell_type": "code",
   "execution_count": 3,
   "metadata": {},
   "outputs": [],
   "source": [
    "def rk4(f, x0, y0, xf, h):\n",
    "    lista = []\n",
    "    resultado = 0\n",
    "\n",
    "    xn = x0\n",
    "    yn = y0\n",
    "    k1 = h * f(xn, yn)\n",
    "    k2 = h * f(xn + 0.5 * h, yn + 0.5 * k1)\n",
    "    k3 = h * f(xn + 0.5 * h, yn + 0.5 * k2)\n",
    "    k4 = h * f(xn + h, yn + k3)\n",
    "\n",
    "    lista.append(FilaRK4(xn, yn, k1, k2, k3, k4))\n",
    "\n",
    "    while xn < xf:\n",
    "        k1 = h * f(xn, yn)\n",
    "        k2 = h * f(xn + 1 / 2 * h, yn + 1 / 2 * k1)\n",
    "        k3 = h * f(xn + 1 / 2 * h, yn + 1 / 2 * k2)\n",
    "        k4 = h * f(xn + h, yn + k3)\n",
    "        xn = xn + h\n",
    "        yn = yn + 1 / 6 * (k1 + 2 * k2 + 2 * k3 + k4)\n",
    "\n",
    "        resultado = yn\n",
    "        lista.append(FilaRK4(xn, yn, k1, k2, k3, k4))\n",
    "        \n",
    "    return ResultadoRK4(resultado, lista)"
   ]
  },
  {
   "cell_type": "markdown",
   "metadata": {},
   "source": [
    "### Error por doble cálculo"
   ]
  },
  {
   "cell_type": "markdown",
   "metadata": {},
   "source": [
    "``` error_rk4(f, x0, y0, xf, h): ``` Estimación del error por doble cálculo para el método de RK4\n",
    "\n",
    "### Parámetros\n",
    "\n",
    "- ``` f ``` : define la función $f(x,y)$\n",
    "- ``` x0 ``` : condición inicial $x_0$\n",
    "- ``` y0 ``` : condición inicial $y_0$\n",
    "- ``` xf ``` : valor final $x_F$\n",
    "- ``` h ``` : paso(x<sub>n</sub>  - x<sub>n - 1</sub>)"
   ]
  },
  {
   "cell_type": "code",
   "execution_count": 4,
   "metadata": {},
   "outputs": [],
   "source": [
    "def error_rk4(f, x0, y0, xf, h):\n",
    "    yh = rk4(f, x0, y0, xf, h).lista\n",
    "    y2h = rk4(f, x0, y0, xf, 2*h).lista\n",
    "    j = 0\n",
    "    error = -10000000\n",
    "    for i in range(len(y2h)):\n",
    "        error = max((yh[2*i].yn-y2h[i].yn)/15,error)\n",
    "    return error"
   ]
  },
  {
   "cell_type": "markdown",
   "metadata": {},
   "source": [
    "### Métodos Auxiliares"
   ]
  },
  {
   "cell_type": "code",
   "execution_count": 5,
   "metadata": {},
   "outputs": [],
   "source": [
    "def convertir_resultados(lista_resultados):\n",
    "    lista = []\n",
    "    for r in lista_resultados:\n",
    "        l = []\n",
    "        l.append('{:.7f}'.format(r.xn))\n",
    "        l.append('{:.7f}'.format(r.yn))\n",
    "        l.append('{:.7f}'.format(r.k1))\n",
    "        l.append('{:.7f}'.format(r.k2))\n",
    "        l.append('{:.7f}'.format(r.k3))\n",
    "        l.append('{:.7f}'.format(r.k4))\n",
    "        lista.append(l)\n",
    "\n",
    "    df = pd.DataFrame(data=lista, columns=['xn', 'yn', 'k1', 'k2', 'k3', 'k4'])\n",
    "    df.index.name = 'Iteración'\n",
    "    return df"
   ]
  },
  {
   "cell_type": "markdown",
   "metadata": {},
   "source": [
    "# Entrada de datos"
   ]
  },
  {
   "cell_type": "code",
   "execution_count": 6,
   "metadata": {},
   "outputs": [],
   "source": [
    "f = lambda x, y : x/y\n",
    "x0 = 1.0\n",
    "y0 = 2.0\n",
    "xf = 3\n",
    "h = 0.5"
   ]
  },
  {
   "cell_type": "markdown",
   "metadata": {},
   "source": [
    "# Salida de datos"
   ]
  },
  {
   "cell_type": "code",
   "execution_count": 7,
   "metadata": {},
   "outputs": [
    {
     "data": {
      "text/html": [
       "<div>\n",
       "<style scoped>\n",
       "    .dataframe tbody tr th:only-of-type {\n",
       "        vertical-align: middle;\n",
       "    }\n",
       "\n",
       "    .dataframe tbody tr th {\n",
       "        vertical-align: top;\n",
       "    }\n",
       "\n",
       "    .dataframe thead th {\n",
       "        text-align: right;\n",
       "    }\n",
       "</style>\n",
       "<table border=\"1\" class=\"dataframe\">\n",
       "  <thead>\n",
       "    <tr style=\"text-align: right;\">\n",
       "      <th></th>\n",
       "      <th>xn</th>\n",
       "      <th>yn</th>\n",
       "      <th>k1</th>\n",
       "      <th>k2</th>\n",
       "      <th>k3</th>\n",
       "      <th>k4</th>\n",
       "    </tr>\n",
       "    <tr>\n",
       "      <th>Iteración</th>\n",
       "      <th></th>\n",
       "      <th></th>\n",
       "      <th></th>\n",
       "      <th></th>\n",
       "      <th></th>\n",
       "      <th></th>\n",
       "    </tr>\n",
       "  </thead>\n",
       "  <tbody>\n",
       "    <tr>\n",
       "      <th>0</th>\n",
       "      <td>1.0000000</td>\n",
       "      <td>2.0000000</td>\n",
       "      <td>0.2500000</td>\n",
       "      <td>0.2941176</td>\n",
       "      <td>0.2910959</td>\n",
       "      <td>0.3273543</td>\n",
       "    </tr>\n",
       "    <tr>\n",
       "      <th>1</th>\n",
       "      <td>1.5000000</td>\n",
       "      <td>2.2912969</td>\n",
       "      <td>0.2500000</td>\n",
       "      <td>0.2941176</td>\n",
       "      <td>0.2910959</td>\n",
       "      <td>0.3273543</td>\n",
       "    </tr>\n",
       "    <tr>\n",
       "      <th>2</th>\n",
       "      <td>2.0000000</td>\n",
       "      <td>2.6457627</td>\n",
       "      <td>0.3273255</td>\n",
       "      <td>0.3564213</td>\n",
       "      <td>0.3543217</td>\n",
       "      <td>0.3779834</td>\n",
       "    </tr>\n",
       "    <tr>\n",
       "      <th>3</th>\n",
       "      <td>2.5000000</td>\n",
       "      <td>3.0413925</td>\n",
       "      <td>0.3779628</td>\n",
       "      <td>0.3968612</td>\n",
       "      <td>0.3955427</td>\n",
       "      <td>0.4110077</td>\n",
       "    </tr>\n",
       "    <tr>\n",
       "      <th>4</th>\n",
       "      <td>3.0000000</td>\n",
       "      <td>3.4641119</td>\n",
       "      <td>0.4109960</td>\n",
       "      <td>0.4234821</td>\n",
       "      <td>0.4226694</td>\n",
       "      <td>0.4330177</td>\n",
       "    </tr>\n",
       "  </tbody>\n",
       "</table>\n",
       "</div>"
      ],
      "text/plain": [
       "                  xn         yn         k1         k2         k3         k4\n",
       "Iteración                                                                  \n",
       "0          1.0000000  2.0000000  0.2500000  0.2941176  0.2910959  0.3273543\n",
       "1          1.5000000  2.2912969  0.2500000  0.2941176  0.2910959  0.3273543\n",
       "2          2.0000000  2.6457627  0.3273255  0.3564213  0.3543217  0.3779834\n",
       "3          2.5000000  3.0413925  0.3779628  0.3968612  0.3955427  0.4110077\n",
       "4          3.0000000  3.4641119  0.4109960  0.4234821  0.4226694  0.4330177"
      ]
     },
     "execution_count": 7,
     "metadata": {},
     "output_type": "execute_result"
    }
   ],
   "source": [
    "r = rk4(f, x0, y0, xf, h)\n",
    "convertir_resultados(r.lista)"
   ]
  },
  {
   "cell_type": "code",
   "execution_count": 8,
   "metadata": {},
   "outputs": [
    {
     "name": "stdout",
     "output_type": "stream",
     "text": [
      "La solución aproximada es 3.4641118989143855\n",
      "La estimación del error por doble cálculo es 0.0\n"
     ]
    }
   ],
   "source": [
    "print(f\"La solución aproximada es {r.resultado}\")\n",
    "print(f\"La estimación del error por doble cálculo es {error_rk4(f, x0, y0, xf, h)}\")"
   ]
  }
 ],
 "metadata": {
  "interpreter": {
   "hash": "5f1e2b7debabb81cfddc515bc2208cf2c521bebfebb13da0ee988ea546d02c25"
  },
  "kernelspec": {
   "display_name": "Python 3 (ipykernel)",
   "language": "python",
   "name": "python3"
  },
  "language_info": {
   "codemirror_mode": {
    "name": "ipython",
    "version": 3
   },
   "file_extension": ".py",
   "mimetype": "text/x-python",
   "name": "python",
   "nbconvert_exporter": "python",
   "pygments_lexer": "ipython3",
   "version": "3.11.4"
  }
 },
 "nbformat": 4,
 "nbformat_minor": 4
}
