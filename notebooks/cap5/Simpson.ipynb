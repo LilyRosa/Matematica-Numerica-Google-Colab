{
 "cells": [
  {
   "cell_type": "markdown",
   "metadata": {},
   "source": [
    "<a href=\"https://colab.research.google.com/github/LilyRosa/Matematica-Numerica-Google-Colab/blob/main/notebooks/cap5/Simpson.ipynb\" target=\"_parent\"><img src=\"https://colab.research.google.com/assets/colab-badge.svg\" alt=\"Open In Colab\"/></a>"
   ]
  },
  {
   "cell_type": "code",
   "execution_count": 1,
   "metadata": {},
   "outputs": [],
   "source": [
    "import math\n",
    "import pandas as pd\n",
    "from sympy import *\n",
    "from sympy.abc import x,c\n",
    "init_printing(use_latex=\"mathjax\")"
   ]
  },
  {
   "cell_type": "markdown",
   "metadata": {},
   "source": [
    "# Método de Simpson"
   ]
  },
  {
   "cell_type": "markdown",
   "metadata": {},
   "source": [
    "Siendo $f(x)$ continua en $[a,b]$, el intervalo de integración $[a,b]$ será dividido en un número par de subintervalos de amplitud $h$ mediante los puntos $\\{a=x_0, x_1, x_2, ..., x_n =b\\}$. La integral se descompone en $\\frac{n}{2}$ subintervalos:\n",
    "$$ \\int_{a}^{b}f(x)dx = \\int_{x_0}^{x_2}f(x)dx + \\int_{x_2}^{x_4}f(x)dx + \\int_{x_4}^{x_6}f(x)dx + ... + \\int_{x_{n-2}}^{x_n}f(x)dx $$\n",
    "La función $f(x)$ se aproxima a polinomios de grado 2 y cada una de las integrales posee un intervalo integración de longitud $2h$."
   ]
  },
  {
   "cell_type": "markdown",
   "metadata": {},
   "source": [
    "## Implementación"
   ]
  },
  {
   "cell_type": "markdown",
   "metadata": {},
   "source": [
    "### Calcular el paso (h)"
   ]
  },
  {
   "cell_type": "markdown",
   "metadata": {},
   "source": [
    "` calcular_h(a, b, n): ` Permite calcular el paso o $h$\n",
    "\n",
    "**Parámetros**:\n",
    "\n",
    "- ` a ` : Límite inferior del intervalo $a$\n",
    "- ` b ` : Límite superior del intervalo $b$\n",
    "- ` n ` : Cantidad de sub-intervalos $n$"
   ]
  },
  {
   "cell_type": "code",
   "execution_count": 2,
   "metadata": {},
   "outputs": [],
   "source": [
    "def calcular_h(a, b, n):\n",
    "    return (b - a) / n"
   ]
  },
  {
   "cell_type": "markdown",
   "metadata": {},
   "source": [
    "### Algoritmo de Simpson con $f(x)$"
   ]
  },
  {
   "cell_type": "markdown",
   "metadata": {},
   "source": [
    "` simpson(f, a, b, n): ` Calcula la integral definida en $[a,b]$ mediante el método de Simpson con una función dada\n",
    "\n",
    "**Parámetros**:\n",
    "\n",
    "- ` f ` : función $f(x)$ a evaluar\n",
    "- ` a ` : límite inferior del intervalo $a$\n",
    "- ` b ` : límite superior del intervalo $b$\n",
    "- ` n ` : cantidad de sub-intervalos $n$"
   ]
  },
  {
   "cell_type": "code",
   "execution_count": 3,
   "metadata": {},
   "outputs": [],
   "source": [
    "def simpson(f, a, b, n):\n",
    "    h = calcular_h(a, b, n)\n",
    "    f = lambdify(x, f)\n",
    "    resultado = 0\n",
    "    contador = 0\n",
    "\n",
    "    for i in range(n + 1):\n",
    "        if i == 0 or i == n:\n",
    "            resultado += f(contador)\n",
    "        elif i%2 == 0:\n",
    "            resultado += 2 * f(contador)\n",
    "        else:\n",
    "            resultado += 4 * f(contador)\n",
    "        contador += h\n",
    "\n",
    "    return (h/3) * resultado"
   ]
  },
  {
   "cell_type": "markdown",
   "metadata": {},
   "source": [
    "### Algoritmo de Simpson con los puntos $y_i$"
   ]
  },
  {
   "cell_type": "markdown",
   "metadata": {},
   "source": [
    "` simpson2(yi): ` Calcula la integral definida en $[a,b]$ mediante el método de Trapecios con el conjunto de puntos $y_i$\n",
    "\n",
    "**Parámetros**:\n",
    "\n",
    "- ` yi ` : conjunto de puntos $y_i$\n",
    "- ` h  `: paso $h$"
   ]
  },
  {
   "cell_type": "code",
   "execution_count": 4,
   "metadata": {},
   "outputs": [],
   "source": [
    "def simpson2(yi, h):\n",
    "    resultado = 0\n",
    "    n = len(yi)\n",
    "    \n",
    "    for i in range(n):\n",
    "        if i == 0 or i == n-1:\n",
    "            resultado += yi[i]\n",
    "        elif i%2 == 0:\n",
    "            resultado += 2 * yi[i]\n",
    "        else:\n",
    "            resultado += 4 * yi[i]\n",
    "\n",
    "    return (h/3) * resultado"
   ]
  },
  {
   "cell_type": "markdown",
   "metadata": {},
   "source": [
    "### Error de truncamiento"
   ]
  },
  {
   "cell_type": "markdown",
   "metadata": {},
   "source": [
    "` error(f, a, b, n): ` Calcula el error de truncamiento.\n",
    "\n",
    "**Parámetros**:\n",
    "\n",
    "- ` f ` : función $f(x)$ a evaluar\n",
    "- ` a ` : límite inferior del intervalo $a$\n",
    "- ` b ` : límite superior del intervalo $b$\n",
    "- ` n ` : cantidad de sub-intervalos $n$"
   ]
  },
  {
   "cell_type": "code",
   "execution_count": 5,
   "metadata": {},
   "outputs": [],
   "source": [
    "def error(f, a, b, n):\n",
    "    h = calcular_h(a, b, n)\n",
    "    f = simplify(diff(f,x,4)).subs(x,c)\n",
    "    return -((b-a)/180)*h**4*f"
   ]
  },
  {
   "cell_type": "markdown",
   "metadata": {},
   "source": [
    "### Fórmula asintótica del error de truncamiento"
   ]
  },
  {
   "cell_type": "markdown",
   "metadata": {},
   "source": [
    "` error_asin(f, a, b, n): ` Calcula el error de truncamiento con una fórmula asintótica\n",
    "\n",
    "**Parámetros**:\n",
    "\n",
    "- ` f ` : función $f(x)$ a evaluar\n",
    "- ` a ` : límite inferior del intervalo $a$\n",
    "- ` b ` : límite superior del intervalo $b$\n",
    "- ` n ` : cantidad de sub-intervalos $n$"
   ]
  },
  {
   "cell_type": "code",
   "execution_count": 6,
   "metadata": {},
   "outputs": [],
   "source": [
    "def error_asin(f, a, b, n):\n",
    "    h = calcular_h(a, b, n)\n",
    "    f = lambdify(x, diff(f,x,3))\n",
    "    return -((f(b)-f(a))/180)*h**4"
   ]
  },
  {
   "cell_type": "markdown",
   "metadata": {},
   "source": [
    "### Error de truncamiento por doble cálculo"
   ]
  },
  {
   "cell_type": "markdown",
   "metadata": {},
   "source": [
    "` error_doble_calculo(f, a, b, n): ` Calcula el error de truncamiento por doble cálculo.\n",
    "\n",
    "**Parámetros**:\n",
    "\n",
    "- ` f ` : función $f(x)$ a evaluar\n",
    "- ` a ` : límite inferior del intervalo $a$\n",
    "- ` b ` : límite superior del intervalo $b$\n",
    "- ` n ` : cantidad de sub-intervalos $n$"
   ]
  },
  {
   "cell_type": "code",
   "execution_count": 7,
   "metadata": {},
   "outputs": [],
   "source": [
    "def error_doble_calculo(f, a, b, n):\n",
    "    ih = simpson(f, a, b, n)\n",
    "    i2h = simpson(f, a, b, n//2)\n",
    "    return (ih-i2h)/15"
   ]
  },
  {
   "cell_type": "markdown",
   "metadata": {},
   "source": [
    "### Métodos Auxiliares "
   ]
  },
  {
   "cell_type": "code",
   "execution_count": 8,
   "metadata": {},
   "outputs": [],
   "source": [
    "def tabla_xy(f, n):\n",
    "    fx = lambdify(x, f)\n",
    "    lista = []\n",
    "    h = calcular_h(a, b, n)\n",
    "    contador = 0\n",
    "\n",
    "    for _ in range(n + 1):\n",
    "        lista.append(['{:.7f}'.format(contador), '{:.7f}'.format(fx(contador))])\n",
    "        contador += h\n",
    "\n",
    "    df = pd.DataFrame(data=lista, columns=['xi', 'f(x)'])\n",
    "    df.index.name = 'i'\n",
    "    return df"
   ]
  },
  {
   "cell_type": "markdown",
   "metadata": {},
   "source": [
    "# Inserción de datos:\n",
    "> **Nota**: La documentación de la creación de funciones en simpy se encuentra en [este enlace](https://colab.research.google.com/github/LilyRosa/Matematica-Numerica-Google-Colab/blob/main/notebooks/tutoriales-generales/Sympy%20Funciones.ipynb)"
   ]
  },
  {
   "cell_type": "code",
   "execution_count": 9,
   "metadata": {},
   "outputs": [],
   "source": [
    "# Datos para trapecios con una función dada\n",
    "f = sin(x)\n",
    "a = 0\n",
    "b = math.pi\n",
    "n = 10\n",
    "\n",
    "# Datos para trapecios con un conjunto de puntos yi\n",
    "yi = [0.0, 0.3090170, 0.5877853, 0.8090170, 0.9510565, 1.0000000, 0.9510565, 0.8090170, 0.5877853, 0.3090170, 0.0]\n",
    "h = 0.3141592653589793"
   ]
  },
  {
   "cell_type": "markdown",
   "metadata": {},
   "source": [
    "# Salida de datos:"
   ]
  },
  {
   "cell_type": "markdown",
   "metadata": {},
   "source": [
    "## Simpson para una función dada $f(x)$"
   ]
  },
  {
   "cell_type": "markdown",
   "metadata": {},
   "source": [
    "### Tabla de $x_i$<->$fx_i$"
   ]
  },
  {
   "cell_type": "code",
   "execution_count": 10,
   "metadata": {},
   "outputs": [
    {
     "data": {
      "text/html": [
       "<div>\n",
       "<style scoped>\n",
       "    .dataframe tbody tr th:only-of-type {\n",
       "        vertical-align: middle;\n",
       "    }\n",
       "\n",
       "    .dataframe tbody tr th {\n",
       "        vertical-align: top;\n",
       "    }\n",
       "\n",
       "    .dataframe thead th {\n",
       "        text-align: right;\n",
       "    }\n",
       "</style>\n",
       "<table border=\"1\" class=\"dataframe\">\n",
       "  <thead>\n",
       "    <tr style=\"text-align: right;\">\n",
       "      <th></th>\n",
       "      <th>xi</th>\n",
       "      <th>f(x)</th>\n",
       "    </tr>\n",
       "    <tr>\n",
       "      <th>i</th>\n",
       "      <th></th>\n",
       "      <th></th>\n",
       "    </tr>\n",
       "  </thead>\n",
       "  <tbody>\n",
       "    <tr>\n",
       "      <th>0</th>\n",
       "      <td>0.0000000</td>\n",
       "      <td>0.0000000</td>\n",
       "    </tr>\n",
       "    <tr>\n",
       "      <th>1</th>\n",
       "      <td>0.3141593</td>\n",
       "      <td>0.3090170</td>\n",
       "    </tr>\n",
       "    <tr>\n",
       "      <th>2</th>\n",
       "      <td>0.6283185</td>\n",
       "      <td>0.5877853</td>\n",
       "    </tr>\n",
       "    <tr>\n",
       "      <th>3</th>\n",
       "      <td>0.9424778</td>\n",
       "      <td>0.8090170</td>\n",
       "    </tr>\n",
       "    <tr>\n",
       "      <th>4</th>\n",
       "      <td>1.2566371</td>\n",
       "      <td>0.9510565</td>\n",
       "    </tr>\n",
       "    <tr>\n",
       "      <th>5</th>\n",
       "      <td>1.5707963</td>\n",
       "      <td>1.0000000</td>\n",
       "    </tr>\n",
       "    <tr>\n",
       "      <th>6</th>\n",
       "      <td>1.8849556</td>\n",
       "      <td>0.9510565</td>\n",
       "    </tr>\n",
       "    <tr>\n",
       "      <th>7</th>\n",
       "      <td>2.1991149</td>\n",
       "      <td>0.8090170</td>\n",
       "    </tr>\n",
       "    <tr>\n",
       "      <th>8</th>\n",
       "      <td>2.5132741</td>\n",
       "      <td>0.5877853</td>\n",
       "    </tr>\n",
       "    <tr>\n",
       "      <th>9</th>\n",
       "      <td>2.8274334</td>\n",
       "      <td>0.3090170</td>\n",
       "    </tr>\n",
       "    <tr>\n",
       "      <th>10</th>\n",
       "      <td>3.1415927</td>\n",
       "      <td>0.0000000</td>\n",
       "    </tr>\n",
       "  </tbody>\n",
       "</table>\n",
       "</div>"
      ],
      "text/plain": [
       "           xi       f(x)\n",
       "i                       \n",
       "0   0.0000000  0.0000000\n",
       "1   0.3141593  0.3090170\n",
       "2   0.6283185  0.5877853\n",
       "3   0.9424778  0.8090170\n",
       "4   1.2566371  0.9510565\n",
       "5   1.5707963  1.0000000\n",
       "6   1.8849556  0.9510565\n",
       "7   2.1991149  0.8090170\n",
       "8   2.5132741  0.5877853\n",
       "9   2.8274334  0.3090170\n",
       "10  3.1415927  0.0000000"
      ]
     },
     "execution_count": 10,
     "metadata": {},
     "output_type": "execute_result"
    }
   ],
   "source": [
    "tabla_xy(f, n)"
   ]
  },
  {
   "cell_type": "markdown",
   "metadata": {},
   "source": [
    "### Resultados del algoritmo"
   ]
  },
  {
   "cell_type": "code",
   "execution_count": 11,
   "metadata": {},
   "outputs": [
    {
     "name": "stdout",
     "output_type": "stream",
     "text": [
      "El paso h es 0.3141592653589793\n",
      "El resultado del algoritmo de trapecios es 2.0001095173150043\n"
     ]
    }
   ],
   "source": [
    "print(f'El paso h es {calcular_h(a, b, n)}')\n",
    "print(f'El resultado del algoritmo de trapecios es {simpson(f, a, b, n)}')"
   ]
  },
  {
   "cell_type": "markdown",
   "metadata": {},
   "source": [
    "### Error de truncamiento\n",
    "**Nota**: Sustituir $c$ por un valor, tal que $c \\in [a,b]$"
   ]
  },
  {
   "cell_type": "code",
   "execution_count": 12,
   "metadata": {},
   "outputs": [
    {
     "name": "stdout",
     "output_type": "stream",
     "text": [
      "El error de truncamiento es -0.000170010935991823*sin(c)\n"
     ]
    }
   ],
   "source": [
    "print(f'El error de truncamiento es {error(f, a, b, n)}')"
   ]
  },
  {
   "cell_type": "markdown",
   "metadata": {},
   "source": [
    "### Fórmula asintótica del error de truncamiento"
   ]
  },
  {
   "cell_type": "code",
   "execution_count": 13,
   "metadata": {},
   "outputs": [
    {
     "name": "stdout",
     "output_type": "stream",
     "text": [
      "El error de truncamiento con fórmula asintótica es -0.00010823232337111381\n"
     ]
    }
   ],
   "source": [
    "print(f'El error de truncamiento con fórmula asintótica es {error_asin(f, a, b, n)}')"
   ]
  },
  {
   "cell_type": "markdown",
   "metadata": {},
   "source": [
    "### Error de truncamiento por doble cálculo"
   ]
  },
  {
   "cell_type": "code",
   "execution_count": 14,
   "metadata": {},
   "outputs": [
    {
     "name": "stdout",
     "output_type": "stream",
     "text": [
      "El error de truncamiento por doble cálculo es 0.004422927948146605\n"
     ]
    }
   ],
   "source": [
    "print(f'El error de truncamiento por doble cálculo es {error_doble_calculo(f, a, b, n)}')"
   ]
  },
  {
   "cell_type": "markdown",
   "metadata": {},
   "source": [
    "## Trapecios para un conjunto de puntos $y_i$"
   ]
  },
  {
   "cell_type": "markdown",
   "metadata": {},
   "source": [
    "### Resultados del algoritmo"
   ]
  },
  {
   "cell_type": "code",
   "execution_count": 15,
   "metadata": {},
   "outputs": [
    {
     "name": "stdout",
     "output_type": "stream",
     "text": [
      "El paso h es 0.3141592653589793\n",
      "El resultado del algoritmo de trapecios es 2.000109539897854\n"
     ]
    }
   ],
   "source": [
    "print(f'El paso h es {h}')\n",
    "print(f'El resultado del algoritmo de trapecios es {simpson2(yi,h)}')"
   ]
  }
 ],
 "metadata": {
  "interpreter": {
   "hash": "5f1e2b7debabb81cfddc515bc2208cf2c521bebfebb13da0ee988ea546d02c25"
  },
  "kernelspec": {
   "display_name": "Python 3 (ipykernel)",
   "language": "python",
   "name": "python3"
  },
  "language_info": {
   "codemirror_mode": {
    "name": "ipython",
    "version": 3
   },
   "file_extension": ".py",
   "mimetype": "text/x-python",
   "name": "python",
   "nbconvert_exporter": "python",
   "pygments_lexer": "ipython3",
   "version": "3.11.4"
  }
 },
 "nbformat": 4,
 "nbformat_minor": 4
}
